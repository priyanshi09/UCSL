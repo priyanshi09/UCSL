{
 "cells": [
  {
   "cell_type": "markdown",
   "metadata": {},
   "source": [
    "<h1 align='center'>Python Functions</h1>"
   ]
  },
  {
   "cell_type": "markdown",
   "metadata": {},
   "source": [
    "Imagine that you have to open a file, read the contents of the file and close it. Pretty trivial, right? We did that in the exception handling. Now imagine that you have to read ten files, print their output and close it. Now you don't want to sit there and type file i/o operations for every file. what if there are over 50 files and you have to concatenate them to a single file? This is where the functions come in. A function is a block of organized and reusable code in a program that performs a specific task which can be incorporated into a larger program. The advantages of using functions are:\n",
    "\n",
    "- Reuse of code\n",
    "- Reducing duplication of the code\n",
    "- Improving readability and reducing complexity of the code\n",
    "\n",
    "There are two basic types of functions: Built-in functions and user defined functions. We have been using built-in functions for quite some time without actually understanding how a function works. This is the beauty of python. According to Guido van Rossum, all objects in python are first class citizens. Meaning all the objects (like function, strings, integers etc) have equal status. That is they can be assigned to variables, placed in lists, stored in dictionaries, passed as arguments and so forth. We have been doing this the whole time, right? Now lets see how you can create your own functions and call them in your code.\n",
    "\n",
    "## Defining Functions\n",
    "\n",
    "A function is defined using the def keyword followed by the name of the function. The parameters or the arguments should be placed within the parentheses followed by the function name. The code block within every function starts with a colon and should be indented.\n",
    "\n",
    "From here on, I might ask you to write the piece of code using your favorite text editor and execute the code. \n",
    "Example:"
   ]
  },
  {
   "cell_type": "code",
   "execution_count": 1,
   "metadata": {
    "collapsed": false
   },
   "outputs": [
    {
     "name": "stdout",
     "output_type": "stream",
     "text": [
      "\n",
      "Author = Mohit\n",
      "Date = June 20, 2014\n",
      "This is our first script with user-defined functions\n",
      "\n",
      "4 * 5 = 20\n"
     ]
    }
   ],
   "source": [
    "# Create test_func.py file and write the following code\n",
    "'''\n",
    "Author = Mohit\n",
    "Date = June 20, 2014\n",
    "This is our first script with user-defined functions\n",
    "'''\n",
    "def mul(a, b):  # defining a function\n",
    "    print a,'*',b,'=',a * b\n",
    "\n",
    "def info():  # defining a function\n",
    "    return __doc__\n",
    "\n",
    "print info()\n",
    "mul(4, 5)"
   ]
  },
  {
   "cell_type": "markdown",
   "metadata": {},
   "source": [
    "Save the above file and execute it: python test_func.py and you should get an output that looks like above."
   ]
  },
  {
   "cell_type": "markdown",
   "metadata": {},
   "source": [
    "In the above code we have used a keyword return.  A function may or may not have a return value. The job of return is just to return the expression/ object to the the calling function. "
   ]
  },
  {
   "cell_type": "markdown",
   "metadata": {},
   "source": [
    "-------\n",
    "## Exercise\n",
    "\n",
    "Try to execute this code. If there is an error, what do you think caused it? Try rectifying the error.\n",
    "\n",
    "`Create test_func.py file and write the following code`"
   ]
  },
  {
   "cell_type": "code",
   "execution_count": null,
   "metadata": {
    "collapsed": true
   },
   "outputs": [],
   "source": [
    "'''\n",
    "Author = Mohit\n",
    "Date = June 20, 2014\n",
    "This is our first script with user-defined functions\n",
    "'''\n",
    "\n",
    "def mul(a, b):\n",
    "    print info()  # Calling a function from another function\n",
    "    print a,'*',b,'=',a * b\n",
    "\n",
    "def info():\n",
    "    return __doc__"
   ]
  },
  {
   "cell_type": "markdown",
   "metadata": {},
   "source": [
    "## Calling a function\n",
    "\n",
    "Defining a function only gives it a name, specifies the parameters and structures the blocks of code but unless you call the function, the function is never executed. Just like above example, once the basic structure of a function is finalized, the function can be called by just using the function name followed by the arguments/ parameters enclosed in parenthesis. You can also call the function from another function. There are two ways of passing the parameters to the functions.\n",
    "\n",
    "### Pass by Reference\n",
    "\n",
    "All the parameters in the python language are passed by reference. It means if you change what a parameter refers to within a function, the change also reflects back in the calling function. Let's take a look at an example:\n",
    "\n"
   ]
  },
  {
   "cell_type": "code",
   "execution_count": 2,
   "metadata": {
    "collapsed": true
   },
   "outputs": [],
   "source": [
    "def append_list(list1):\n",
    "    list1.append(99)"
   ]
  },
  {
   "cell_type": "code",
   "execution_count": 3,
   "metadata": {
    "collapsed": false
   },
   "outputs": [
    {
     "data": {
      "text/plain": [
       "[1, 2, 3, 4, 5, 99]"
      ]
     },
     "execution_count": 3,
     "metadata": {},
     "output_type": "execute_result"
    }
   ],
   "source": [
    "l1 = [1, 2, 3, 4, 5]\n",
    "append_list(l1)\n",
    "l1"
   ]
  },
  {
   "cell_type": "markdown",
   "metadata": {},
   "source": [
    "Here we are maintaining reference of the passed object and appending values to the same object thus modifying the actual object."
   ]
  },
  {
   "cell_type": "markdown",
   "metadata": {},
   "source": [
    "## Pass by Value"
   ]
  },
  {
   "cell_type": "code",
   "execution_count": 4,
   "metadata": {
    "collapsed": true
   },
   "outputs": [],
   "source": [
    "def remove_list(list1):\n",
    "    del(list1)\n",
    "    list1 = [21, 22, 23, 24, 25]"
   ]
  },
  {
   "cell_type": "code",
   "execution_count": 5,
   "metadata": {
    "collapsed": false
   },
   "outputs": [
    {
     "data": {
      "text/plain": [
       "[1, 2, 3, 4, 5]"
      ]
     },
     "execution_count": 5,
     "metadata": {},
     "output_type": "execute_result"
    }
   ],
   "source": [
    "l1 = [1, 2, 3, 4, 5]\n",
    "remove_list(l1)\n",
    "l1"
   ]
  },
  {
   "cell_type": "markdown",
   "metadata": {},
   "source": [
    "From the above example we can observe that the parameter list1 is local to the function and modifying the list1 does not affect l1. The function basically accomplishes nothing. \n",
    "\n",
    "## Function Arguments\n",
    "\n",
    "A function can be called by using following types of formal arguments\n",
    "\n",
    "- Required arguments\n",
    "- Keyword arguments\n",
    "- Default arguments\n",
    "- Variable-length arguments\n",
    "\n",
    "### Required Arguments:\n",
    "\n",
    "Required arguments are passed to a function in correct positional order. The number of arguments being passed should be equal to the number or arguments expected by the function that is defined. Let's take a look at the example:\n",
    "Example:\n",
    "\n"
   ]
  },
  {
   "cell_type": "code",
   "execution_count": 6,
   "metadata": {
    "collapsed": true
   },
   "outputs": [],
   "source": [
    "# Lame example\n",
    "def info(name, sem):\n",
    "    print 'My name is: ',name\n",
    "    print 'This is semester',int(sem)"
   ]
  },
  {
   "cell_type": "code",
   "execution_count": 7,
   "metadata": {
    "collapsed": false
   },
   "outputs": [
    {
     "name": "stdout",
     "output_type": "stream",
     "text": [
      "My name is:  Mohit\n",
      "This is semester 2\n"
     ]
    }
   ],
   "source": [
    "info('Mohit', '2')"
   ]
  },
  {
   "cell_type": "code",
   "execution_count": 8,
   "metadata": {
    "collapsed": false
   },
   "outputs": [
    {
     "name": "stdout",
     "output_type": "stream",
     "text": [
      "My name is:  2\n",
      "This is semester"
     ]
    },
    {
     "ename": "ValueError",
     "evalue": "invalid literal for int() with base 10: 'Mohit'",
     "output_type": "error",
     "traceback": [
      "\u001b[1;31m---------------------------------------------------------------------------\u001b[0m",
      "\u001b[1;31mValueError\u001b[0m                                Traceback (most recent call last)",
      "\u001b[1;32m<ipython-input-8-f692458a13af>\u001b[0m in \u001b[0;36m<module>\u001b[1;34m()\u001b[0m\n\u001b[1;32m----> 1\u001b[1;33m \u001b[0minfo\u001b[0m\u001b[1;33m(\u001b[0m\u001b[1;36m2\u001b[0m\u001b[1;33m,\u001b[0m \u001b[1;34m'Mohit'\u001b[0m\u001b[1;33m)\u001b[0m\u001b[1;33m\u001b[0m\u001b[0m\n\u001b[0m",
      "\u001b[1;32m<ipython-input-6-32fe472dcf83>\u001b[0m in \u001b[0;36minfo\u001b[1;34m(name, sem)\u001b[0m\n\u001b[0;32m      2\u001b[0m \u001b[1;32mdef\u001b[0m \u001b[0minfo\u001b[0m\u001b[1;33m(\u001b[0m\u001b[0mname\u001b[0m\u001b[1;33m,\u001b[0m \u001b[0msem\u001b[0m\u001b[1;33m)\u001b[0m\u001b[1;33m:\u001b[0m\u001b[1;33m\u001b[0m\u001b[0m\n\u001b[0;32m      3\u001b[0m     \u001b[1;32mprint\u001b[0m \u001b[1;34m'My name is: '\u001b[0m\u001b[1;33m,\u001b[0m\u001b[0mname\u001b[0m\u001b[1;33m\u001b[0m\u001b[0m\n\u001b[1;32m----> 4\u001b[1;33m     \u001b[1;32mprint\u001b[0m \u001b[1;34m'This is semester'\u001b[0m\u001b[1;33m,\u001b[0m\u001b[0mint\u001b[0m\u001b[1;33m(\u001b[0m\u001b[0msem\u001b[0m\u001b[1;33m)\u001b[0m\u001b[1;33m\u001b[0m\u001b[0m\n\u001b[0m",
      "\u001b[1;31mValueError\u001b[0m: invalid literal for int() with base 10: 'Mohit'"
     ]
    }
   ],
   "source": [
    "info(2, 'Mohit')"
   ]
  },
  {
   "cell_type": "markdown",
   "metadata": {},
   "source": [
    "###  Keyword Arguments:\n",
    "\n",
    "Keyword arguments are related to the function calls. When you use keyword arguments in a function call, the caller identifies the arguments by the parameter name. This allows you to skip the arguments or place them out of order because python's interpreter will be able to match the values with parameters. Let's modify the way we are calling the above function.\n",
    "Example:"
   ]
  },
  {
   "cell_type": "code",
   "execution_count": 9,
   "metadata": {
    "collapsed": false
   },
   "outputs": [
    {
     "name": "stdout",
     "output_type": "stream",
     "text": [
      "\n"
     ]
    }
   ],
   "source": [
    "def info(name, sem):\n",
    "    print 'My name is: ',name\n",
    "    print 'This is semester',int(sem)"
   ]
  },
  {
   "cell_type": "code",
   "execution_count": 10,
   "metadata": {
    "collapsed": false
   },
   "outputs": [
    {
     "name": "stdout",
     "output_type": "stream",
     "text": [
      "My name is:  Mohit\n",
      "This is semester 2\n"
     ]
    }
   ],
   "source": [
    "info(sem = 2,  name = 'Mohit')  # The order of the parameter does not matter."
   ]
  },
  {
   "cell_type": "markdown",
   "metadata": {},
   "source": [
    "### Default Arguments:\n",
    "\n",
    "A default argument is an argument that assumes a default value if the value is not provided when the function is called. Let's modify the above example and specify sem = 2 by default.\n",
    "Example:"
   ]
  },
  {
   "cell_type": "code",
   "execution_count": 11,
   "metadata": {
    "collapsed": false
   },
   "outputs": [],
   "source": [
    "def info(name, sem = 2):  # Default argument for semester is 2\n",
    "    print 'My name is: ',name\n",
    "    print 'This is semester',int(sem)"
   ]
  },
  {
   "cell_type": "code",
   "execution_count": 12,
   "metadata": {
    "collapsed": false
   },
   "outputs": [
    {
     "name": "stdout",
     "output_type": "stream",
     "text": [
      "My name is:  Mohit\n",
      "This is semester 2\n"
     ]
    }
   ],
   "source": [
    "info('Mohit', 2)"
   ]
  },
  {
   "cell_type": "code",
   "execution_count": 13,
   "metadata": {
    "collapsed": false
   },
   "outputs": [
    {
     "name": "stdout",
     "output_type": "stream",
     "text": [
      "My name is:  Jack\n",
      "This is semester 2\n"
     ]
    }
   ],
   "source": [
    "info('Jack')  # Not providing second argument."
   ]
  },
  {
   "cell_type": "markdown",
   "metadata": {},
   "source": [
    "### Variable Length Arguments: \n",
    "\n",
    "At some point, you may need to process the function for more than the arguments that you specified when you defined the function. These arguments can be of variable length and are not named in the function definition, unlike required and default arguments. So how do you handle this? Let's take a look at another example:\n",
    "Example:"
   ]
  },
  {
   "cell_type": "code",
   "execution_count": 14,
   "metadata": {
    "collapsed": true
   },
   "outputs": [],
   "source": [
    "def names(course, *names):\n",
    "    print 'Name of course: ',course\n",
    "    print 'Name of students in the course:'\n",
    "    for name in names:\n",
    "        print name"
   ]
  },
  {
   "cell_type": "code",
   "execution_count": 15,
   "metadata": {
    "collapsed": false
   },
   "outputs": [
    {
     "name": "stdout",
     "output_type": "stream",
     "text": [
      "Name of course:  Python\n",
      "Name of students in the course:\n",
      "Jim\n",
      "Jack\n",
      "Mat\n"
     ]
    }
   ],
   "source": [
    "names('Python', 'Jim', 'Jack', 'Mat')"
   ]
  },
  {
   "cell_type": "markdown",
   "metadata": {},
   "source": [
    "An asterisk (*) is placed before the variable name that holds the values of all non keyword variable arguments. This tuple remains empty if no additional arguments are specified during the function call. \n",
    "\n",
    "## Anonymous Functions\n",
    "\n",
    "Anonymous functions do not have a name! They are not declared in the standard manner (using the `def` keyword). To create an anonymous function you use `lambda` keyword. They are part of the functional paradigm incorporated in python.\n",
    "\n",
    "- Lambda forms can take any number of arguments but they return just one value in the form of an expression. They cannot contain commands or multiple expressions. \n",
    "- Lambda functions have their own local namespace (just like regular functions) and cannot access variables other than those in their parameter list or those in the global namespace.\n",
    "- Lambda function cannot be a direct call to print function.\n",
    "\n",
    "**Example:**\n"
   ]
  },
  {
   "cell_type": "code",
   "execution_count": 16,
   "metadata": {
    "collapsed": true
   },
   "outputs": [],
   "source": [
    "mul = lambda a, b: a*b"
   ]
  },
  {
   "cell_type": "code",
   "execution_count": 17,
   "metadata": {
    "collapsed": false
   },
   "outputs": [
    {
     "name": "stdout",
     "output_type": "stream",
     "text": [
      "20\n"
     ]
    }
   ],
   "source": [
    "print mul(4, 5)"
   ]
  },
  {
   "cell_type": "markdown",
   "metadata": {},
   "source": [
    "## Map function\n",
    "**Syntax:** \n",
    "\n",
    "`map(function, iterable)`\n",
    "\n",
    "As the name suggests, `map` applies the `function` to every element in the `iterable`. \n",
    "\n",
    "**Example:**"
   ]
  },
  {
   "cell_type": "code",
   "execution_count": 6,
   "metadata": {
    "collapsed": true
   },
   "outputs": [],
   "source": [
    "numbers = range(1, 10)\n",
    "#numbers = 0,1,2..9 \n",
    "def square(num):\n",
    "    return num**2\n"
   ]
  },
  {
   "cell_type": "code",
   "execution_count": 13,
   "metadata": {
    "collapsed": false
   },
   "outputs": [
    {
     "data": {
      "text/plain": [
       "[1, 4, 9, 16, 25, 36, 49, 64, 81]"
      ]
     },
     "execution_count": 13,
     "metadata": {},
     "output_type": "execute_result"
    }
   ],
   "source": [
    "map(square, numbers)\n",
    "\n",
    "# The equivalent of this function is:\n",
    "# result = []\n",
    "# for i in range(1, 10):\n",
    "#     result.append(i**2)"
   ]
  },
  {
   "cell_type": "markdown",
   "metadata": {},
   "source": [
    "Even better, we can write the whole thing in a single line:"
   ]
  },
  {
   "cell_type": "code",
   "execution_count": 14,
   "metadata": {
    "collapsed": false
   },
   "outputs": [
    {
     "data": {
      "text/plain": [
       "[1, 4, 9, 16, 25, 36, 49, 64, 81]"
      ]
     },
     "execution_count": 14,
     "metadata": {},
     "output_type": "execute_result"
    }
   ],
   "source": [
    "map(lambda x: x**2, range(1, 10))"
   ]
  },
  {
   "cell_type": "markdown",
   "metadata": {},
   "source": [
    "## Filter function\n",
    "**Syntax:** \n",
    "\n",
    "`filter(function, iterable)`\n",
    "\n",
    "Just like map, `filter` applies the function to every element of the `iterable` but instead of returning the output of function, it returns the `list` of elements for which the function returns `True`\n",
    "\n",
    "**Example:**"
   ]
  },
  {
   "cell_type": "code",
   "execution_count": 17,
   "metadata": {
    "collapsed": false
   },
   "outputs": [
    {
     "data": {
      "text/plain": [
       "[1, 3, 5, 7, 9]"
      ]
     },
     "execution_count": 17,
     "metadata": {},
     "output_type": "execute_result"
    }
   ],
   "source": [
    "filter(lambda x: x%2, range(1, 10)) # Return all values for which %2 is non zero.. (List of all odd numbers, right?)"
   ]
  }
 ],
 "metadata": {
  "kernelspec": {
   "display_name": "Python 2",
   "language": "python",
   "name": "python2"
  },
  "language_info": {
   "codemirror_mode": {
    "name": "ipython",
    "version": 2
   },
   "file_extension": ".py",
   "mimetype": "text/x-python",
   "name": "python",
   "nbconvert_exporter": "python",
   "pygments_lexer": "ipython2",
   "version": "2.7.11"
  }
 },
 "nbformat": 4,
 "nbformat_minor": 0
}
