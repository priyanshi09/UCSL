{
 "cells": [
  {
   "cell_type": "markdown",
   "metadata": {},
   "source": [
    "<h1 align='center'>Python Exception Handling</h1>"
   ]
  },
  {
   "cell_type": "markdown",
   "metadata": {},
   "source": [
    "An exception is a python object that represents an error. It is an event, which occurs during the execution of a program that disrupts the normal flow of the program's instructions. When such a situation occurs and if python is not able to cope with it, it raises and exception. We have been seeing errors like TypeError and NameError or IndentationError throughout our tutorial which caused our application or that code to stop the execution. To prevent this from happening, we have to handle such exceptions.\n",
    "Following is a hierarchy for built-in exceptions in python:"
   ]
  },
  {
   "cell_type": "code",
   "execution_count": null,
   "metadata": {
    "collapsed": true
   },
   "outputs": [],
   "source": [
    "BaseException\n",
    " +-- SystemExit\n",
    " +-- KeyboardInterrupt\n",
    " +-- GeneratorExit\n",
    " +-- Exception\n",
    "      +-- StopIteration\n",
    "      +-- StandardError\n",
    "      |    +-- BufferError\n",
    "      |    +-- ArithmeticError\n",
    "      |    |    +-- FloatingPointError\n",
    "      |    |    +-- OverflowError\n",
    "      |    |    +-- ZeroDivisionError\n",
    "      |    +-- AssertionError\n",
    "      |    +-- AttributeError\n",
    "      |    +-- EnvironmentError\n",
    "      |    |    +-- IOError\n",
    "      |    |    +-- OSError\n",
    "      |    |         +-- WindowsError (Windows)\n",
    "      |    |         +-- VMSError (VMS)\n",
    "      |    +-- EOFError\n",
    "      |    +-- ImportError\n",
    "      |    +-- LookupError\n",
    "      |    |    +-- IndexError\n",
    "      |    |    +-- KeyError\n",
    "      |    +-- MemoryError\n",
    "      |    +-- NameError\n",
    "      |    |    +-- UnboundLocalError\n",
    "      |    +-- ReferenceError\n",
    "      |    +-- RuntimeError\n",
    "      |    |    +-- NotImplementedError\n",
    "      |    +-- SyntaxError\n",
    "      |    |    +-- IndentationError\n",
    "      |    |         +-- TabError\n",
    "      |    +-- SystemError\n",
    "      |    +-- TypeError\n",
    "      |    +-- ValueError\n",
    "      |         +-- UnicodeError\n",
    "      |              +-- UnicodeDecodeError\n",
    "      |              +-- UnicodeEncodeError\n",
    "      |              +-- UnicodeTranslateError\n",
    "      +-- Warning\n",
    "           +-- DeprecationWarning\n",
    "           +-- PendingDeprecationWarning\n",
    "           +-- RuntimeWarning\n",
    "           +-- SyntaxWarning\n",
    "           +-- UserWarning\n",
    "           +-- FutureWarning\n",
    "       +-- ImportWarning\n",
    "       +-- UnicodeWarning\n",
    "       +-- BytesWarning"
   ]
  },
  {
   "cell_type": "markdown",
   "metadata": {},
   "source": [
    "Example:"
   ]
  },
  {
   "cell_type": "code",
   "execution_count": 1,
   "metadata": {
    "collapsed": false
   },
   "outputs": [
    {
     "ename": "ZeroDivisionError",
     "evalue": "integer division or modulo by zero",
     "output_type": "error",
     "traceback": [
      "\u001b[1;31m---------------------------------------------------------------------------\u001b[0m",
      "\u001b[1;31mZeroDivisionError\u001b[0m                         Traceback (most recent call last)",
      "\u001b[1;32m<ipython-input-1-b710d87c980c>\u001b[0m in \u001b[0;36m<module>\u001b[1;34m()\u001b[0m\n\u001b[1;32m----> 1\u001b[1;33m \u001b[1;36m1\u001b[0m \u001b[1;33m/\u001b[0m \u001b[1;36m0\u001b[0m\u001b[1;33m\u001b[0m\u001b[0m\n\u001b[0m",
      "\u001b[1;31mZeroDivisionError\u001b[0m: integer division or modulo by zero"
     ]
    }
   ],
   "source": [
    "1 / 0"
   ]
  },
  {
   "cell_type": "markdown",
   "metadata": {},
   "source": [
    "Quite straightforward example where we are trying to divide a number by 0. Python raises a ZeroDivisionError and the execution halts. There are basically two ways to handle this error. \n",
    "First way is to check and make sure that the divisor is not zero. This is left as an exercise for the students. The other way to handle the error is by using try.. catch block where we place the code to be executed inside the try block and the exception to be handled in the except block.\n",
    "Example:"
   ]
  },
  {
   "cell_type": "code",
   "execution_count": 2,
   "metadata": {
    "collapsed": false
   },
   "outputs": [
    {
     "name": "stdout",
     "output_type": "stream",
     "text": [
      "0.333333333333\n",
      "0.5\n",
      "1.0\n",
      "So, you're trying to divide by zero huh?\n",
      "-1.0\n",
      "-0.5\n"
     ]
    }
   ],
   "source": [
    "for i in range(3, -3, -1):\n",
    "    try:\n",
    "        print 1.0 / i\n",
    "    except ZeroDivisionError:\n",
    "        print 'So, you\\'re trying to divide by zero huh?'\n",
    "        pass"
   ]
  },
  {
   "cell_type": "markdown",
   "metadata": {},
   "source": [
    "As observed from the above example, our execution continued even after we tried dividing 1.0 by zero."
   ]
  },
  {
   "cell_type": "markdown",
   "metadata": {},
   "source": [
    "## Argument of an Exception\n",
    "\n",
    "An exception can have an argument, which is a value that gives additional information about the problem that caused the exception. The contents of argument vary by exception. You can capture an exception's argument by supplying a variable. Let's take a look at an example.\n",
    "Example:"
   ]
  },
  {
   "cell_type": "code",
   "execution_count": 3,
   "metadata": {
    "collapsed": false
   },
   "outputs": [
    {
     "name": "stdout",
     "output_type": "stream",
     "text": [
      "0.333333333333\n",
      "0.5\n",
      "1.0\n",
      "Zero Division Error:  float division by zero\n",
      "-1.0\n",
      "-0.5\n"
     ]
    }
   ],
   "source": [
    "for i in range(3, -3, -1):\n",
    "    try:\n",
    "        print 1.0 / i\n",
    "    except ZeroDivisionError, e:\n",
    "        print 'Zero Division Error: ',e\n",
    "        pass"
   ]
  },
  {
   "cell_type": "markdown",
   "metadata": {},
   "source": [
    "If you write the code to handle a single exception, you can have a variable following the exception in the except statement. This variable receives the value of the exception mostly containing the cause of the exception. If you are handling multiple exceptions, you can have a variable follow tuple of the execution. Based on whether you are handling single value or multiple exceptions, the variable can receive a single or multiple values in the form of a tuple.\n",
    "\n",
    "## Hierarchy of Exceptions\n",
    "\n",
    "The exceptions are organized in an hierarchy as observed from above tree. This means that we can have multiple exceptions handled by the except block.\n",
    "Example:"
   ]
  },
  {
   "cell_type": "code",
   "execution_count": 4,
   "metadata": {
    "collapsed": false
   },
   "outputs": [
    {
     "name": "stdout",
     "output_type": "stream",
     "text": [
      "-1.0\n",
      "So, you're trying to divide by zero huh?\n",
      "1.0\n",
      "0.5\n",
      "0.333333333333\n"
     ]
    },
    {
     "ename": "KeyboardInterrupt",
     "evalue": "Ctrl C pressed",
     "output_type": "error",
     "traceback": [
      "\u001b[1;31m---------------------------------------------------------------------------\u001b[0m",
      "\u001b[1;31mKeyboardInterrupt\u001b[0m                         Traceback (most recent call last)",
      "\u001b[1;32m<ipython-input-4-66aad6d147e5>\u001b[0m in \u001b[0;36m<module>\u001b[1;34m()\u001b[0m\n\u001b[0;32m      8\u001b[0m     \u001b[1;32mexcept\u001b[0m \u001b[0mKeyboardInterrupt\u001b[0m\u001b[1;33m:\u001b[0m\u001b[1;33m\u001b[0m\u001b[0m\n\u001b[0;32m      9\u001b[0m         \u001b[1;31m# Lets raise the exception that we just caught!\u001b[0m\u001b[1;33m\u001b[0m\u001b[1;33m\u001b[0m\u001b[0m\n\u001b[1;32m---> 10\u001b[1;33m         \u001b[1;32mraise\u001b[0m \u001b[0mKeyboardInterrupt\u001b[0m\u001b[1;33m(\u001b[0m\u001b[1;34m'Ctrl C pressed'\u001b[0m\u001b[1;33m)\u001b[0m\u001b[1;33m\u001b[0m\u001b[0m\n\u001b[0m\u001b[0;32m     11\u001b[0m     \u001b[1;32mexcept\u001b[0m \u001b[0mZeroDivisionError\u001b[0m\u001b[1;33m:\u001b[0m\u001b[1;33m\u001b[0m\u001b[0m\n\u001b[0;32m     12\u001b[0m         \u001b[1;32mprint\u001b[0m \u001b[1;34m'So, you\\'re trying to divide by zero huh?'\u001b[0m\u001b[1;33m\u001b[0m\u001b[0m\n",
      "\u001b[1;31mKeyboardInterrupt\u001b[0m: Ctrl C pressed"
     ]
    }
   ],
   "source": [
    "import time  # time module has a sleep method which will help slow down the execution of loop\n",
    "i = -2\n",
    "while i < 5:\n",
    "    i = i + 1\n",
    "    try:\n",
    "        print 1.0 / i\n",
    "        time.sleep(2)  # This will halt the code for 2 seconds\n",
    "    except KeyboardInterrupt:\n",
    "        # Lets raise the exception that we just caught!\n",
    "        raise KeyboardInterrupt('Ctrl C pressed')\n",
    "    except ZeroDivisionError:\n",
    "        print 'So, you\\'re trying to divide by zero huh?'\n",
    "        pass"
   ]
  },
  {
   "cell_type": "markdown",
   "metadata": {},
   "source": [
    "After starting the execution of the code, wait for few seconds and then press Cntrl+C on your keyboard and you should get the above error. The new thing that we can observe in this code is that we have used a keyword raise. This helps in raising a particular exception and as a parameter to the exception you can pass the string that you want to print. \n",
    "\n",
    "The raise statement does two things: it creates an exception object, and immediately leaves the expected program execution sequence to search the enclosing try statements for a matching except clause. The effect of raise statement is to either divert execution in a matching except suite, or to stop the program (if no proper exception handling was performed).\n",
    "\n",
    "Now lets see the above example with hierarchy in action:"
   ]
  },
  {
   "cell_type": "code",
   "execution_count": 5,
   "metadata": {
    "collapsed": false
   },
   "outputs": [
    {
     "name": "stdout",
     "output_type": "stream",
     "text": [
      "-1.0\n",
      "Some Exception occurred..\n",
      "1.0\n",
      "0.5\n",
      "Some Exception occurred..\n",
      "0.333333333333\n",
      "0.25\n",
      "0.2\n"
     ]
    }
   ],
   "source": [
    "import time\n",
    "i = -2\n",
    "while i < 5:\n",
    "    i = i + 1\n",
    "    try:\n",
    "        print 1.0 / i\n",
    "        time.sleep(2)  # This will halt the code for 2 seconds\n",
    "    except BaseException:\n",
    "        # Lets raise the exception that we just caught!\n",
    "        print 'Some Exception occurred..'\n",
    "        pass\n",
    "    "
   ]
  },
  {
   "cell_type": "markdown",
   "metadata": {},
   "source": [
    "In the above example we can see that we did implement a handler (a very bad kind, must say). If you check from the hierarchy list, you can observe that KeyboardInterrupt and ArithmeticError(which includes ZeroDivideError) are subclass of BaseException class. So since we implemented BaseException handler, all the errors under the base class are handled. Avoid raising a generic exception like we did in this example because you will not be able to understand what actually caused the exception and allows bugs to pass through. Instead use the most specific Exception constructor that semantically fits your issue."
   ]
  },
  {
   "cell_type": "markdown",
   "metadata": {},
   "source": [
    "## Finally\n",
    "\n",
    "There is a finally keyword which is always executed regardless of where there was any exception in the code or not. This is generally used to cleanup some resources in a program.. especially when using file I/O operations\n",
    "Example"
   ]
  },
  {
   "cell_type": "code",
   "execution_count": null,
   "metadata": {
    "collapsed": true
   },
   "outputs": [],
   "source": [
    "f = None\n",
    "try:\n",
    "    f = open('test.txt', 'r')  # Open file in read-only mode\n",
    "    f.readlines()  # Read all lines\n",
    "except IOError:\n",
    "    print 'Error Opening File'\n",
    "finally:\n",
    "    if f:  # If the file was opened\n",
    "        f.close  # Close the file"
   ]
  },
  {
   "cell_type": "markdown",
   "metadata": {},
   "source": [
    "In the above example we can observe that we are trying to open a file and read its contents. If the file doesn't exist, it will raise an IOError exception. We are handling that, no worries. However once the file has been read, we need to close the file so that other processes or other functions in our code can access it. (Remember: when accessing/ modifying a file, the file is locked to that process which is performing the I/O operation on it. Unless the lock is released, no other process will be able to modify it.. ) To make sure we release the resources, in the finally block we are checking if f is not null and closing it. "
   ]
  }
 ],
 "metadata": {
  "kernelspec": {
   "display_name": "Python 2",
   "language": "python",
   "name": "python2"
  },
  "language_info": {
   "codemirror_mode": {
    "name": "ipython",
    "version": 2
   },
   "file_extension": ".py",
   "mimetype": "text/x-python",
   "name": "python",
   "nbconvert_exporter": "python",
   "pygments_lexer": "ipython2",
   "version": "2.7.9"
  }
 },
 "nbformat": 4,
 "nbformat_minor": 0
}
