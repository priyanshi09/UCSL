{
 "cells": [
  {
   "cell_type": "markdown",
   "metadata": {},
   "source": [
    "<h1 align='center'>Python Tuples</h1>"
   ]
  },
  {
   "cell_type": "markdown",
   "metadata": {},
   "source": [
    "Python tuple is much like a list except that it is immutable or unchangeable once created. Tuples use parentheses and creating them is as easy as putting different items separated by a comma between parentheses.\n",
    "Example:"
   ]
  },
  {
   "cell_type": "code",
   "execution_count": 1,
   "metadata": {
    "collapsed": false
   },
   "outputs": [
    {
     "data": {
      "text/plain": [
       "tuple"
      ]
     },
     "execution_count": 1,
     "metadata": {},
     "output_type": "execute_result"
    }
   ],
   "source": [
    "tuple1 = ('Python', 'Julia', 1, 3.1415)\n",
    "type(tuple1)"
   ]
  },
  {
   "cell_type": "markdown",
   "metadata": {},
   "source": [
    "Pretty simple, so the next question is why do we need a new datatype? The answer can be summed up in three points:\n",
    "\n",
    "Tuples are faster than lists. If you ever defined a set of constant values and all you ever want to do is read those values, you should use tuples instead of lists\n",
    "Safer Code. Tuples are like 'write-protected' lists so that the data cannot be changed by accident.\n",
    "Tuples are using in string formatting (we will see this in some examples below)\n",
    "##Creating a Tuple\n",
    "\n",
    "We already saw one example above on how to create tuples with multiple items but to create a tuple with a single item, you need to include a comma after the first item.\n",
    "Example:"
   ]
  },
  {
   "cell_type": "code",
   "execution_count": 2,
   "metadata": {
    "collapsed": true
   },
   "outputs": [],
   "source": [
    "tuple1 = ('Python',)"
   ]
  },
  {
   "cell_type": "markdown",
   "metadata": {},
   "source": [
    "## Slicing the Tuple\n",
    "\n",
    "Slicing a tuple is similar to slicing a list.\n",
    "Example:"
   ]
  },
  {
   "cell_type": "code",
   "execution_count": 3,
   "metadata": {
    "collapsed": false
   },
   "outputs": [
    {
     "data": {
      "text/plain": [
       "('Julia', 1)"
      ]
     },
     "execution_count": 3,
     "metadata": {},
     "output_type": "execute_result"
    }
   ],
   "source": [
    "tuple1 = ('Python', 'Julia', 1, 3.1415)\n",
    "tuple1[1:3]"
   ]
  },
  {
   "cell_type": "code",
   "execution_count": 4,
   "metadata": {
    "collapsed": false
   },
   "outputs": [
    {
     "data": {
      "text/plain": [
       "('Python', 1)"
      ]
     },
     "execution_count": 4,
     "metadata": {},
     "output_type": "execute_result"
    }
   ],
   "source": [
    "tuple1[0::2]"
   ]
  },
  {
   "cell_type": "markdown",
   "metadata": {},
   "source": [
    "From above example we can observe that just like lists, slicing a tuple returns a new shallow copied tuple containing the requested items.\n",
    "\n",
    "## Tuple Concatentation, Repetition, Membership\n",
    "\n",
    "Tuples are immutable objects which means that yo cannot update, append, remove, modify the items in the tuple. However what you can do is take items from different tuples and create new tuples with those. Let's take a look at some examples:"
   ]
  },
  {
   "cell_type": "code",
   "execution_count": 5,
   "metadata": {
    "collapsed": false
   },
   "outputs": [
    {
     "data": {
      "text/plain": [
       "(1, 2, 3, 4, 5, 'a', 'b', 'c', 'd', 'e')"
      ]
     },
     "execution_count": 5,
     "metadata": {},
     "output_type": "execute_result"
    }
   ],
   "source": [
    "tuple1 = (1, 2, 3, 4, 5)\n",
    "tuple2 = ('a', 'b' , 'c' ,'d' , 'e')\n",
    "tuple1 + tuple2  # Tuple Concatentation"
   ]
  },
  {
   "cell_type": "code",
   "execution_count": 6,
   "metadata": {
    "collapsed": false
   },
   "outputs": [
    {
     "data": {
      "text/plain": [
       "(1, 2, 3, 4, 5, 1, 2, 3, 4, 5)"
      ]
     },
     "execution_count": 6,
     "metadata": {},
     "output_type": "execute_result"
    }
   ],
   "source": [
    "tuple1*2  # Tuple Repetition"
   ]
  },
  {
   "cell_type": "code",
   "execution_count": 7,
   "metadata": {
    "collapsed": false
   },
   "outputs": [
    {
     "data": {
      "text/plain": [
       "True"
      ]
     },
     "execution_count": 7,
     "metadata": {},
     "output_type": "execute_result"
    }
   ],
   "source": [
    "'a' in tuple2  # Membership operator, returns true if member of tuple"
   ]
  },
  {
   "cell_type": "markdown",
   "metadata": {},
   "source": [
    "## Nested Tuples\n",
    "\n",
    "It is also possible to create a tuple of tuples or tuple of lists. \n",
    "Example:"
   ]
  },
  {
   "cell_type": "code",
   "execution_count": 8,
   "metadata": {
    "collapsed": false
   },
   "outputs": [
    {
     "data": {
      "text/plain": [
       "('Python', 'Julia', 1, 3.1415, ('a', 'b'), ('c', 'd'), 1, 2, 3, 4, 5)"
      ]
     },
     "execution_count": 8,
     "metadata": {},
     "output_type": "execute_result"
    }
   ],
   "source": [
    "list1 = ['Python', 'Julia', 1, 3.1415]\n",
    "list2 = [('a', 'b'), ('c', 'd')]  # List of tuples is possible too!\n",
    "tuple1 = (1, 2, 3, 4, 5)\n",
    "tuple2 = tuple(list1 + list2)+ tuple1  # Concatenating the list and converting to tuple. Then adding two tuples and storing it in another tuple\n",
    "tuple2"
   ]
  },
  {
   "cell_type": "markdown",
   "metadata": {},
   "source": [
    "Remember, we cannot concatenate a list and a tuple so we concatenate two lists and convert the new list into tuple by using the tuple built-in function. Then we concatenate that to tuple1 and store the new tuple as tuple2.\n",
    "\n",
    "## Traversing a Tuple\n",
    "\n",
    "Tuples can be traversed using the index value of the items. The most straightforward way of traversing a tuple is by using loops.\n",
    "Example: (extending the above example and using the items of tuple2)"
   ]
  },
  {
   "cell_type": "code",
   "execution_count": 9,
   "metadata": {
    "collapsed": false
   },
   "outputs": [
    {
     "name": "stdout",
     "output_type": "stream",
     "text": [
      "tuple2[0]: Python\n",
      "tuple2[1]: Julia\n",
      "tuple2[2]: 1\n",
      "tuple2[3]: 3.1415\n",
      "tuple2[4]: ('a', 'b')\n",
      "tuple2[5]: ('c', 'd')\n",
      "tuple2[6]: 1\n",
      "tuple2[7]: 2\n",
      "tuple2[8]: 3\n",
      "tuple2[9]: 4\n",
      "tuple2[10]: 5\n"
     ]
    }
   ],
   "source": [
    "for i in enumerate(tuple2):\n",
    "    print 'tuple2[{0[0]}]: {0[1]}'.format(i)"
   ]
  },
  {
   "cell_type": "markdown",
   "metadata": {},
   "source": [
    "Woaah! Forget about tuples, what kind of sorcery is that in the print statement, right? Well it is one of the most wonderful built-in functions of python that you will come across. Let's keep the 'tuple' aside for a second. \n",
    ".format() is an extremely convenient way of formatting the text exactly the way we want it. It is available for python 2.7 and above (again, a gentle reminder to update your python is you're using python 2.6 or lower). What's wrong in our older % way of doing things right? Well, firstly, format method seems more sophisticated than using the %. Moreover % can take either a variable or a tuple or anything and throw bunch of errors for example lets say we have a tuple of two items..\n",
    "\n",
    "**Example:**"
   ]
  },
  {
   "cell_type": "code",
   "execution_count": 10,
   "metadata": {
    "collapsed": false
   },
   "outputs": [
    {
     "ename": "TypeError",
     "evalue": "not all arguments converted during string formatting",
     "output_type": "error",
     "traceback": [
      "\u001b[1;31m---------------------------------------------------------------------------\u001b[0m",
      "\u001b[1;31mTypeError\u001b[0m                                 Traceback (most recent call last)",
      "\u001b[1;32m<ipython-input-10-8de7465d8254>\u001b[0m in \u001b[0;36m<module>\u001b[1;34m()\u001b[0m\n\u001b[0;32m      1\u001b[0m \u001b[0mtuple1\u001b[0m \u001b[1;33m=\u001b[0m \u001b[1;33m(\u001b[0m\u001b[1;34m'Python'\u001b[0m\u001b[1;33m,\u001b[0m \u001b[1;36m1\u001b[0m\u001b[1;33m)\u001b[0m\u001b[1;33m\u001b[0m\u001b[0m\n\u001b[1;32m----> 2\u001b[1;33m \u001b[1;32mprint\u001b[0m \u001b[1;34m'Contents of tuple1: %s'\u001b[0m\u001b[1;33m%\u001b[0m\u001b[1;33m(\u001b[0m\u001b[0mtuple1\u001b[0m\u001b[1;33m)\u001b[0m  \u001b[1;31m# Will throw TypeError\u001b[0m\u001b[1;33m\u001b[0m\u001b[0m\n\u001b[0m",
      "\u001b[1;31mTypeError\u001b[0m: not all arguments converted during string formatting"
     ]
    }
   ],
   "source": [
    "tuple1 = ('Python', 1)\n",
    "print 'Contents of tuple1: %s'%(tuple1)  # Will throw TypeError"
   ]
  },
  {
   "cell_type": "code",
   "execution_count": 11,
   "metadata": {
    "collapsed": false
   },
   "outputs": [
    {
     "name": "stdout",
     "output_type": "stream",
     "text": [
      "Contents of tuple1: ('Python', 1)\n"
     ]
    }
   ],
   "source": [
    "print 'Contents of tuple1: {}'.format(tuple1)"
   ]
  },
  {
   "cell_type": "code",
   "execution_count": 12,
   "metadata": {
    "collapsed": false
   },
   "outputs": [
    {
     "name": "stdout",
     "output_type": "stream",
     "text": [
      "This is Python, and I rank 1 among all programming languages\n"
     ]
    }
   ],
   "source": [
    "print('This is {0}, and I rank {1} among all programming languages'.format(*tuple1))\n",
    "# The * helps in unpacking the tuple into arguments"
   ]
  },
  {
   "cell_type": "markdown",
   "metadata": {},
   "source": [
    "That's all we will talk about format here, If you want to learn more about the format method, you can head over to [`official documentation`](docs.python.org/2/library/string.html#format-specification-mini-language 'Official Documentation'). format is a very handy tool for formatting individual values.\n",
    "\n",
    "Coming back to our tuples, from the above examples, it must've made it very clear that almost everything that we did in lists apply over here. Ofcourse except for the fact that we can modify the lists items but not the tuples."
   ]
  },
  {
   "cell_type": "markdown",
   "metadata": {},
   "source": [
    "## Tuple Comprehension\n",
    "\n",
    "We know that list comprehension is performed using a for loop that traverses the list and evaluates a condition using if.. else condition and creates a new list with the output. So for tuples it should be same as the list, right? Let's see:\n",
    "Example:"
   ]
  },
  {
   "cell_type": "code",
   "execution_count": 13,
   "metadata": {
    "collapsed": false
   },
   "outputs": [
    {
     "data": {
      "text/plain": [
       "generator"
      ]
     },
     "execution_count": 13,
     "metadata": {},
     "output_type": "execute_result"
    }
   ],
   "source": [
    "tuple1 = (1, 2, 3, 4, 5)\n",
    "tuple2 = (i for i in tuple1 if i%2 == 0)  # Same example as in list comprehension\n",
    "type(tuple2)"
   ]
  },
  {
   "cell_type": "code",
   "execution_count": 14,
   "metadata": {
    "collapsed": false
   },
   "outputs": [
    {
     "data": {
      "text/plain": [
       "2"
      ]
     },
     "execution_count": 14,
     "metadata": {},
     "output_type": "execute_result"
    }
   ],
   "source": [
    "tuple2.next()"
   ]
  },
  {
   "cell_type": "markdown",
   "metadata": {},
   "source": [
    "Remember when we talked about list comprehension and got all happy looking at such an easier way to create new lists? It so happens that the 'comprehension' for lists and dictionaries is just a syntactic sugar to use a generator expression that outputs a specific type. We learned basics about generators when we saw range and xrange in [`Python Loops`](newclasses.nyu.edu/access/lessonbuilder/item/13294871/group/9ce294e5-cc8b-44f8-963b-8160554a987f/Python%20Lab/Week%201/Python%20Loops/Python%20Loops 'Python Loops') List comprehension under the covers creates a generator expression that outputs a list (just like we did above using next() method). Now that you know the truth behind the comprehension you might feel that you don't need list comprehension but believe me, it is awfully handy for lists when you start writing your codes in python using lists. So if you want  to use comprehension in tuples, you will get a generator expression and you can obtain your results using the next method. This also doesn't require the invention of another brace or bracket.\n",
    "\n",
    "## Built-in Tuple Functions and Methods\n",
    "\n",
    "Python provides following methods for tuples:\n",
    "\n",
    "### cmp(tuple1, tuple2):\n",
    "\n",
    "The cmp method compares the elements of the two tuples. If the elements are of same type then perform simple comparison and return the result. If the elements are strings then sort them alphabetically and compare. If one of them has alphabets then that tuple is always greater (numbers are smaller than alphabets).\n",
    "Example:"
   ]
  },
  {
   "cell_type": "code",
   "execution_count": 15,
   "metadata": {
    "collapsed": false
   },
   "outputs": [
    {
     "data": {
      "text/plain": [
       "1"
      ]
     },
     "execution_count": 15,
     "metadata": {},
     "output_type": "execute_result"
    }
   ],
   "source": [
    "tuple1 = ('a', 'b')\n",
    "tuple2 = (1, 2, 3)\n",
    "cmp(tuple1, tuple2)"
   ]
  },
  {
   "cell_type": "markdown",
   "metadata": {},
   "source": [
    "### len(tuple1):\n",
    "\n",
    "len method returns the number of elements in the tuple.\n",
    "Example:"
   ]
  },
  {
   "cell_type": "code",
   "execution_count": 16,
   "metadata": {
    "collapsed": false
   },
   "outputs": [
    {
     "data": {
      "text/plain": [
       "2"
      ]
     },
     "execution_count": 16,
     "metadata": {},
     "output_type": "execute_result"
    }
   ],
   "source": [
    "tuple1 = ('a', 'b')\n",
    "len(tuple1)"
   ]
  },
  {
   "cell_type": "markdown",
   "metadata": {},
   "source": [
    "### max(tuple1):\n",
    "\n",
    "This method returns the elements from the tuple with the maximum value.\n",
    "Example:"
   ]
  },
  {
   "cell_type": "code",
   "execution_count": 17,
   "metadata": {
    "collapsed": false
   },
   "outputs": [
    {
     "data": {
      "text/plain": [
       "'a'"
      ]
     },
     "execution_count": 17,
     "metadata": {},
     "output_type": "execute_result"
    }
   ],
   "source": [
    "tuple1 = ('a', '99999')\n",
    "max(tuple1)  # Remember alphabets are always greater than integers"
   ]
  },
  {
   "cell_type": "markdown",
   "metadata": {},
   "source": [
    "### min(tuple1):\n",
    "\n",
    "This method returns minimum value of all the elements in the tuple.\n",
    "Example: (extending the above example)"
   ]
  },
  {
   "cell_type": "code",
   "execution_count": 18,
   "metadata": {
    "collapsed": false
   },
   "outputs": [
    {
     "data": {
      "text/plain": [
       "'99999'"
      ]
     },
     "execution_count": 18,
     "metadata": {},
     "output_type": "execute_result"
    }
   ],
   "source": [
    "min(tuple1)"
   ]
  }
 ],
 "metadata": {
  "kernelspec": {
   "display_name": "Python 2",
   "language": "python",
   "name": "python2"
  },
  "language_info": {
   "codemirror_mode": {
    "name": "ipython",
    "version": 2
   },
   "file_extension": ".py",
   "mimetype": "text/x-python",
   "name": "python",
   "nbconvert_exporter": "python",
   "pygments_lexer": "ipython2",
   "version": "2.7.11"
  }
 },
 "nbformat": 4,
 "nbformat_minor": 0
}
