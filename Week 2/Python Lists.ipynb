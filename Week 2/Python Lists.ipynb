{
 "cells": [
  {
   "cell_type": "markdown",
   "metadata": {},
   "source": [
    "<h1 align='center'>Python Lists</h1>"
   ]
  },
  {
   "cell_type": "markdown",
   "metadata": {},
   "source": [
    "Last week we studied Python Strings and we saw that Python's most basic data structure is the sequence. Each element of a sequence is assigned a number known as index number. List is one of the most commonly used sequence of the seven built-in sequences in Python. (The others are: `str`, `unicode`, `tuple`, `bytearray`, `buffer`, `xrange`. We have already discussed `str` and `unicode` last week in Python Strings). Just like `str`, you can do a lot of things with these sequences ranging from indexing, slicing, adding, checking for membership, length of sequence etc. just like we saw with the strings.\n",
    "\n",
    "The `list` is the most versatile datatype available in Python which can be written as a `list` of comma-separated values between square brackets. Creating a list is as simple as putting different items separated by comma between square brackets.\n",
    "\n",
    "**Example:**"
   ]
  },
  {
   "cell_type": "code",
   "execution_count": 1,
   "metadata": {
    "collapsed": false
   },
   "outputs": [
    {
     "data": {
      "text/plain": [
       "['Python', 'Julia', 1, 3.1415]"
      ]
     },
     "execution_count": 1,
     "metadata": {},
     "output_type": "execute_result"
    }
   ],
   "source": [
    "a = ['Python', 'Julia', 1, 3.1415]\n",
    "a"
   ]
  },
  {
   "cell_type": "code",
   "execution_count": 2,
   "metadata": {
    "collapsed": false
   },
   "outputs": [
    {
     "data": {
      "text/plain": [
       "list"
      ]
     },
     "execution_count": 2,
     "metadata": {},
     "output_type": "execute_result"
    }
   ],
   "source": [
    "type(a)"
   ]
  },
  {
   "cell_type": "code",
   "execution_count": 3,
   "metadata": {
    "collapsed": false
   },
   "outputs": [
    {
     "data": {
      "text/plain": [
       "1"
      ]
     },
     "execution_count": 3,
     "metadata": {},
     "output_type": "execute_result"
    }
   ],
   "source": [
    "a[2]"
   ]
  },
  {
   "cell_type": "markdown",
   "metadata": {},
   "source": [
    "Python is zero-index based, thus to get the first item we simply ask for the item/ element on the 0th index. We will now briefly go over the basic list manipulations (which are similar to strings) and then look at some more methods that makes lists unique.\n",
    "\n",
    "## Slicing the List\n",
    "\n",
    "A shallow copy of the list is performed and a new list is created containing the requested elements.\n",
    "Example:"
   ]
  },
  {
   "cell_type": "code",
   "execution_count": 4,
   "metadata": {
    "collapsed": false
   },
   "outputs": [
    {
     "data": {
      "text/plain": [
       "['Python', 'Julia']"
      ]
     },
     "execution_count": 4,
     "metadata": {},
     "output_type": "execute_result"
    }
   ],
   "source": [
    "a = ['Python', 'Julia', 1, 3.1415]\n",
    "a[:2]  # Performs shallow copy and returns new list with first two elements"
   ]
  },
  {
   "cell_type": "markdown",
   "metadata": {},
   "source": [
    "The slicing can also  be done to get the n-th value from a list by passing n as the third argument."
   ]
  },
  {
   "cell_type": "code",
   "execution_count": 5,
   "metadata": {
    "collapsed": false
   },
   "outputs": [
    {
     "data": {
      "text/plain": [
       "['Julia', 3.1415]"
      ]
     },
     "execution_count": 5,
     "metadata": {},
     "output_type": "execute_result"
    }
   ],
   "source": [
    "a = ['Python', 'Julia', 1, 3.1415]\n",
    "a[1::2]  # Take every second element from index value 1."
   ]
  },
  {
   "cell_type": "code",
   "execution_count": 6,
   "metadata": {
    "collapsed": false
   },
   "outputs": [
    {
     "data": {
      "text/plain": [
       "['Julia']"
      ]
     },
     "execution_count": 6,
     "metadata": {},
     "output_type": "execute_result"
    }
   ],
   "source": [
    "a[-3:-2:1]  # Take every element between index value -3 and -2\n",
    "# Remember, it doesn't include the nth index value when traversing a list."
   ]
  },
  {
   "cell_type": "markdown",
   "metadata": {},
   "source": [
    "## Updating the List\n",
    "\n",
    "Unlike strings and tuples which are immutable, elements in list can be changed without having to create a new list, thus making it mutable.\n",
    "Example:"
   ]
  },
  {
   "cell_type": "code",
   "execution_count": 7,
   "metadata": {
    "collapsed": false
   },
   "outputs": [
    {
     "name": "stdout",
     "output_type": "stream",
     "text": [
      "\n",
      "Array: \n",
      "['Python', 'Julia', 'Java', 3.1415]\n",
      "\n",
      "Length of array: \n",
      "4\n"
     ]
    }
   ],
   "source": [
    "a = ['Python', 'Julia', 1, 3.1415]\n",
    "a[2] = 'Java'\n",
    "print '\\nArray: \\n',a\n",
    "print '\\nLength of array: \\n',len(a)"
   ]
  },
  {
   "cell_type": "code",
   "execution_count": 8,
   "metadata": {
    "collapsed": true
   },
   "outputs": [],
   "source": [
    "a[2:4] = []  # Remove some elements/ changing the size"
   ]
  },
  {
   "cell_type": "code",
   "execution_count": 9,
   "metadata": {
    "collapsed": false
   },
   "outputs": [
    {
     "name": "stdout",
     "output_type": "stream",
     "text": [
      "\n",
      "Array: \n",
      "['Python', 'Julia']\n",
      "\n",
      "Length of array: \n",
      "2\n"
     ]
    }
   ],
   "source": [
    "print '\\nArray: \\n',a\n",
    "print '\\nLength of array: \\n',len(a)"
   ]
  },
  {
   "cell_type": "markdown",
   "metadata": {},
   "source": [
    "## Appending to the List\n",
    "\n",
    "New items can be easily added to the list by using the append() method.\n",
    "Example:"
   ]
  },
  {
   "cell_type": "code",
   "execution_count": 10,
   "metadata": {
    "collapsed": false
   },
   "outputs": [
    {
     "data": {
      "text/plain": [
       "['Python', 'Julia', 1, 3.1415, 'C++']"
      ]
     },
     "execution_count": 10,
     "metadata": {},
     "output_type": "execute_result"
    }
   ],
   "source": [
    "a = ['Python', 'Julia', 1, 3.1415]\n",
    "a.append('C++')  # It will append the item to the end of the list\n",
    "a"
   ]
  },
  {
   "cell_type": "markdown",
   "metadata": {},
   "source": [
    "## Copying Lists\n",
    "\n",
    "There are many ways to create a copy of the lists in python. Lets take a look at few techniques:\n",
    "\n",
    "### copy package\n",
    "\n",
    "copy packages is packaged with the python so you don't have to install it externally to use it. So what is the reason of creating a separate package? From our first week's session on variables, we know that it is very easy to create copy of objects,right? We do know one thing for sure that assignment statements ( '=' ) in python do not copy the objects, they merely create bindings between the target and the object, right? It so happens that for collections that are mutable or contains mutable items, a copy is sometimes needed so that one can change the content of the mutable item without changing the other. There are actually two ways of creating a copy of an object viz: shallow copy and deep copy. In shallow copy, python constructs a new object and then inserts references to into it that are found in the original list, whereas deepcopy, as you must've guessed it, creates an object and copies everything. (If you are curious to know more about it, head over the [`official documentation`](https://docs.python.org/2/library/copy.html 'Python Copy Official Documentation') )"
   ]
  },
  {
   "cell_type": "code",
   "execution_count": 11,
   "metadata": {
    "collapsed": true
   },
   "outputs": [],
   "source": [
    "import copy\n",
    "a = ['Python', 'Julia', 1, 3.1415]\n",
    "a1 = copy.copy(a)  # Shallow copy.. Fast\n",
    "a2 = copy.deepcopy(a)  # Deep copy.. Slower"
   ]
  },
  {
   "cell_type": "markdown",
   "metadata": {},
   "source": [
    "### Slice Syntax"
   ]
  },
  {
   "cell_type": "code",
   "execution_count": 12,
   "metadata": {
    "collapsed": false
   },
   "outputs": [
    {
     "name": "stdout",
     "output_type": "stream",
     "text": [
      "['Python', 'Julia', 1, 3.1415]\n"
     ]
    }
   ],
   "source": [
    "a = ['Python', 'Julia', 1, 3.1415]\n",
    "a1 = a[:]\n",
    "print a1"
   ]
  },
  {
   "cell_type": "markdown",
   "metadata": {},
   "source": [
    "### list method"
   ]
  },
  {
   "cell_type": "code",
   "execution_count": 13,
   "metadata": {
    "collapsed": false
   },
   "outputs": [
    {
     "name": "stdout",
     "output_type": "stream",
     "text": [
      "['Python', 'Julia', 1, 3.1415]\n"
     ]
    }
   ],
   "source": [
    "a = ['Python', 'Julia', 1, 3.1415]\n",
    "a1 = list(a) # when list method takes a list as a parameter, it creates a copy of that list \n",
    "print a1"
   ]
  },
  {
   "cell_type": "markdown",
   "metadata": {},
   "source": [
    "## Delete List Elements\n",
    "\n",
    "To remove the list elements, one has two options to either use del statement or lists's remove method ( will be discussed later ).\n",
    "Example:"
   ]
  },
  {
   "cell_type": "code",
   "execution_count": 14,
   "metadata": {
    "collapsed": false
   },
   "outputs": [
    {
     "data": {
      "text/plain": [
       "[1, 2, 3, 4, 5]"
      ]
     },
     "execution_count": 14,
     "metadata": {},
     "output_type": "execute_result"
    }
   ],
   "source": [
    "a = [1, 2, 3, 4, 5]\n",
    "a"
   ]
  },
  {
   "cell_type": "code",
   "execution_count": 15,
   "metadata": {
    "collapsed": false
   },
   "outputs": [
    {
     "data": {
      "text/plain": [
       "[1, 2, 3, 4]"
      ]
     },
     "execution_count": 15,
     "metadata": {},
     "output_type": "execute_result"
    }
   ],
   "source": [
    "del(a[4])\n",
    "a"
   ]
  },
  {
   "cell_type": "markdown",
   "metadata": {},
   "source": [
    "## Nested Lists\n",
    "\n",
    "It is also possible to create a list of the lists.\n",
    "Example:"
   ]
  },
  {
   "cell_type": "code",
   "execution_count": 16,
   "metadata": {
    "collapsed": false
   },
   "outputs": [
    {
     "data": {
      "text/plain": [
       "[[1, 2, 3, 4, 5], ['a', 'b', 'c', 'd', 'e']]"
      ]
     },
     "execution_count": 16,
     "metadata": {},
     "output_type": "execute_result"
    }
   ],
   "source": [
    "a = [1, 2, 3, 4, 5]\n",
    "b = ['a', 'b', 'c', 'd', 'e']\n",
    "c = [a,b]\n",
    "c"
   ]
  },
  {
   "cell_type": "markdown",
   "metadata": {},
   "source": [
    "## List Concatenation, Repetition, Membership:\n",
    "\n",
    "These are simple list manipulation methods similar to strings. Take a look at following example:"
   ]
  },
  {
   "cell_type": "code",
   "execution_count": 17,
   "metadata": {
    "collapsed": false
   },
   "outputs": [
    {
     "data": {
      "text/plain": [
       "[1, 2, 3, 4, 5, 'a', 'b', 'c', 'd', 'e']"
      ]
     },
     "execution_count": 17,
     "metadata": {},
     "output_type": "execute_result"
    }
   ],
   "source": [
    "a = [1, 2, 3, 4, 5]\n",
    "b = ['a', 'b', 'c', 'd', 'e']\n",
    "a + b  # List Concatenation"
   ]
  },
  {
   "cell_type": "code",
   "execution_count": 18,
   "metadata": {
    "collapsed": false
   },
   "outputs": [
    {
     "data": {
      "text/plain": [
       "[1, 2, 3, 4, 5, 1, 2, 3, 4, 5]"
      ]
     },
     "execution_count": 18,
     "metadata": {},
     "output_type": "execute_result"
    }
   ],
   "source": [
    "a * 2  # List Repition"
   ]
  },
  {
   "cell_type": "code",
   "execution_count": 19,
   "metadata": {
    "collapsed": false
   },
   "outputs": [
    {
     "data": {
      "text/plain": [
       "True"
      ]
     },
     "execution_count": 19,
     "metadata": {},
     "output_type": "execute_result"
    }
   ],
   "source": [
    "3 in a  # Membership operator, returns true if member of list"
   ]
  },
  {
   "cell_type": "markdown",
   "metadata": {},
   "source": [
    "## Traversing a list:\n",
    "\n",
    "The most straightforward way to traverse a list is using loops:\n",
    "\n",
    "### for loop:\n",
    "Example:"
   ]
  },
  {
   "cell_type": "code",
   "execution_count": 20,
   "metadata": {
    "collapsed": false
   },
   "outputs": [
    {
     "name": "stdout",
     "output_type": "stream",
     "text": [
      "1\n",
      "2\n",
      "3\n",
      "4\n",
      "5\n"
     ]
    }
   ],
   "source": [
    "a = [1, 2, 3, 4, 5]\n",
    "for i in a:\n",
    "    print i"
   ]
  },
  {
   "cell_type": "markdown",
   "metadata": {},
   "source": [
    "Lets traverse using the index numbers:\n",
    "Example:"
   ]
  },
  {
   "cell_type": "code",
   "execution_count": 21,
   "metadata": {
    "collapsed": false
   },
   "outputs": [
    {
     "name": "stdout",
     "output_type": "stream",
     "text": [
      "1\n",
      "2\n",
      "3\n",
      "4\n",
      "5\n"
     ]
    }
   ],
   "source": [
    "for i in range(len(a)): # start from 0 and go till the length of the list.\n",
    "    print a[i]"
   ]
  },
  {
   "cell_type": "markdown",
   "metadata": {},
   "source": [
    "### While loop:\n",
    "\n",
    "Just like for loop, we can traverse the list based on its index numbers:\n",
    "Example:"
   ]
  },
  {
   "cell_type": "code",
   "execution_count": 22,
   "metadata": {
    "collapsed": false
   },
   "outputs": [
    {
     "name": "stdout",
     "output_type": "stream",
     "text": [
      "1\n",
      "2\n",
      "3\n",
      "4\n",
      "5\n"
     ]
    }
   ],
   "source": [
    "i = 0\n",
    "while i < len(a):  # till i is less than length of list\n",
    "    print a[i]\n",
    "    i += 1  # increment i by 1 at every iteration"
   ]
  },
  {
   "cell_type": "markdown",
   "metadata": {},
   "source": [
    "### enumerate( )\n",
    "\n",
    "Python has a built-in method called enumerate which returns both index value and value of list ( or any other iterable object).\n",
    "Example:"
   ]
  },
  {
   "cell_type": "code",
   "execution_count": 23,
   "metadata": {
    "collapsed": false
   },
   "outputs": [
    {
     "name": "stdout",
     "output_type": "stream",
     "text": [
      "a[0] = 1\n",
      "a[1] = 2\n",
      "a[2] = 3\n",
      "a[3] = 4\n",
      "a[4] = 5\n"
     ]
    }
   ],
   "source": [
    "for ind, val in enumerate(a):\n",
    "    print 'a[%d] = %d'%(ind, val)"
   ]
  },
  {
   "cell_type": "markdown",
   "metadata": {},
   "source": [
    "## List Comprehension\n",
    "\n",
    "List comprehension is a syntactic way of creating a list based on the existing list, just like we did in copying the lists above. \n",
    "The basic structure of the syntax includes a for loop that traverses the list and evaluates a condition using if.. else condition and stores the output of the condition as a new list. Lets take a look at a quick example.\n",
    "Example:"
   ]
  },
  {
   "cell_type": "code",
   "execution_count": 24,
   "metadata": {
    "collapsed": false
   },
   "outputs": [
    {
     "data": {
      "text/plain": [
       "[2, 4]"
      ]
     },
     "execution_count": 24,
     "metadata": {},
     "output_type": "execute_result"
    }
   ],
   "source": [
    "b = [i for i in a if i % 2 == 0]\n",
    "b"
   ]
  },
  {
   "cell_type": "markdown",
   "metadata": {},
   "source": [
    "What we did in the line 2 is simply create a list b from the list items in a which are completely divisible by 2. \n",
    "There are many ways in which the list comprehension can be used. It is just a shorthand of writing better readable code."
   ]
  },
  {
   "cell_type": "markdown",
   "metadata": {},
   "source": [
    "## Built- in List Functions and Methods:\n",
    "\n",
    "Python provides following methods for lists:\n",
    "\n",
    "### cmp (list1 , list2): \n",
    "\n",
    "Compares elements between two lists. If the elements in lists are numbers, then performs numeric coercion if necessary and the compares the list1 against list 2. if it is found to be small then -1 is returned, else 1. If we reached the end of one of the lists, the longer list is \"larger.\" If we exhaust both lists and share the same data, the result is a tie, meaning that 0 is returned.\n",
    "If the elements in the list are alphabets then they are sorted alphabetically and first element is compared and the result is returned as explained for numbers.\n",
    "Example:"
   ]
  },
  {
   "cell_type": "code",
   "execution_count": 25,
   "metadata": {
    "collapsed": false
   },
   "outputs": [
    {
     "data": {
      "text/plain": [
       "-1"
      ]
     },
     "execution_count": 25,
     "metadata": {},
     "output_type": "execute_result"
    }
   ],
   "source": [
    "a = [1, 2, 3]\n",
    "b = [4, 1, 2]\n",
    "cmp(a , b)  # a is smaller than b"
   ]
  },
  {
   "cell_type": "markdown",
   "metadata": {},
   "source": [
    "### max:\n",
    "\n",
    "This method returns the elements from the list with maximum value.\n",
    "Example:"
   ]
  },
  {
   "cell_type": "code",
   "execution_count": 26,
   "metadata": {
    "collapsed": false
   },
   "outputs": [
    {
     "data": {
      "text/plain": [
       "3"
      ]
     },
     "execution_count": 26,
     "metadata": {},
     "output_type": "execute_result"
    }
   ],
   "source": [
    "a = [1, 2, 3]\n",
    "max(a)\n",
    "## What do you think will happen if we compare a list of the lists (nested list)?"
   ]
  },
  {
   "cell_type": "markdown",
   "metadata": {},
   "source": [
    "### min:\n",
    "\n",
    "This method returns the element from the list with minimum value.\n",
    "\n",
    "### list:\n",
    "\n",
    "This method takes sequence types and converts them to lists. This is also used to convert a tuple to list.\n",
    "Example:"
   ]
  },
  {
   "cell_type": "code",
   "execution_count": 27,
   "metadata": {
    "collapsed": false
   },
   "outputs": [
    {
     "data": {
      "text/plain": [
       "['Python', 'Julia', 1, 3.1415]"
      ]
     },
     "execution_count": 27,
     "metadata": {},
     "output_type": "execute_result"
    }
   ],
   "source": [
    "a = list(('Python', 'Julia', 1, 3.1415))  # iterable as a tuple\n",
    "a"
   ]
  },
  {
   "cell_type": "code",
   "execution_count": 28,
   "metadata": {
    "collapsed": false
   },
   "outputs": [
    {
     "data": {
      "text/plain": [
       "list"
      ]
     },
     "execution_count": 28,
     "metadata": {},
     "output_type": "execute_result"
    }
   ],
   "source": [
    "type(a)"
   ]
  },
  {
   "cell_type": "markdown",
   "metadata": {},
   "source": [
    "The first line might confuse a little. Lets understand it. list is a built-in function which can either create an empty list if it is called with no parameters, or create a new list of the iterable/ sequence that it is given as an input. That means that list can at most 1 argument. Thus we have to put our elements in a circular bracket (which makes it a tuple) and then pass it as a argument to list method. \n",
    "\n",
    "### list.count(obj):\n",
    "\n",
    "This method returns the number of times the object, that is passed as a parameter, occurs in the list.\n",
    "Example:"
   ]
  },
  {
   "cell_type": "code",
   "execution_count": 29,
   "metadata": {
    "collapsed": false
   },
   "outputs": [
    {
     "data": {
      "text/plain": [
       "1"
      ]
     },
     "execution_count": 29,
     "metadata": {},
     "output_type": "execute_result"
    }
   ],
   "source": [
    "a = ['Python', 'Julia', 1, 3.1415]\n",
    "a.count('Python')"
   ]
  },
  {
   "cell_type": "markdown",
   "metadata": {},
   "source": [
    "### list.extend(seq):\n",
    "\n",
    "This method appends the contents of a sequence to a list.\n",
    "Example:"
   ]
  },
  {
   "cell_type": "code",
   "execution_count": 30,
   "metadata": {
    "collapsed": false
   },
   "outputs": [
    {
     "data": {
      "text/plain": [
       "['Python', 'Julia', 1, 3.1415, 'C++', 'Java', 2, 2.7182]"
      ]
     },
     "execution_count": 30,
     "metadata": {},
     "output_type": "execute_result"
    }
   ],
   "source": [
    "a = ['Python', 'Julia', 1, 3.1415]\n",
    "b = ['C++', 'Java', 2, 2.7182]\n",
    "a.extend(b)\n",
    "a"
   ]
  },
  {
   "cell_type": "markdown",
   "metadata": {},
   "source": [
    "### list.index(obj):\n",
    "\n",
    "This method returns the lowest index in the list that object appears.\n",
    "Example:"
   ]
  },
  {
   "cell_type": "code",
   "execution_count": 31,
   "metadata": {
    "collapsed": false
   },
   "outputs": [
    {
     "data": {
      "text/plain": [
       "0"
      ]
     },
     "execution_count": 31,
     "metadata": {},
     "output_type": "execute_result"
    }
   ],
   "source": [
    "a = ['Python', 'Julia', 1, 3.1415]\n",
    "a.index('Python')"
   ]
  },
  {
   "cell_type": "markdown",
   "metadata": {},
   "source": [
    "### list.insert(index, obj):\n",
    "\n",
    "This method is used to insert the object at the offset index.\n",
    "Example:"
   ]
  },
  {
   "cell_type": "code",
   "execution_count": 32,
   "metadata": {
    "collapsed": false
   },
   "outputs": [
    {
     "data": {
      "text/plain": [
       "['Python', 'Julia', 1, 2.7182, 3.1415]"
      ]
     },
     "execution_count": 32,
     "metadata": {},
     "output_type": "execute_result"
    }
   ],
   "source": [
    "a = ['Python', 'Julia', 1, 3.1415]\n",
    "a.insert(3, 2.7182)\n",
    "a"
   ]
  },
  {
   "cell_type": "markdown",
   "metadata": {},
   "source": [
    "### list.pop(obj = list[-1]):\n",
    "\n",
    "This method removes and returns the last object from the list.\n",
    "Example:"
   ]
  },
  {
   "cell_type": "code",
   "execution_count": 33,
   "metadata": {
    "collapsed": false
   },
   "outputs": [
    {
     "data": {
      "text/plain": [
       "3.1415"
      ]
     },
     "execution_count": 33,
     "metadata": {},
     "output_type": "execute_result"
    }
   ],
   "source": [
    "a = ['Python', 'Julia', 1, 3.1415]\n",
    "a.pop(3)"
   ]
  },
  {
   "cell_type": "markdown",
   "metadata": {},
   "source": [
    "### list.remove(obj):\n",
    "\n",
    "This method is used to remove the object from the list. Unlike pop, this does not return anything.\n",
    "Example:"
   ]
  },
  {
   "cell_type": "code",
   "execution_count": 34,
   "metadata": {
    "collapsed": false
   },
   "outputs": [],
   "source": [
    "a = ['Python', 'Julia', 1, 3.1415]\n",
    "a.remove(1)"
   ]
  },
  {
   "cell_type": "code",
   "execution_count": 35,
   "metadata": {
    "collapsed": false
   },
   "outputs": [
    {
     "data": {
      "text/plain": [
       "['Python', 'Julia', 3.1415]"
      ]
     },
     "execution_count": 35,
     "metadata": {},
     "output_type": "execute_result"
    }
   ],
   "source": [
    "a"
   ]
  },
  {
   "cell_type": "markdown",
   "metadata": {},
   "source": [
    "### list.reverse():\n",
    "\n",
    "This method reverses the objects of list in place\n",
    "Example:"
   ]
  },
  {
   "cell_type": "code",
   "execution_count": 36,
   "metadata": {
    "collapsed": false
   },
   "outputs": [
    {
     "data": {
      "text/plain": [
       "[3.1415, 1, 'Julia', 'Python']"
      ]
     },
     "execution_count": 36,
     "metadata": {},
     "output_type": "execute_result"
    }
   ],
   "source": [
    "a = ['Python', 'Julia', 1, 3.1415]\n",
    "a.reverse()\n",
    "a"
   ]
  },
  {
   "cell_type": "markdown",
   "metadata": {},
   "source": [
    "### list.sort([func]):\n",
    "\n",
    "This method sorts objects of list by using the compare function passed as optional parameter. You can also sort the string in reverse by passing the optional parameter reverse=True\n",
    "Example:\n"
   ]
  },
  {
   "cell_type": "code",
   "execution_count": 37,
   "metadata": {
    "collapsed": false
   },
   "outputs": [
    {
     "data": {
      "text/plain": [
       "[1, 3.1415, 'Julia', 'Python']"
      ]
     },
     "execution_count": 37,
     "metadata": {},
     "output_type": "execute_result"
    }
   ],
   "source": [
    "a = ['Python', 'Julia', 1, 3.1415]\n",
    "a.sort()\n",
    "a"
   ]
  },
  {
   "cell_type": "code",
   "execution_count": 38,
   "metadata": {
    "collapsed": false
   },
   "outputs": [
    {
     "data": {
      "text/plain": [
       "['Python', 'Julia', 3.1415, 1]"
      ]
     },
     "execution_count": 38,
     "metadata": {},
     "output_type": "execute_result"
    }
   ],
   "source": [
    "a.sort(reverse=True)\n",
    "a"
   ]
  },
  {
   "cell_type": "markdown",
   "metadata": {},
   "source": [
    "## Performance Characteristics:\n",
    "\n",
    "The list has following performance characteristics:\n",
    "\n",
    "\n",
    "\n",
    "- The list object stores pointers to objects, not the actual objects themselves. The size of a list in memory depends on the number of objects in the list, not the size of the objects.\n",
    "- The time needed to get or set an individual item is constant, no matter what the size of the list is (also known as “O(1)” behaviour).\n",
    "- The time needed to append an item to the list is “amortized constant”; whenever the list needs to allocate more memory, it allocates room for a few items more than it actually needs, to avoid having to reallocate on each call (this assumes that the memory allocator is fast; for huge lists, the allocation overhead may push the behaviour towards O(n\\*n)).\n",
    "- The time needed to insert an item depends on the size of the list, or more exactly, how many items that are to the right of the inserted item (O(n)). In other words, inserting items at the end is fast, but inserting items at the beginning can be relatively slow, if the list is large.\n",
    "- The time needed to remove an item is about the same as the time needed to insert an item at the same location; removing items at the end is fast, removing items at the beginning is slow.\n",
    "- The time needed to reverse a list is proportional to the list size (O(n)).\n",
    "- The time needed to sort a list varies; the worst case is O(n log n), but typical cases are often a lot better than that."
   ]
  }
 ],
 "metadata": {
  "kernelspec": {
   "display_name": "Python 2",
   "language": "python",
   "name": "python2"
  },
  "language_info": {
   "codemirror_mode": {
    "name": "ipython",
    "version": 2
   },
   "file_extension": ".py",
   "mimetype": "text/x-python",
   "name": "python",
   "nbconvert_exporter": "python",
   "pygments_lexer": "ipython2",
   "version": "2.7.11"
  }
 },
 "nbformat": 4,
 "nbformat_minor": 0
}
