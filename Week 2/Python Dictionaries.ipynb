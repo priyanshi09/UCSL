{
 "cells": [
  {
   "cell_type": "markdown",
   "metadata": {},
   "source": [
    "<h1 align='center'>Python Dictionaries</h1>"
   ]
  },
  {
   "cell_type": "markdown",
   "metadata": {},
   "source": [
    "A dictionary is a container of key-value pairs. Just like lists, python dictionaries are mutable and can contain mixed types, however the key in the dictionary is immutable just like strings or numbers and are unique within a dictionary. Python dictionaries are also known as hash tables in other programming languages. Each key is separated from its value by a colon (:) and just like lists the items are separated by commas and thre whole thing is enclosed in curly braces. \n",
    "Example:"
   ]
  },
  {
   "cell_type": "code",
   "execution_count": 1,
   "metadata": {
    "collapsed": false
   },
   "outputs": [
    {
     "data": {
      "text/plain": [
       "{'Class': 'Urban Skills', 'Course': 'Python', 'Name': 'John'}"
      ]
     },
     "execution_count": 1,
     "metadata": {},
     "output_type": "execute_result"
    }
   ],
   "source": [
    "student = {'Name': 'John', 'Class': 'Urban Skills', 'Course': 'Python'}\n",
    "student"
   ]
  },
  {
   "cell_type": "code",
   "execution_count": 2,
   "metadata": {
    "collapsed": false
   },
   "outputs": [
    {
     "data": {
      "text/plain": [
       "dict"
      ]
     },
     "execution_count": 2,
     "metadata": {},
     "output_type": "execute_result"
    }
   ],
   "source": [
    "type(student)"
   ]
  },
  {
   "cell_type": "code",
   "execution_count": 3,
   "metadata": {
    "collapsed": true
   },
   "outputs": [],
   "source": [
    "states = {}  # Creating empty dictionary"
   ]
  },
  {
   "cell_type": "code",
   "execution_count": 4,
   "metadata": {
    "collapsed": true
   },
   "outputs": [],
   "source": [
    "states['AL'] = 'Alabama'  # Keys are inside square brackets and values on the right side of assignment"
   ]
  },
  {
   "cell_type": "code",
   "execution_count": 5,
   "metadata": {
    "collapsed": true
   },
   "outputs": [],
   "source": [
    "states['NY'] = 'New York'"
   ]
  },
  {
   "cell_type": "code",
   "execution_count": 6,
   "metadata": {
    "collapsed": false
   },
   "outputs": [
    {
     "data": {
      "text/plain": [
       "{'AL': 'Alabama', 'NY': 'New York'}"
      ]
     },
     "execution_count": 6,
     "metadata": {},
     "output_type": "execute_result"
    }
   ],
   "source": [
    "states"
   ]
  },
  {
   "cell_type": "markdown",
   "metadata": {},
   "source": [
    "### fromkeys( )\n",
    "\n",
    "The fromkeys() method creates a new dictionary from a list.\n",
    "Example:"
   ]
  },
  {
   "cell_type": "code",
   "execution_count": 7,
   "metadata": {
    "collapsed": false
   },
   "outputs": [
    {
     "data": {
      "text/plain": [
       "{'AL': 'Alabama', 'NY': 'New York'}"
      ]
     },
     "execution_count": 7,
     "metadata": {},
     "output_type": "execute_result"
    }
   ],
   "source": [
    "states_list = ('AL', 'NY')\n",
    "states_dict = {}.fromkeys(states_list, 0)  # Instead of 0 you can leave the field empty\n",
    "states_dict['AL'] = 'Alabama'\n",
    "states_dict['NY'] = 'New York'\n",
    "states_dict"
   ]
  },
  {
   "cell_type": "markdown",
   "metadata": {},
   "source": [
    "## Accessing Dictionary Items:\n",
    "\n",
    "There are various ways of accessing elements of dictionary. Best way to understand them are through the examples.\n",
    "Example:"
   ]
  },
  {
   "cell_type": "code",
   "execution_count": 8,
   "metadata": {
    "collapsed": false
   },
   "outputs": [
    {
     "data": {
      "text/plain": [
       "'John'"
      ]
     },
     "execution_count": 8,
     "metadata": {},
     "output_type": "execute_result"
    }
   ],
   "source": [
    "student = {'Name': 'John', 'Class': 'Urban Skills', 'Course': 'Python'}\n",
    "student['Name']"
   ]
  },
  {
   "cell_type": "code",
   "execution_count": 9,
   "metadata": {
    "collapsed": false
   },
   "outputs": [
    {
     "data": {
      "text/plain": [
       "'Python'"
      ]
     },
     "execution_count": 9,
     "metadata": {},
     "output_type": "execute_result"
    }
   ],
   "source": [
    "student.get('Course', 'Not Found')  # If key is in Dictionary, it will return the value"
   ]
  },
  {
   "cell_type": "code",
   "execution_count": 10,
   "metadata": {
    "collapsed": false
   },
   "outputs": [
    {
     "data": {
      "text/plain": [
       "'Not Found'"
      ]
     },
     "execution_count": 10,
     "metadata": {},
     "output_type": "execute_result"
    }
   ],
   "source": [
    "student.get('Location', 'Not Found')  # If key is not found, it will return second parameter of argument"
   ]
  },
  {
   "cell_type": "markdown",
   "metadata": {},
   "source": [
    "## Updating Dictionary:\n",
    "\n",
    "The dictionary can be updated by adding a new entry or a new key-value pair, modifying existing entry and/ or deleting an entry."
   ]
  },
  {
   "cell_type": "code",
   "execution_count": 11,
   "metadata": {
    "collapsed": false
   },
   "outputs": [
    {
     "data": {
      "text/plain": [
       "{'Class': 'Urban Skills',\n",
       " 'Course': 'Python',\n",
       " 'Degree': 'Masters',\n",
       " 'Name': 'Tom'}"
      ]
     },
     "execution_count": 11,
     "metadata": {},
     "output_type": "execute_result"
    }
   ],
   "source": [
    "student = {'Name': 'John', 'Class': 'Urban Skills', 'Course': 'Python'}\n",
    "student['Degree'] = 'Masters'\n",
    "student['Name'] = 'Tom'\n",
    "student"
   ]
  },
  {
   "cell_type": "markdown",
   "metadata": {},
   "source": [
    "As you must have observed, a new value to the dictionary can be added or modified simply by passing the key value pair to the dictionary. "
   ]
  },
  {
   "cell_type": "markdown",
   "metadata": {},
   "source": [
    "### setdefault( )\n",
    "\n",
    "In python, the value (of a key-value pair) is mutable. However at times you might not want to overwrite the existing key-value pair but if it does not exist, you might want to add it. To perform this, you can use the setdefault() method. setdefault method returns a value if a key is present. Otherwise it inserts a key with the specified value and returns the value\n",
    "Example:"
   ]
  },
  {
   "cell_type": "code",
   "execution_count": 12,
   "metadata": {
    "collapsed": false
   },
   "outputs": [
    {
     "data": {
      "text/plain": [
       "'Masters'"
      ]
     },
     "execution_count": 12,
     "metadata": {},
     "output_type": "execute_result"
    }
   ],
   "source": [
    "student = {'Name': 'John', 'Class': 'Urban Skills', 'Course': 'Python'}\n",
    "student.setdefault('Degree', 'Masters')  # This will add the 'Degree:Masters' key value pair to the dictionary since it doesn't exist\n"
   ]
  },
  {
   "cell_type": "code",
   "execution_count": 13,
   "metadata": {
    "collapsed": false
   },
   "outputs": [
    {
     "data": {
      "text/plain": [
       "'Urban Skills'"
      ]
     },
     "execution_count": 13,
     "metadata": {},
     "output_type": "execute_result"
    }
   ],
   "source": [
    "student.setdefault('Class','Urban Sensing')"
   ]
  },
  {
   "cell_type": "code",
   "execution_count": 14,
   "metadata": {
    "collapsed": false
   },
   "outputs": [
    {
     "data": {
      "text/plain": [
       "{'Class': 'Urban Skills',\n",
       " 'Course': 'Python',\n",
       " 'Degree': 'Masters',\n",
       " 'Name': 'John'}"
      ]
     },
     "execution_count": 14,
     "metadata": {},
     "output_type": "execute_result"
    }
   ],
   "source": [
    "student"
   ]
  },
  {
   "cell_type": "markdown",
   "metadata": {},
   "source": [
    "### update( )\n",
    "\n",
    "The update method adds (joins) the two dictionary together.\n",
    "Example:"
   ]
  },
  {
   "cell_type": "code",
   "execution_count": 15,
   "metadata": {
    "collapsed": false
   },
   "outputs": [
    {
     "data": {
      "text/plain": [
       "{'AL': 'Alabama', 'CA': 'California', 'NJ': 'New Jersey', 'NY': 'New York'}"
      ]
     },
     "execution_count": 15,
     "metadata": {},
     "output_type": "execute_result"
    }
   ],
   "source": [
    "states_dict = {'AL': 'Alabama', 'NY': 'New York'}\n",
    "states_dict2 = {'NJ': 'New Jersey', 'CA': 'California'}\n",
    "states_dict.update(states_dict2)\n",
    "states_dict"
   ]
  },
  {
   "cell_type": "markdown",
   "metadata": {},
   "source": [
    "## Removing from Dictionary\n",
    "\n",
    "### pop( )\n",
    "\n",
    "Pop() method removes the key-value pair based on the key passed as an argument. It returns the value that is being 'popped' from the dictionary\n",
    "Example:"
   ]
  },
  {
   "cell_type": "code",
   "execution_count": 16,
   "metadata": {
    "collapsed": false
   },
   "outputs": [
    {
     "data": {
      "text/plain": [
       "'Alabama'"
      ]
     },
     "execution_count": 16,
     "metadata": {},
     "output_type": "execute_result"
    }
   ],
   "source": [
    "states_dict = {'AL': 'Alabama', 'CA': 'California', 'NJ': 'New Jersey', 'NY': 'New York'}\n",
    "states_dict.pop('AL')"
   ]
  },
  {
   "cell_type": "code",
   "execution_count": 17,
   "metadata": {
    "collapsed": false
   },
   "outputs": [
    {
     "data": {
      "text/plain": [
       "{'CA': 'California', 'NJ': 'New Jersey', 'NY': 'New York'}"
      ]
     },
     "execution_count": 17,
     "metadata": {},
     "output_type": "execute_result"
    }
   ],
   "source": [
    "states_dict"
   ]
  },
  {
   "cell_type": "markdown",
   "metadata": {},
   "source": [
    "### del( )"
   ]
  },
  {
   "cell_type": "markdown",
   "metadata": {},
   "source": [
    "del() method can be used to perform the above operation and also can be used to remove an entire dictionary. It does not return anything.\n",
    "Example:"
   ]
  },
  {
   "cell_type": "code",
   "execution_count": 18,
   "metadata": {
    "collapsed": false
   },
   "outputs": [
    {
     "data": {
      "text/plain": [
       "{'CA': 'California', 'NJ': 'New Jersey', 'NY': 'New York'}"
      ]
     },
     "execution_count": 18,
     "metadata": {},
     "output_type": "execute_result"
    }
   ],
   "source": [
    "states_dict = {'AL': 'Alabama', 'CA': 'California', 'NJ': 'New Jersey', 'NY': 'New York'}\n",
    "del states_dict['AL']\n",
    "states_dict"
   ]
  },
  {
   "cell_type": "code",
   "execution_count": 19,
   "metadata": {
    "collapsed": true
   },
   "outputs": [],
   "source": [
    "del states_dict"
   ]
  },
  {
   "cell_type": "code",
   "execution_count": 20,
   "metadata": {
    "collapsed": false
   },
   "outputs": [
    {
     "ename": "NameError",
     "evalue": "name 'states_dict' is not defined",
     "output_type": "error",
     "traceback": [
      "\u001b[1;31m---------------------------------------------------------------------------\u001b[0m",
      "\u001b[1;31mNameError\u001b[0m                                 Traceback (most recent call last)",
      "\u001b[1;32m<ipython-input-20-0d583e464cf4>\u001b[0m in \u001b[0;36m<module>\u001b[1;34m()\u001b[0m\n\u001b[1;32m----> 1\u001b[1;33m \u001b[0mstates_dict\u001b[0m  \u001b[1;31m# Will raise an error because we deleted the object.\u001b[0m\u001b[1;33m\u001b[0m\u001b[0m\n\u001b[0m",
      "\u001b[1;31mNameError\u001b[0m: name 'states_dict' is not defined"
     ]
    }
   ],
   "source": [
    "states_dict  # Will raise an error because we deleted the object."
   ]
  },
  {
   "cell_type": "markdown",
   "metadata": {},
   "source": [
    "### clear( )\n",
    "\n",
    "clear method clears all items from the dictionary"
   ]
  },
  {
   "cell_type": "code",
   "execution_count": 21,
   "metadata": {
    "collapsed": false
   },
   "outputs": [
    {
     "data": {
      "text/plain": [
       "{}"
      ]
     },
     "execution_count": 21,
     "metadata": {},
     "output_type": "execute_result"
    }
   ],
   "source": [
    "states_dict = {'CA': 'California', 'NJ': 'New Jersey', 'NY': 'New York'}\n",
    "states_dict.clear()\n",
    "states_dict"
   ]
  },
  {
   "cell_type": "markdown",
   "metadata": {},
   "source": [
    "## Traversing a Dictionary\n",
    "\n",
    "### for loop:\n",
    "\n",
    "A dictionary can be traversed by using for loops.\n",
    "Example:"
   ]
  },
  {
   "cell_type": "code",
   "execution_count": 22,
   "metadata": {
    "collapsed": false
   },
   "outputs": [
    {
     "name": "stdout",
     "output_type": "stream",
     "text": [
      "NY New York\n",
      "CA California\n",
      "NJ New Jersey\n",
      "AL Alabama\n"
     ]
    }
   ],
   "source": [
    "states_dict = {'AL': 'Alabama', 'CA': 'California', 'NJ': 'New Jersey', 'NY': 'New York'}\n",
    "for k in states_dict:\n",
    "    print k, states_dict[k]"
   ]
  },
  {
   "cell_type": "code",
   "execution_count": 23,
   "metadata": {
    "collapsed": false
   },
   "outputs": [
    {
     "name": "stdout",
     "output_type": "stream",
     "text": [
      "NY: New York\n",
      "CA: California\n",
      "NJ: New Jersey\n",
      "AL: Alabama\n"
     ]
    }
   ],
   "source": [
    "for k, v in states_dict.items():  # We will see items() method in next sub- topic\n",
    "    print ': '.join((k, v))"
   ]
  },
  {
   "cell_type": "markdown",
   "metadata": {},
   "source": [
    "### keys( ) , values( ) and items( )\n",
    "\n",
    "The keys() method returns a list of keys in dictionary. The values() method returns a list of all the values and items() returns a list of all key-value tuples.\n",
    "Example:"
   ]
  },
  {
   "cell_type": "code",
   "execution_count": 24,
   "metadata": {
    "collapsed": false
   },
   "outputs": [
    {
     "data": {
      "text/plain": [
       "['NY', 'CA', 'NJ', 'AL']"
      ]
     },
     "execution_count": 24,
     "metadata": {},
     "output_type": "execute_result"
    }
   ],
   "source": [
    "states_dict = {'AL': 'Alabama', 'CA': 'California', 'NJ': 'New Jersey', 'NY': 'New York'}\n",
    "states_dict.keys()"
   ]
  },
  {
   "cell_type": "code",
   "execution_count": 25,
   "metadata": {
    "collapsed": false
   },
   "outputs": [
    {
     "data": {
      "text/plain": [
       "['New York', 'California', 'New Jersey', 'Alabama']"
      ]
     },
     "execution_count": 25,
     "metadata": {},
     "output_type": "execute_result"
    }
   ],
   "source": [
    "states_dict.values()"
   ]
  },
  {
   "cell_type": "code",
   "execution_count": 26,
   "metadata": {
    "collapsed": false
   },
   "outputs": [
    {
     "data": {
      "text/plain": [
       "[('NY', 'New York'),\n",
       " ('CA', 'California'),\n",
       " ('NJ', 'New Jersey'),\n",
       " ('AL', 'Alabama')]"
      ]
     },
     "execution_count": 26,
     "metadata": {},
     "output_type": "execute_result"
    }
   ],
   "source": [
    "states_dict.items()"
   ]
  },
  {
   "cell_type": "markdown",
   "metadata": {},
   "source": [
    "## Sorting\n",
    "\n",
    "Dictionaries in python can be sorted using keys or values. Just like keys the dictionaries can be sorted in ascending or descending order. First let us look as the built-in function sorted() and then the method specific to collections class.\n",
    "\n",
    "### sorted( )\n",
    "\n",
    "Sorted method returns a sorted list from the items in the iterable (in our case it is a dictionary). It can also take a boolean value for reverse which, if set as True, will sort the iterable in descending order. It is actually the most efficient way to sort anything, be it strings, integers, dictionaries, lists etc. \n",
    "Example:\n",
    "\n"
   ]
  },
  {
   "cell_type": "code",
   "execution_count": 27,
   "metadata": {
    "collapsed": false
   },
   "outputs": [
    {
     "name": "stdout",
     "output_type": "stream",
     "text": [
      "AL : Alabama\n",
      "CA : California\n",
      "NJ : New Jersey\n",
      "NY : New York\n"
     ]
    }
   ],
   "source": [
    "states_dict = {'AL': 'Alabama', 'CA': 'California', 'NJ': 'New Jersey', 'NY': 'New York'}\n",
    "for key in sorted (states_dict.iterkeys()):\n",
    "    print '%s : %s'%(key, states_dict[key])"
   ]
  },
  {
   "cell_type": "code",
   "execution_count": 28,
   "metadata": {
    "collapsed": false
   },
   "outputs": [
    {
     "name": "stdout",
     "output_type": "stream",
     "text": [
      "NY : New York\n",
      "NJ : New Jersey\n",
      "CA : California\n",
      "AL : Alabama\n"
     ]
    }
   ],
   "source": [
    "for key in sorted (states_dict.iterkeys(), reverse=True):\n",
    "    print '%s : %s'%(key, states_dict[key])"
   ]
  },
  {
   "cell_type": "markdown",
   "metadata": {},
   "source": [
    "If you observe the above example, we have used a function iterkeys() This function returns an iterator over the dictionary's keys..\n",
    "\n",
    "### sort( )\n",
    "\n",
    "Just like the sort method in lists, the method simply sorts the data. \n",
    "Example:"
   ]
  },
  {
   "cell_type": "code",
   "execution_count": 29,
   "metadata": {
    "collapsed": false
   },
   "outputs": [
    {
     "name": "stdout",
     "output_type": "stream",
     "text": [
      "AL : Alabama\n",
      "CA : California\n",
      "NJ : New Jersey\n",
      "NY : New York\n"
     ]
    }
   ],
   "source": [
    "states_dict = {'AL': 'Alabama', 'CA': 'California', 'NJ': 'New Jersey', 'NY': 'New York'}\n",
    "k = states_dict.keys()\n",
    "k.sort()  # For reverse sorting, pass the argument reverse=True\n",
    "for x in k:\n",
    "    print '%s : %s'%((x, states_dict[x]))"
   ]
  },
  {
   "cell_type": "code",
   "execution_count": null,
   "metadata": {
    "collapsed": true
   },
   "outputs": [],
   "source": []
  },
  {
   "cell_type": "markdown",
   "metadata": {},
   "source": [
    "---------\n",
    "## Exercise\n",
    "\n",
    "- 1\n",
    "\n",
    " - An iterator, as the name suggests creates an iterator object which can be manually accessed using next() method. As an exercise, create a dictionary's keyiterator object and assign it to a variable and then access the items/ elements of the iterator object using next() method.\n",
    "\n",
    " - Use the built-in method iter() and see what is the output when you use next function with it.\n",
    "\n",
    " - Sort the items by their values."
   ]
  },
  {
   "cell_type": "markdown",
   "metadata": {},
   "source": [
    "## Views\n",
    "\n",
    "The views are methods that are introduced in Python 2.7 (It is highly recommended to upgrade your python version if you are running Python version < 2.7) The problem with dictionary methods like items() is that it wastes the resources by creating a copy of the dictionary's key, value pair. However view() methods reflect the changes without creating a copy. Basically, views doesn't care if the dictionary has been changed, all it does is show the view of the dictionary. Let's take a look at an example that shows difference between iteritems() and viewitems().\n",
    "Example:"
   ]
  },
  {
   "cell_type": "code",
   "execution_count": 30,
   "metadata": {
    "collapsed": false
   },
   "outputs": [
    {
     "data": {
      "text/plain": [
       "'Alabama'"
      ]
     },
     "execution_count": 30,
     "metadata": {},
     "output_type": "execute_result"
    }
   ],
   "source": [
    "states_dict = {'AL': 'Alabama', 'CA': 'California', 'NJ': 'New Jersey', 'NY': 'New York'}\n",
    "s_iter = states_dict.iteritems()\n",
    "states_dict.pop('AL')"
   ]
  },
  {
   "cell_type": "code",
   "execution_count": 31,
   "metadata": {
    "collapsed": false
   },
   "outputs": [
    {
     "ename": "RuntimeError",
     "evalue": "dictionary changed size during iteration",
     "output_type": "error",
     "traceback": [
      "\u001b[1;31m---------------------------------------------------------------------------\u001b[0m",
      "\u001b[1;31mRuntimeError\u001b[0m                              Traceback (most recent call last)",
      "\u001b[1;32m<ipython-input-31-e32cc735634f>\u001b[0m in \u001b[0;36m<module>\u001b[1;34m()\u001b[0m\n\u001b[1;32m----> 1\u001b[1;33m \u001b[1;32mfor\u001b[0m \u001b[0mi\u001b[0m \u001b[1;32min\u001b[0m \u001b[0ms_iter\u001b[0m\u001b[1;33m:\u001b[0m\u001b[1;33m\u001b[0m\u001b[0m\n\u001b[0m\u001b[0;32m      2\u001b[0m     \u001b[1;32mprint\u001b[0m \u001b[0mi\u001b[0m\u001b[1;33m\u001b[0m\u001b[0m\n",
      "\u001b[1;31mRuntimeError\u001b[0m: dictionary changed size during iteration"
     ]
    }
   ],
   "source": [
    "for i in s_iter:\n",
    "    print i"
   ]
  },
  {
   "cell_type": "markdown",
   "metadata": {},
   "source": [
    "We expected an error right? Because the iterator was trying to go through all the items in the dictionary and suddenly it detected that dictionary was changed due to our pop() method.\n",
    "Now lets try the same thing with viewitems() instead of iteritems() and see if we still get an error or not.\n",
    "Example:"
   ]
  },
  {
   "cell_type": "code",
   "execution_count": 32,
   "metadata": {
    "collapsed": false
   },
   "outputs": [
    {
     "data": {
      "text/plain": [
       "dict_items([('NY', 'New York'), ('CA', 'California'), ('NJ', 'New Jersey'), ('AL', 'Alabama')])"
      ]
     },
     "execution_count": 32,
     "metadata": {},
     "output_type": "execute_result"
    }
   ],
   "source": [
    "states_dict = {'AL': 'Alabama', 'CA': 'California', 'NJ': 'New Jersey', 'NY': 'New York'}\n",
    "s_view = states_dict.viewitems()\n",
    "s_view"
   ]
  },
  {
   "cell_type": "code",
   "execution_count": 33,
   "metadata": {
    "collapsed": false
   },
   "outputs": [
    {
     "data": {
      "text/plain": [
       "dict_items([('NY', 'New York'), ('CA', 'California'), ('NJ', 'New Jersey')])"
      ]
     },
     "execution_count": 33,
     "metadata": {},
     "output_type": "execute_result"
    }
   ],
   "source": [
    "states_dict.pop('AL')\n",
    "s_view  # We didn't modify it after popping."
   ]
  },
  {
   "cell_type": "markdown",
   "metadata": {},
   "source": [
    "This example makes it clear that viewitems does not create a copy, it just shows the current dictionary. If you try using items() method or iteritems() method after modifying the dictionary, it will always throw an error."
   ]
  },
  {
   "cell_type": "markdown",
   "metadata": {},
   "source": [
    "---------\n",
    "## Exercise\n",
    "\n",
    "Exercise: Try using the viewkeys() and viewvalues() and compare the differences between them and iteritems() & iterkeys().\n",
    "\n",
    "*Remember, If you have any difficulty using any function or method in Jupyter notebook, type the function or method name followed by a '?' or `shift + Tab` and it will print the docstring/ help manual for you.*"
   ]
  }
 ],
 "metadata": {
  "kernelspec": {
   "display_name": "Python 2",
   "language": "python",
   "name": "python2"
  },
  "language_info": {
   "codemirror_mode": {
    "name": "ipython",
    "version": 2
   },
   "file_extension": ".py",
   "mimetype": "text/x-python",
   "name": "python",
   "nbconvert_exporter": "python",
   "pygments_lexer": "ipython2",
   "version": "2.7.11"
  }
 },
 "nbformat": 4,
 "nbformat_minor": 0
}
