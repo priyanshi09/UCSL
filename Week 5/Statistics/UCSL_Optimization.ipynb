{
 "cells": [
  {
   "cell_type": "markdown",
   "metadata": {},
   "source": [
    "Optimization problem:\n",
    "$$\n",
    "F(x)\\to min(max)\n",
    "$$\n",
    "\n",
    "$$\n",
    "x^*=argmin(max)_X F(x)\n",
    "$$\n",
    "\n",
    "Common family of iterative optimization methods is known as \"gradient descent\":\n",
    "\n",
    "$$\n",
    "x^{j+1}=x^j-(+)\\lambda_j \\triangledown F(x^j),\n",
    "$$\n",
    "\n",
    "where $\\nabla F(x)$ denotes a gradient vector of $F$ in the point $x$, while $\\lambda_j$ are certain real positive numbers picked up with respect to $F(x^{j+1})<(>)F(x^j)$.\n",
    "\n",
    "### Optimization example. \n",
    "Consider several points on the map and look for a such a centroid location that sum of distances from it to the given points is minimal:\n",
    "$$\n",
    "\\sum\\limits_i \\sqrt{(x_i-x^*)^2+(y_i-y^*)^2}\\to min\n",
    "$$"
   ]
  },
  {
   "cell_type": "code",
   "execution_count": 3,
   "metadata": {
    "collapsed": false
   },
   "outputs": [
    {
     "name": "stdout",
     "output_type": "stream",
     "text": [
      "Populating the interactive namespace from numpy and matplotlib\n"
     ]
    }
   ],
   "source": [
    "#import all the required libraries\n",
    "import numpy as np\n",
    "from numpy import random\n",
    "from scipy import stats\n",
    "import matplotlib.pyplot as plt\n",
    "%pylab inline"
   ]
  },
  {
   "cell_type": "code",
   "execution_count": 7,
   "metadata": {
    "collapsed": false
   },
   "outputs": [
    {
     "data": {
      "text/plain": [
       "(0, 10)"
      ]
     },
     "execution_count": 7,
     "metadata": {},
     "output_type": "execute_result"
    },
    {
     "data": {
      "image/png": "[encoded data removed]",
      "text/plain": [
       "<matplotlib.figure.Figure at 0x1090719d0>"
      ]
     },
     "metadata": {},
     "output_type": "display_data"
    }
   ],
   "source": [
    "random.seed(2015) #fix an initial point of the random generator\n",
    "#create 20 random locations with uniformly distributed coordinates between 0 and 10\n",
    "x=stats.uniform.rvs(0,10,20)\n",
    "y=stats.uniform.rvs(0,10,20)\n",
    "#plot the points\n",
    "plt.figure()\n",
    "plt.plot(x,y,'go')\n",
    "plt.xlim(0,10)\n",
    "plt.ylim(0,10)"
   ]
  },
  {
   "cell_type": "code",
   "execution_count": 26,
   "metadata": {
    "collapsed": false
   },
   "outputs": [
    {
     "name": "stdout",
     "output_type": "stream",
     "text": [
      "[ 3.80114465  5.36184751]\n",
      "[ 3.76705774  5.93304754]\n",
      "[ 4.03379298  5.92249482]\n",
      "[ 4.03495211  5.92641014]\n",
      "[ 4.034886    5.92639866]\n",
      "Optimization terminated successfully.\n",
      "         Current function value: 74.264646\n",
      "         Iterations: 5\n",
      "         Function evaluations: 9\n",
      "         Gradient evaluations: 9\n"
     ]
    },
    {
     "data": {
      "text/plain": [
       "   status: 0\n",
       "  success: True\n",
       "     njev: 9\n",
       "     nfev: 9\n",
       " hess_inv: array([[ 0.29929803, -0.03646633],\n",
       "       [-0.03646633,  0.23555082]])\n",
       "      fun: 74.26464596014955\n",
       "        x: array([ 4.034886  ,  5.92639866])\n",
       "  message: 'Optimization terminated successfully.'\n",
       "      jac: array([  2.30952157e-09,   5.00237886e-08])"
      ]
     },
     "execution_count": 26,
     "metadata": {},
     "output_type": "execute_result"
    },
    {
     "data": {
      "image/png": "[encoded data removed]",
      "text/plain": [
       "<matplotlib.figure.Figure at 0x108f86a10>"
      ]
     },
     "metadata": {},
     "output_type": "display_data"
    }
   ],
   "source": [
    "from scipy.optimize import minimize\n",
    "\n",
    "def f(xy): #function computing cumulative distance from a considered centroid point to all the given ones\n",
    "    return sum(np.sqrt((np.square(x-xy[0])+np.square(y-xy[1]))))\n",
    "\n",
    "def f_der(xy): #gradient of the function above with respect to the coordinates x,y of the considered point\n",
    "    f_=np.sqrt((np.square(x-xy[0])+np.square(y-xy[1])))\n",
    "    return -np.array([sum((x-xy[0])/f_),sum((y-xy[1])/f_)])\n",
    "\n",
    "#plot the given points\n",
    "plt.figure()\n",
    "plt.plot(x,y,'go')\n",
    "plt.xlim(0,10)\n",
    "plt.ylim(0,10)\n",
    "#set up initial centroid location \n",
    "prevpoint=[0, 1];\n",
    "\n",
    "def visiter(params):\n",
    "    #visualize current iteration results connecting previous centroid location to the new one\n",
    "    global prevpoint\n",
    "    plt.plot([prevpoint[0],params[0]],[prevpoint[1],params[1]],'b:o')\n",
    "    plt.plot(params[0],params[1],'ro')\n",
    "    prevpoint=params\n",
    "    print(params)\n",
    "    \n",
    "#find an optimal centroid location minimizing the cumulative distance to the given points (f) using the gradient (f_der)\n",
    "#with respect to given accuracy gtol, visualizing results of each iteration\n",
    "minimize(f, prevpoint, method='BFGS', jac=f_der, options={'gtol': 1e-4, 'disp': True}, callback=visiter)"
   ]
  },
  {
   "cell_type": "code",
   "execution_count": null,
   "metadata": {
    "collapsed": true
   },
   "outputs": [],
   "source": []
  }
 ],
 "metadata": {
  "kernelspec": {
   "display_name": "Python 2",
   "language": "python",
   "name": "python2"
  },
  "language_info": {
   "codemirror_mode": {
    "name": "ipython",
    "version": 2
   },
   "file_extension": ".py",
   "mimetype": "text/x-python",
   "name": "python",
   "nbconvert_exporter": "python",
   "pygments_lexer": "ipython2",
   "version": "2.7.10"
  }
 },
 "nbformat": 4,
 "nbformat_minor": 0
}
