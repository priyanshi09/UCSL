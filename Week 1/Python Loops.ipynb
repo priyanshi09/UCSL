{
 "cells": [
  {
   "cell_type": "markdown",
   "metadata": {},
   "source": [
    "<h1 align='center'>Python Loops</h1>"
   ]
  },
  {
   "cell_type": "markdown",
   "metadata": {},
   "source": [
    "Generally in python, statements are executed sequentially and once executed it is not repeated again. There may be a situation when you need to execute a piece of code n number of times, this is where the loops come in. Python has two types of loops viz. for loop and while loop. Lets take a look at an example:"
   ]
  },
  {
   "cell_type": "code",
   "execution_count": 1,
   "metadata": {
    "collapsed": false
   },
   "outputs": [
    {
     "name": "stdout",
     "output_type": "stream",
     "text": [
      "Hello World!\n",
      "Hello World!\n",
      "Hello World!\n"
     ]
    }
   ],
   "source": [
    "for i in range(3):\n",
    "    print 'Hello World!'"
   ]
  },
  {
   "cell_type": "code",
   "execution_count": 2,
   "metadata": {
    "collapsed": false
   },
   "outputs": [
    {
     "name": "stdout",
     "output_type": "stream",
     "text": [
      "Hello World\n",
      "Hello World\n"
     ]
    }
   ],
   "source": [
    "while i > 0:\n",
    "    print 'Hello World'\n",
    "    i -= 1"
   ]
  },
  {
   "cell_type": "markdown",
   "metadata": {},
   "source": [
    "As you can see, they both serve different purposes. For loop is used when you want to run something for fixed amount of times, whereas while loop can theoretically run forever (if you use something like `while True:`). "
   ]
  },
  {
   "cell_type": "markdown",
   "metadata": {},
   "source": [
    "## Working of Loops"
   ]
  },
  {
   "cell_type": "markdown",
   "metadata": {},
   "source": [
    "If you've done any programming before, there's no doubt you've come across a for loop or an equivalent to it. In Python, they work a little differently. Basically, any object with an iterable method can be used in a for loop in Python. Even strings, despite not having an iterable method - but we'll not get on to that here. Having an iterable method basically means that the data can be presented in list form, where there's multiple values in an orderly fashion. You can define your own iterables by creating an object with next() and iter() methods (We will use this in later parts of the module). This means that you'll rarely be dealing with raw numbers when it comes to for loops in Python - great for just about anyone!\n",
    "\n",
    "When you have a piece of code that you want to run x number of times, then code within that code which you want to run y number of times, you can use what is known as nested loops. In python these are heavily used with list (especially when it is a list of lists).\n",
    "Example:"
   ]
  },
  {
   "cell_type": "code",
   "execution_count": 5,
   "metadata": {
    "collapsed": false
   },
   "outputs": [
    {
     "name": "stdout",
     "output_type": "stream",
     "text": [
      "i: 5\ty: 11\n",
      "i: 5\ty: 12\n",
      "i: 5\ty: 13\n",
      "i: 5\ty: 14\n",
      "i: 6\ty: 11\n",
      "i: 6\ty: 12\n",
      "i: 6\ty: 13\n",
      "i: 6\ty: 14\n",
      "i: 7\ty: 11\n",
      "i: 7\ty: 12\n",
      "i: 7\ty: 13\n",
      "i: 7\ty: 14\n",
      "i: 8\ty: 11\n",
      "i: 8\ty: 12\n",
      "i: 8\ty: 13\n",
      "i: 8\ty: 14\n",
      "i: 9\ty: 11\n",
      "i: 9\ty: 12\n",
      "i: 9\ty: 13\n",
      "i: 9\ty: 14\n"
     ]
    }
   ],
   "source": [
    "# Nested Loops\n",
    "for i in xrange(5, 10):\n",
    "    for y in xrange(11, 15):\n",
    "        print 'i: %s\\ty: %s'%(i, y)\n",
    "        "
   ]
  },
  {
   "cell_type": "code",
   "execution_count": 7,
   "metadata": {
    "collapsed": false
   },
   "outputs": [
    {
     "name": "stdout",
     "output_type": "stream",
     "text": [
      "1\n",
      "2\n",
      "3\n",
      "4\n",
      "5\n",
      "6\n"
     ]
    }
   ],
   "source": [
    "# List of Lists\n",
    "a = [[1,2,3], [4,5,6]]\n",
    "for lists in a:\n",
    "    for x in lists:\n",
    "        print x"
   ]
  },
  {
   "cell_type": "markdown",
   "metadata": {},
   "source": [
    "## Loop Control Statements"
   ]
  },
  {
   "cell_type": "markdown",
   "metadata": {},
   "source": [
    "Loop control statements change the executing of loop from its normal sequence. When execution leaves a scope, all automatic objects that were created in that scope are destroyed."
   ]
  },
  {
   "cell_type": "markdown",
   "metadata": {},
   "source": [
    "### Break Statement"
   ]
  },
  {
   "cell_type": "markdown",
   "metadata": {},
   "source": [
    "It terminates the current loop and resumes the execution at the next statement. The most common use for break is when some external condition is triggered requiring a hasty exit from a loop. The break statement can be used in both while and for loops.\n",
    "Example:"
   ]
  },
  {
   "cell_type": "code",
   "execution_count": 1,
   "metadata": {
    "collapsed": false
   },
   "outputs": [
    {
     "name": "stdout",
     "output_type": "stream",
     "text": [
      "2 x 2 = 4\n",
      "2 x 3 = 6\n",
      "2 x 4 = 8\n",
      "2 x 5 = 10\n",
      "2 x 6 = 12\n",
      "2 x 7 = 14\n",
      "2 x 8 = 16\n",
      "2 x 9 = 18\n",
      "2 x 10 = 20\n"
     ]
    }
   ],
   "source": [
    "i = 1\n",
    "j = 1\n",
    "while i:\n",
    "    i += 1\n",
    "    while j:\n",
    "        j += 1\n",
    "        if j > 10:\n",
    "            break\n",
    "        else:\n",
    "            print \"{i} x {j} = {ans}\".format(i=i, j=j, ans=i * j)\n",
    "    if i > 10:\n",
    "        break"
   ]
  },
  {
   "cell_type": "code",
   "execution_count": 8,
   "metadata": {
    "collapsed": false
   },
   "outputs": [
    {
     "name": "stdout",
     "output_type": "stream",
     "text": [
      "1\n",
      "2\n",
      "3\n",
      "4\n",
      "Condition satisfied\n"
     ]
    }
   ],
   "source": [
    "for i in range(1, 10):\n",
    "    if i == 5:\n",
    "        print 'Condition satisfied'\n",
    "        break\n",
    "    print i  # What would happen if this is placed before if condition?"
   ]
  },
  {
   "cell_type": "markdown",
   "metadata": {},
   "source": [
    "From above example you can observe that when the value of i reached 5, the if condition was satisfied and the break statement was executed which stopped the for loop and exited."
   ]
  },
  {
   "cell_type": "markdown",
   "metadata": {},
   "source": [
    "### Continue"
   ]
  },
  {
   "cell_type": "markdown",
   "metadata": {},
   "source": [
    "Continue statement returns the control to the beginning of the loop. The continue statement rejects all the remaining statements in the current iteration of the loop and moves the control back to the top of the loop.\n",
    "Example:"
   ]
  },
  {
   "cell_type": "code",
   "execution_count": 11,
   "metadata": {
    "collapsed": false
   },
   "outputs": [
    {
     "name": "stdout",
     "output_type": "stream",
     "text": [
      "9\n",
      "Condition satisfied\n",
      "7\n",
      "6\n",
      "5\n",
      "4\n",
      "3\n",
      "2\n",
      "1\n",
      "0\n"
     ]
    }
   ],
   "source": [
    "x = 10\n",
    "while x > 0:\n",
    "    x -= 1\n",
    "    if x == 8:\n",
    "        print 'Condition satisfied'\n",
    "        continue\n",
    "    print x\n",
    "\n",
    "#What is the difference when use the same code but in a for loop?"
   ]
  },
  {
   "cell_type": "markdown",
   "metadata": {},
   "source": [
    "### Pass "
   ]
  },
  {
   "cell_type": "markdown",
   "metadata": {},
   "source": [
    "Pass is used when a statement is required syntactically but performs a null operation i.e. nothing happens when the statement is executed.\n",
    "Example:\n",
    "\n"
   ]
  },
  {
   "cell_type": "code",
   "execution_count": 13,
   "metadata": {
    "collapsed": false
   },
   "outputs": [
    {
     "name": "stdout",
     "output_type": "stream",
     "text": [
      "1\n",
      "2\n",
      "3\n",
      "4\n",
      "Condition satisfied\n",
      "5\n",
      "6\n",
      "7\n",
      "8\n",
      "9\n"
     ]
    }
   ],
   "source": [
    "for i in range(1, 10):\n",
    "    if i == 5:\n",
    "        print 'Condition satisfied'\n",
    "        pass\n",
    "    print i"
   ]
  },
  {
   "cell_type": "markdown",
   "metadata": {},
   "source": [
    "As you can see execution of pass statement had no effect on the flow of the code. It wouldn't have mattered if it was not there. So when is it useful? It is generally used for temporary unimplemented logic. For example you have written a function and you are using if condition to test for something but before that you need to check the output of the code or just execute it. You can use pass statement. Python interpreter will read that and skip that part and get on with further execution."
   ]
  },
  {
   "cell_type": "markdown",
   "metadata": {},
   "source": [
    "## range and xrange"
   ]
  },
  {
   "cell_type": "markdown",
   "metadata": {},
   "source": [
    "We used `range` and `xrange` in the examples of flow control statements. `range` function creates a `list` containing the numbers defined by the input. `xrange` on the other hand creates a number `generator`. The difference is very subtle but important based on what you are using it for. You will observe that `xrange` is used more frequently than the `range` function and the reason is resource usage. `xrange` generates (technically evaluates lazily) the numbers as needed whereas `range` creates the list of all the numbers at once. This means that using `xrange` less memory is used. However important point to note is that since the `generators` are stateless, you have to iterate or evaluate everytime you use `xrange`\n",
    "\n",
    "Imagine a scenario where we are using loop control statements and somewhere in the code we need to exit the loop pre-maturely. If we use the `range` function, the memory is wasted creating the unused numbers. It might not sound like a big deal for small lists or small numbers but when you consider `list`s that hold data read from a csv file which has thousands of entries.. the difference is pretty significant.\n",
    "\n",
    "On the other hand, Imagine a scenario where you have to loop between numbers multiple times (nested loops, for example). In this case, it would be time consuming to generate the numbers everytime. It would make sense to expand using `range` and loop over them everytime."
   ]
  }
 ],
 "metadata": {
  "kernelspec": {
   "display_name": "Python 2",
   "language": "python",
   "name": "python2"
  },
  "language_info": {
   "codemirror_mode": {
    "name": "ipython",
    "version": 2
   },
   "file_extension": ".py",
   "mimetype": "text/x-python",
   "name": "python",
   "nbconvert_exporter": "python",
   "pygments_lexer": "ipython2",
   "version": "2.7.11"
  }
 },
 "nbformat": 4,
 "nbformat_minor": 0
}
