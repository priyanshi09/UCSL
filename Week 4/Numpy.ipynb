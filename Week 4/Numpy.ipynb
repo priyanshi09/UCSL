{
 "cells": [
  {
   "cell_type": "markdown",
   "metadata": {},
   "source": [
    "<h1 align='center'>Numpy</h1>"
   ]
  },
  {
   "cell_type": "markdown",
   "metadata": {},
   "source": [
    "NumPy (Numerical Python) is an opensource library for scientific computing in python. Numpy let's you work with arrays and matrices in a natural way unlike lists where you have to loop through individual elements to perform any numerical operation.The methods in numpy are designed with high performance in mind. Numpy arrays are stored more efficiently than an equivalent data structure in python such as lists and arrays. This especially pays off when you are using really large arrays (large data sets). Major portion of numpy is written in C and thus the computations are faster than the pure python code. Numpy actually used to be a part of major scientific package called SciPy but eventually numpy was separated and now scipy uses numpy for its major tasks. \n",
    "\n",
    "Let's get to know Numpy and see why is it so popular!"
   ]
  },
  {
   "cell_type": "markdown",
   "metadata": {},
   "source": [
    "## Basics\n",
    "\n",
    "Numpy's main object is the homogeneous multidimensional array. Numpy's array class is called ndarray. It is a table of numbers, indexed by a tuple of positive integers. In numpy dimensions are called as axes. The number of axes is known as rank. Numpy arrays are similar to Python lists with few differences such as: \n",
    " - All the elements in a numpy array must be of same datatype. \n",
    " - You can't change the size of a numpy array (atleast not without making a full copy.. we'll see this a little later)\n",
    " - Numpy arrays are easy to construct and to manipulate.\n",
    " - Numpy arrays support “vectorized” operations like elementwise addition and multiplication.\n",
    "\n",
    "Lets look at how to create numpy arrays"
   ]
  },
  {
   "cell_type": "code",
   "execution_count": 1,
   "metadata": {
    "collapsed": false
   },
   "outputs": [
    {
     "name": "stdout",
     "output_type": "stream",
     "text": [
      "Type:  <type 'numpy.ndarray'>\n",
      "Shape:  (4,)\n",
      "Dimension:  1\n",
      "Itemsize:  8\n",
      "Size:  4\n"
     ]
    }
   ],
   "source": [
    "import numpy as np\n",
    "a = np.array([1, 2, 3, 4], float)  # Single dimensional Array\n",
    "print 'Type: ',type(a)\n",
    "print 'Shape: ',a.shape\n",
    "print 'Dimension: ',a.ndim\n",
    "print 'Itemsize: ',a.itemsize\n",
    "print 'Size: ',a.size"
   ]
  },
  {
   "cell_type": "code",
   "execution_count": 2,
   "metadata": {
    "collapsed": false
   },
   "outputs": [
    {
     "name": "stdout",
     "output_type": "stream",
     "text": [
      "Datatype:  |S32\n"
     ]
    }
   ],
   "source": [
    "# Elements have to be of same datatype\n",
    "b = np.array([1, 2.0, \"ucsl\"])\n",
    "print \"Datatype: \", b.dtype\n",
    "\n",
    "# This will result in a ValueError:\n",
    "# np.array([1, 2.0, \"ucsl\"], float)"
   ]
  },
  {
   "cell_type": "markdown",
   "metadata": {},
   "source": [
    "The above output means that the datatype is of type `(byte-)string` and can contain 256 characters"
   ]
  },
  {
   "cell_type": "markdown",
   "metadata": {},
   "source": [
    "The method array, takes two arguments: the list to be converted into the array and the datatype of **every** member of the list. There are many attributes of ndarray and by now you should be able to understand how to access those attributes and get help for them. In the above example, I have mentioned a few more important ones. Let's understand what they mean.\n",
    "\n",
    "### ndarray.ndim\n",
    "\n",
    "It is the number of axes or dimensions of the array.\n",
    "\n",
    "### ndarray.shape\n",
    "\n",
    "It is the dimension of the array. This is a tuple of integers indicating the size of the array in each dimension. For matrix with n rows and m columns, the shape will be (m, n). The length of the shape tuple is therefore the rank, or number of dimensions, ndim\n",
    "\n",
    "### ndarray.dtype\n",
    "\n",
    "It is an object describing the type of the elements in the array. Remember that all the elements need to be of same datatype in a numpy array. Additionally numpy provides its own numpy.int16, numpy.int32, numpy.float64 and so on.\n",
    "\n",
    "### ndarray.itemsize\n",
    "\n",
    "The size in bytes of each element of the array. For example an array of elements of type float64 (above example) has itemsize of 64 / 8 = 64. While one complex32 has item size of 4 32 / 8. \n",
    "\n",
    "### ndarray.data\n",
    "\n",
    "This is the buffer containing the actual elements of the array. Normally this attribute is not used as numpy offers many fancy indexing facilities."
   ]
  },
  {
   "cell_type": "markdown",
   "metadata": {},
   "source": [
    "##Numpy Datatypes\n",
    "\n",
    "Numpy supports a much greater variety of numerical types than Python does.\n",
    "\n",
    "|Data type\t|Description|\n",
    "|----------|----------|\n",
    "|bool\\_\t|Boolean (True or False) stored as a byte\n",
    "|int\\_\t|Default integer type (same as C long; normally either int64 or int32)\n",
    "|intc\t|Identical to C int (normally int32 or int64)\n",
    "|intp\t|Integer used for indexing (same as C ssize_t; normally either int32 or int64)\n",
    "|int8\t|Byte (-128 to 127)\n",
    "|int16\t|Integer (-32768 to 32767)\n",
    "|int32\t|Integer (-2147483648 to 2147483647)\n",
    "|int64\t|Integer (-9223372036854775808 to 9223372036854775807)\n",
    "|uint8\t|Unsigned integer (0 to 255)\n",
    "|uint16\t|Unsigned integer (0 to 65535)\n",
    "|uint32\t|Unsigned integer (0 to 4294967295)\n",
    "|uint64\t|Unsigned integer (0 to 18446744073709551615)\n",
    "|float\\_\t|Shorthand for float64.\n",
    "|float16\t|Half precision float: sign bit, 5 bits exponent, 10 bits mantissa\n",
    "|float32\t|Single precision float: sign bit, 8 bits exponent, 23 bits mantissa\n",
    "|float64\t|Double precision float: sign bit, 11 bits exponent, 52 bits mantissa\n",
    "|complex\\_\t|Shorthand for complex128.\n",
    "|complex64\t|Complex number, represented by two 32-bit floats (real and imaginary components)\n",
    "|complex128\t|Complex number, represented by two 64-bit floats (real and imaginary components)\n",
    "\n",
    "Try using these dataypes in your codes and see the difference"
   ]
  },
  {
   "cell_type": "markdown",
   "metadata": {},
   "source": [
    "## Array Creation\n",
    "\n",
    "There are many ways in which an array can be created, we just saw one in our example above. Let's look at some other ways of creating arrays.\n",
    "Example:"
   ]
  },
  {
   "cell_type": "code",
   "execution_count": 3,
   "metadata": {
    "collapsed": false
   },
   "outputs": [
    {
     "name": "stdout",
     "output_type": "stream",
     "text": [
      "\n",
      " arange() with float dtype: \n",
      "[ 0.  1.  2.  3.  4.]\n",
      "\n",
      " arange() with int dtype: \n",
      "[1 3 5]\n",
      "\n",
      " ones(): \n",
      "[[ 1.  1.  1.]\n",
      " [ 1.  1.  1.]]\n",
      "\n",
      " zeros(): \n",
      "[[ 0.  0.  0.]\n",
      " [ 0.  0.  0.]]\n",
      "\n",
      " Empty: \n",
      "[[ -1.49166815e-154  -1.49166815e-154   2.24931036e-314   6.94183305e-310]\n",
      " [  6.94183305e-310  -1.49166815e-154  -1.49166815e-154   5.56268465e-309]]\n",
      "\n",
      " Ones_like(): \n",
      "[ 1.  1.  1.  1.  1.]\n",
      "\n",
      " Diagonal array: \n",
      "[[ 0.  0.  0.  0.  0.]\n",
      " [ 0.  1.  0.  0.  0.]\n",
      " [ 0.  0.  2.  0.  0.]\n",
      " [ 0.  0.  0.  3.  0.]\n",
      " [ 0.  0.  0.  0.  4.]]\n"
     ]
    }
   ],
   "source": [
    "a = np.arange(5, dtype=float)\n",
    "print '\\n arange() with float dtype: \\n',a\n",
    "b = np.arange(1, 6, 2, dtype=int)\n",
    "print '\\n arange() with int dtype: \\n',b  # \\n will print new line\n",
    "c = np.ones((2, 3), dtype=float)\n",
    "print '\\n ones(): \\n',c\n",
    "d = np.zeros((2,3), dtype=float)\n",
    "print '\\n zeros(): \\n',d\n",
    "e = np.empty((2, 4))\n",
    "print '\\n Empty: \\n',e  # Your output might be different..\n",
    "f = np.ones_like(a)\n",
    "print '\\n Ones_like(): \\n',f\n",
    "g = np.diag(a)\n",
    "print '\\n Diagonal array: \\n',g"
   ]
  },
  {
   "cell_type": "markdown",
   "metadata": {},
   "source": [
    "### np.arange()\n",
    "\n",
    "is the same as the range function that we used previously.\n",
    "\n",
    "### np.zeros() and np.ones()\n",
    "\n",
    "as the name suggests, generate new arrays of specified dimensions filled with these values. These are most commonly used functions to create new arrays.\n",
    "\n",
    "### np.empty()\n",
    "\n",
    "This function creates an array whose initial content is random and depends on the state of the memory. If not specified, the data type of the created array is float64\n",
    "\n",
    "### np.ones_like()  , np.zeros_like() and np.empty_like()\n",
    "\n",
    "These functions create a new array with the same dimensions and type as the existing one but with the values as either ones or zeros or random value.\n",
    "\n",
    "### np.diag()\n",
    "\n",
    "As the name suggests, this will construct a diagonal array\n"
   ]
  },
  {
   "cell_type": "markdown",
   "metadata": {},
   "source": [
    "## Printing Arrays\n",
    "\n",
    "As you must have observed from the above examples, Numpy displays the arrays in a similar way to nested lists but with the following layout:\n",
    "\n",
    "the last axis is printed from left to right\n",
    "the second to last axis is printed from top to bottom.\n",
    "the rest rest are also printed from top to bottom with each slice separated from the next by an empty line\n",
    "Simply put, single dimensional array are printed as rows, bi dimensional and multi-dimensional are printed as matrices and as lists of matrices respectively. The examples will make it more clear.\n",
    "Example:"
   ]
  },
  {
   "cell_type": "code",
   "execution_count": 4,
   "metadata": {
    "collapsed": false
   },
   "outputs": [
    {
     "name": "stdout",
     "output_type": "stream",
     "text": [
      "\n",
      "Single Dimensional: \n",
      "[0 1 2 3]\n",
      "\n",
      "Two Dimensional: \n",
      "[[0 1 2]\n",
      " [3 4 5]]\n",
      "\n",
      "Three Dimensional: \n",
      "[[[ 0  1]\n",
      "  [ 2  3]\n",
      "  [ 4  5]]\n",
      "\n",
      " [[ 6  7]\n",
      "  [ 8  9]\n",
      "  [10 11]]]\n"
     ]
    }
   ],
   "source": [
    "print '\\nSingle Dimensional: \\n',np.arange(4)\n",
    "print '\\nTwo Dimensional: \\n',np.arange(6).reshape(2,3) # We will talk about reshape soon..!\n",
    "print '\\nThree Dimensional: \\n',np.arange(12).reshape(2,3,2)"
   ]
  },
  {
   "cell_type": "markdown",
   "metadata": {},
   "source": [
    "Selecting elements from an array is a trivial process. Just like lists, we can obtain the elements of the array by using their index value. Give it a shot! We will talk in detail about indexing later.\n"
   ]
  },
  {
   "cell_type": "markdown",
   "metadata": {},
   "source": [
    "## Array Mathematics\n",
    "\n",
    "When standard mathematical operations are used with numpy arrays, they are applied on an element-by-element basis and a new array is created and filled with the result. This means that the arrays should be of same size when any mathematical operation is performed on them. Lets take a look at some examples:\n",
    "Example:"
   ]
  },
  {
   "cell_type": "code",
   "execution_count": 5,
   "metadata": {
    "collapsed": false
   },
   "outputs": [
    {
     "name": "stdout",
     "output_type": "stream",
     "text": [
      "\n",
      "b - a: \n",
      "[  3.   6.   9.  12.]\n",
      "\n",
      "b - a: \n"
     ]
    },
    {
     "ename": "ValueError",
     "evalue": "operands could not be broadcast together with shapes (3,) (4,) ",
     "output_type": "error",
     "traceback": [
      "\u001b[0;31m---------------------------------------------------------------------------\u001b[0m",
      "\u001b[0;31mValueError\u001b[0m                                Traceback (most recent call last)",
      "\u001b[0;32m<ipython-input-5-ddbf58a5585c>\u001b[0m in \u001b[0;36m<module>\u001b[0;34m()\u001b[0m\n\u001b[1;32m      5\u001b[0m \u001b[0mb\u001b[0m \u001b[0;34m=\u001b[0m \u001b[0mnp\u001b[0m\u001b[0;34m.\u001b[0m\u001b[0mlinspace\u001b[0m\u001b[0;34m(\u001b[0m\u001b[0;36m4\u001b[0m\u001b[0;34m,\u001b[0m \u001b[0;36m16\u001b[0m\u001b[0;34m,\u001b[0m \u001b[0mnum\u001b[0m\u001b[0;34m=\u001b[0m\u001b[0;36m3\u001b[0m\u001b[0;34m)\u001b[0m\u001b[0;34m\u001b[0m\u001b[0m\n\u001b[1;32m      6\u001b[0m \u001b[0;34m\u001b[0m\u001b[0m\n\u001b[0;32m----> 7\u001b[0;31m \u001b[0;32mprint\u001b[0m \u001b[0;34m'\\nb - a: \\n'\u001b[0m\u001b[0;34m,\u001b[0m \u001b[0mb\u001b[0m\u001b[0;34m-\u001b[0m\u001b[0ma\u001b[0m \u001b[0;31m# ValueErorr!\u001b[0m\u001b[0;34m\u001b[0m\u001b[0m\n\u001b[0m",
      "\u001b[0;31mValueError\u001b[0m: operands could not be broadcast together with shapes (3,) (4,) "
     ]
    }
   ],
   "source": [
    "a = np.array([1, 2, 3, 4])\n",
    "b = np.linspace(4, 16, num=4)\n",
    "\n",
    "print '\\nb - a: \\n', b-a\n",
    "b = np.linspace(4, 16, num=3)\n",
    "\n",
    "print '\\nb - a: \\n', b-a # ValueErorr!"
   ]
  },
  {
   "cell_type": "markdown",
   "metadata": {},
   "source": [
    "Lets now see these operations on multi-dimensional arrays"
   ]
  },
  {
   "cell_type": "code",
   "execution_count": 6,
   "metadata": {
    "collapsed": false
   },
   "outputs": [
    {
     "name": "stdout",
     "output_type": "stream",
     "text": [
      "\n",
      "a: \n",
      "[[0 1]\n",
      " [2 3]]\n",
      "\n",
      "b: \n",
      "[[2 2]\n",
      " [2 2]]\n",
      "\n",
      "a * b: \n",
      "[[0 2]\n",
      " [4 6]]\n",
      "\n",
      "Dot Product: \n",
      "[[ 2  2]\n",
      " [10 10]]\n"
     ]
    }
   ],
   "source": [
    "a = np.arange(4).reshape(2,2)\n",
    "print '\\na: \\n',a\n",
    "b = np.ones_like(a) * 2\n",
    "print '\\nb: \\n',b\n",
    "print '\\na * b: \\n',a * b  # This will perform element-wise multiplication\n",
    "print '\\nDot Product: \\n',np.dot(a, b)"
   ]
  },
  {
   "cell_type": "markdown",
   "metadata": {},
   "source": [
    "The above operations have been performed on the two arrays with same datatype and so the result will have the same datatype as the operand arrays. However when you perform any operation on arrays with different datatypes, the type of the resulting array will correspond to the more general or precise one. This is also known as upcasting."
   ]
  },
  {
   "cell_type": "code",
   "execution_count": 7,
   "metadata": {
    "collapsed": false
   },
   "outputs": [
    {
     "name": "stdout",
     "output_type": "stream",
     "text": [
      "\n",
      "Dtype of a: \n",
      "int16\n",
      "\n",
      "Dtype of b: \n",
      "float64\n",
      "\n",
      "C: \n",
      "[  4.    5.5   7.    8.5  10. ]\n",
      "\n",
      "Dtype of c: \n",
      "float64\n"
     ]
    }
   ],
   "source": [
    "a = np.ones(5, dtype='int16')\n",
    "b = np.linspace(3, 9, num=5)\n",
    "print '\\nDtype of a: \\n', a.dtype\n",
    "print '\\nDtype of b: \\n', b.dtype\n",
    "c = a + b\n",
    "print '\\nC: \\n',c\n",
    "print '\\nDtype of c: \\n',c.dtype"
   ]
  },
  {
   "cell_type": "markdown",
   "metadata": {},
   "source": [
    "Many Unary operations, such as computing sum of the elements in the array or finding the element in the array that has the maximum value are implemented as methods of ndarray class.\n",
    "\n",
    "By default, these operations apply to the array as though it was a list of numbers, regardless of its shape. However by specifying the axis parameter you can apply an operation along the specified axis of an array."
   ]
  },
  {
   "cell_type": "code",
   "execution_count": 8,
   "metadata": {
    "collapsed": false
   },
   "outputs": [
    {
     "name": "stdout",
     "output_type": "stream",
     "text": [
      "\n",
      "a: \n",
      "[[ 0.73519916  0.61802939  0.04798431  0.09472367]\n",
      " [ 0.95583129  0.82685445  0.34255178  0.49935426]\n",
      " [ 0.15235858  0.62637911  0.3636906   0.16545101]\n",
      " [ 0.5420814   0.29203399  0.27676834  0.40127212]]\n",
      "\n",
      "Sum: \n",
      "6.94056347932\n",
      "\n",
      "Minimum: \n",
      "0.0479843145008\n",
      "\n",
      "Maximum: \n",
      "0.955831290963\n",
      "\n",
      "Minimum at axis=0:  [ 0.15235858  0.29203399  0.04798431  0.09472367]\n",
      "\n",
      "Cumulative sum along each row: \n",
      "[[ 0.73519916  1.35322855  1.40121286  1.49593654]\n",
      " [ 0.95583129  1.78268574  2.12523752  2.62459178]\n",
      " [ 0.15235858  0.7787377   1.1424283   1.30787931]\n",
      " [ 0.5420814   0.83411539  1.11088373  1.51215586]]\n"
     ]
    }
   ],
   "source": [
    "a = np.random.random((4, 4))\n",
    "print '\\na: \\n',a\n",
    "print '\\nSum: \\n',np.sum(a)\n",
    "print '\\nMinimum: \\n',np.min(a)\n",
    "print '\\nMaximum: \\n',np.max(a)\n",
    "print '\\nMinimum at axis=0: ',a.min(axis=0)\n",
    "print '\\nCumulative sum along each row: \\n',a.cumsum(axis=1)"
   ]
  },
  {
   "cell_type": "markdown",
   "metadata": {},
   "source": [
    "## Universal Functions\n",
    "Numpy provides familiar mathematical functions such as sin, cos, and exp. In NumPy, these are called as ufunc (for universal functions). "
   ]
  },
  {
   "cell_type": "code",
   "execution_count": 9,
   "metadata": {
    "collapsed": false
   },
   "outputs": [
    {
     "name": "stdout",
     "output_type": "stream",
     "text": [
      "\n",
      "Sin values: \n",
      "[ 0.          0.3271947   0.6183698   0.84147098]\n",
      "\n",
      "Square Root of values: \n",
      "[ 0.          0.57735027  0.81649658  1.        ]\n"
     ]
    }
   ],
   "source": [
    "a = np.linspace(0, 1, num=4)\n",
    "print '\\nSin values: \\n',np.sin(a)\n",
    "print '\\nSquare Root of values: \\n',np.sqrt(a)"
   ]
  },
  {
   "cell_type": "markdown",
   "metadata": {},
   "source": [
    "## Slicing\n",
    "Slicing extracts the portion of a sequence by specifying a lower and upper bound. The lower bound element is included, but the upper-bound element is not included in slicing. Just like lists, there is a third parameter step which means the strides to be taken between the elements. Let's take a look at an example."
   ]
  },
  {
   "cell_type": "code",
   "execution_count": 10,
   "metadata": {
    "collapsed": false
   },
   "outputs": [
    {
     "name": "stdout",
     "output_type": "stream",
     "text": [
      "\n",
      "Elements at index 0, 1, 2:\n",
      "[  5.    13.75  22.5 ]\n",
      "\n",
      "Elements at index 0, 2, 4:\n",
      "[  5.   22.5  40. ]\n"
     ]
    }
   ],
   "source": [
    "a = np.linspace(5, 40, num=5)\n",
    "print '\\nElements at index 0, 1, 2:\\n',a[:3]\n",
    "# Just like lists, even negative indexing works:\n",
    "print '\\nElements at index 0, 2, 4:\\n',a[-5:5:2]"
   ]
  },
  {
   "cell_type": "markdown",
   "metadata": {},
   "source": [
    "For multidimensional array, you specify in rows, columns format."
   ]
  },
  {
   "cell_type": "code",
   "execution_count": 11,
   "metadata": {
    "collapsed": false,
    "scrolled": true
   },
   "outputs": [
    {
     "name": "stdout",
     "output_type": "stream",
     "text": [
      "\n",
      "first row and second column: \n",
      "35.0\n",
      "\n",
      " All elements from second column: \n",
      "[ 15.  35.]\n"
     ]
    }
   ],
   "source": [
    "a = np.linspace(5, 40, num=8).reshape(2,4)\n",
    "print '\\nfirst row and second column: \\n',a[1,2]\n",
    "print '\\n All elements from second column: \\n',a[:,2]"
   ]
  },
  {
   "cell_type": "markdown",
   "metadata": {},
   "source": [
    "Slices are references to memory in the original array. Changing the values in a slice also changes the original array"
   ]
  },
  {
   "cell_type": "code",
   "execution_count": 12,
   "metadata": {
    "collapsed": false
   },
   "outputs": [
    {
     "name": "stdout",
     "output_type": "stream",
     "text": [
      "\n",
      "Before changing b[0], b[0]: \n",
      "3\n",
      "\n",
      "After changing b[0], a: \n",
      "[ 0  1  2 99  4]\n"
     ]
    }
   ],
   "source": [
    "a = np.arange(5)\n",
    "b = a[3:5]  # last two elements of a\n",
    "print '\\nBefore changing b[0], b[0]: \\n',b[0]\n",
    "b[0] = 99  # Indirectly changing second last element of a too!\n",
    "print '\\nAfter changing b[0], a: \\n',a"
   ]
  },
  {
   "cell_type": "markdown",
   "metadata": {},
   "source": [
    "## Fancy Indexing\n",
    "Numpy offers more indexing facilities than regular Python sequences. In addition to indexing by integers and slices, as we saw before, arrays can be indexed by arrays of integers and arrays of booleans\n",
    "\n"
   ]
  },
  {
   "cell_type": "markdown",
   "metadata": {},
   "source": [
    "### Indexing with Arrays of Indices"
   ]
  },
  {
   "cell_type": "code",
   "execution_count": 13,
   "metadata": {
    "collapsed": false
   },
   "outputs": [
    {
     "name": "stdout",
     "output_type": "stream",
     "text": [
      "[ 0  1  4  9 16 25 36 49 64 81]\n",
      "[1 3 5 7 9]\n",
      "[ 1  9 25 49 81]\n"
     ]
    }
   ],
   "source": [
    "a = np.arange(10)**2\n",
    "b = np.arange(1, 10, 2) #(start, stop, step)\n",
    "print a\n",
    "print b\n",
    "print a[b]"
   ]
  },
  {
   "cell_type": "code",
   "execution_count": 14,
   "metadata": {
    "collapsed": false,
    "scrolled": true
   },
   "outputs": [
    {
     "name": "stdout",
     "output_type": "stream",
     "text": [
      "\n",
      "Array a: \n",
      "[  0   1   4   9  16  25  36  49  64  81 100 121]\n",
      "\n",
      "ind: \n",
      "[4 2 4 3 3 2 8 2 4 8]\n",
      "\n",
      "Array of elements at pos ind: \n",
      "[16  4 16  9  9  4 64  4 16 64]\n",
      "\n",
      "ind1: \n",
      "[[5 8 5 2]\n",
      " [2 6 8 7]\n",
      " [4 4 3 8]]\n",
      "\n",
      "Array of elements at pos ind1: \n",
      "[[25 64 25  4]\n",
      " [ 4 36 64 49]\n",
      " [16 16  9 64]]\n"
     ]
    }
   ],
   "source": [
    "ind = None\n",
    "ind1 = None\n",
    "a = np.arange(12)**2\n",
    "print '\\nArray a: \\n',a\n",
    "# Taking array of indices:\n",
    "ind = np.random.random_integers(2, 10, size=(10,))\n",
    "print '\\nind: \\n',ind\n",
    "print '\\nArray of elements at pos ind: \\n',a[ind]\n",
    "ind1 = np.random.random_integers(2, 8, size=(3,4))\n",
    "print '\\nind1: \\n',ind1\n",
    "print '\\nArray of elements at pos ind1: \\n',a[ind1]"
   ]
  },
  {
   "cell_type": "markdown",
   "metadata": {},
   "source": [
    "When the indexed array is multidimensional, a single array of indices refers to the first dimension of a. Though we can provide indexes for more than one dimension, the indices for each dimension must have the same shape. The following example will make it much clear."
   ]
  },
  {
   "cell_type": "code",
   "execution_count": 15,
   "metadata": {
    "collapsed": false
   },
   "outputs": [
    {
     "name": "stdout",
     "output_type": "stream",
     "text": [
      "\n",
      "Array: \n",
      "[[ 0  1  2  3  4]\n",
      " [ 5  6  7  8  9]\n",
      " [10 11 12 13 14]\n",
      " [15 16 17 18 19]]\n",
      "\n",
      "ind1: \n",
      "[[0 1]\n",
      " [2 3]]\n",
      "\n",
      "ind2: \n",
      "[[3 4]\n",
      " [1 3]]\n",
      "\n",
      "a[ind1, ind2]: \n",
      "[[ 3  9]\n",
      " [11 18]]\n",
      "\n",
      "a[:,ind2]: \n",
      "[[[ 3  4]\n",
      "  [ 1  3]]\n",
      "\n",
      " [[ 8  9]\n",
      "  [ 6  8]]\n",
      "\n",
      " [[13 14]\n",
      "  [11 13]]\n",
      "\n",
      " [[18 19]\n",
      "  [16 18]]]\n"
     ]
    }
   ],
   "source": [
    "a = np.arange(20).reshape(4,5)\n",
    "print '\\nArray: \\n',a\n",
    "ind1 = np.arange(4).reshape(2,2)\n",
    "print '\\nind1: \\n',ind1\n",
    "ind2 = np.random.random_integers(1, 5, size=(2,2))\n",
    "print '\\nind2: \\n',ind2\n",
    "# Remember ind1 and ind2 should be of same shape\n",
    "print '\\na[ind1, ind2]: \\n',a[ind1, ind2]\n",
    "print '\\na[:,ind2]: \\n',a[:,ind2]"
   ]
  },
  {
   "cell_type": "markdown",
   "metadata": {},
   "source": [
    "Indexing with arrays is also used in search for the maximum value of time-dependent series. Lets take a look at an example:"
   ]
  },
  {
   "cell_type": "code",
   "execution_count": 16,
   "metadata": {
    "collapsed": false
   },
   "outputs": [
    {
     "name": "stdout",
     "output_type": "stream",
     "text": [
      "\n",
      "Maximum Time: \n",
      "[ 103.33333333   10.           10.           33.33333333   56.66666667]\n",
      "\n",
      "Data at that maximum time: \n",
      "[ 0.91294525  0.84147098  0.90929743  0.98935825  0.99060736]\n"
     ]
    }
   ],
   "source": [
    "t = np.linspace(10, 150, 7) # create fake timescale\n",
    "data = np.sin(np.arange(25)).reshape(5,5) # Generate fake data\n",
    "ind = data.argmax(axis=0)\n",
    "max_t = t[ind]\n",
    "max_data = data[ind, xrange(data.shape[1])]\n",
    "print '\\nMaximum Time: \\n',max_t\n",
    "print '\\nData at that maximum time: \\n',data.max(axis=0)"
   ]
  },
  {
   "cell_type": "markdown",
   "metadata": {},
   "source": [
    "We can also use indexing with arrays as a target to assign to."
   ]
  },
  {
   "cell_type": "code",
   "execution_count": 17,
   "metadata": {
    "collapsed": false
   },
   "outputs": [
    {
     "name": "stdout",
     "output_type": "stream",
     "text": [
      "\n",
      "a: \n",
      "[0 0 2 0 4 0 6 7 8 0]\n"
     ]
    }
   ],
   "source": [
    "a = np.arange(10)\n",
    "a[[1, 3, 5, 9]] = 0\n",
    "print '\\na: \\n',a"
   ]
  },
  {
   "cell_type": "markdown",
   "metadata": {},
   "source": [
    "### Indexing with Boolean Arrays\n",
    "When we index arrays with arrays of indices, we aare providing a list of indices. With boolean indices, we explicitly chose the items in the array that we want and the one's we dont. Lets take a look at a quick example:"
   ]
  },
  {
   "cell_type": "code",
   "execution_count": 18,
   "metadata": {
    "collapsed": false
   },
   "outputs": [
    {
     "name": "stdout",
     "output_type": "stream",
     "text": [
      "\n",
      "Elements with values > 10: \n",
      "[11 12 13 14 15]\n"
     ]
    }
   ],
   "source": [
    "a = np.arange(16).reshape(2,2,4)\n",
    "# Now lets select the indices whose value is greater than lets say 10\n",
    "b = a > 10\n",
    "print '\\nElements with values > 10: \\n',a[b]"
   ]
  },
  {
   "cell_type": "markdown",
   "metadata": {},
   "source": [
    "These come in very handy when we are working with things like thresholding where we can assign all values greater than the threshold be 0 or set them to threshold value."
   ]
  },
  {
   "cell_type": "markdown",
   "metadata": {
    "collapsed": true
   },
   "source": [
    "## Tricks"
   ]
  },
  {
   "cell_type": "markdown",
   "metadata": {},
   "source": [
    "### Automatic Reshaping\n",
    "To change the dimensions of an array, you can omit one of the sizes which will then be deduced automatically:"
   ]
  },
  {
   "cell_type": "code",
   "execution_count": 19,
   "metadata": {
    "collapsed": false
   },
   "outputs": [
    {
     "data": {
      "text/plain": [
       "(2, 5, 3)"
      ]
     },
     "execution_count": 19,
     "metadata": {},
     "output_type": "execute_result"
    }
   ],
   "source": [
    "a = np.arange(30)\n",
    "a.shape = 2,-1,3  # -1 means \"whatever is needed\"\n",
    "a.shape"
   ]
  },
  {
   "cell_type": "code",
   "execution_count": 20,
   "metadata": {
    "collapsed": false
   },
   "outputs": [
    {
     "data": {
      "text/plain": [
       "array([[[ 0,  1,  2],\n",
       "        [ 3,  4,  5],\n",
       "        [ 6,  7,  8],\n",
       "        [ 9, 10, 11],\n",
       "        [12, 13, 14]],\n",
       "\n",
       "       [[15, 16, 17],\n",
       "        [18, 19, 20],\n",
       "        [21, 22, 23],\n",
       "        [24, 25, 26],\n",
       "        [27, 28, 29]]])"
      ]
     },
     "execution_count": 20,
     "metadata": {},
     "output_type": "execute_result"
    }
   ],
   "source": [
    "a"
   ]
  },
  {
   "cell_type": "markdown",
   "metadata": {},
   "source": [
    "### Vector Stacking"
   ]
  },
  {
   "cell_type": "markdown",
   "metadata": {},
   "source": [
    "How do we construct a 2D array from a list of equally-sized row vectors? In MATLAB this is quite easy: if x and y are two vectors of the same length you only need do m=[x;y]. In NumPy this works via the functions column_stack, dstack, hstack and vstack, depending on the dimension in which the stacking is to be done. For example:"
   ]
  },
  {
   "cell_type": "code",
   "execution_count": 21,
   "metadata": {
    "collapsed": false
   },
   "outputs": [],
   "source": [
    "x = np.arange(0,10,2)  # x=([0,2,4,6,8])\n",
    "y = np.arange(5)  # y=([0,1,2,3,4])\n",
    "m = np.vstack([x,y])\n",
    "xy = np.hstack([x,y])"
   ]
  },
  {
   "cell_type": "code",
   "execution_count": 22,
   "metadata": {
    "collapsed": false
   },
   "outputs": [
    {
     "data": {
      "text/plain": [
       "array([[0, 2, 4, 6, 8],\n",
       "       [0, 1, 2, 3, 4]])"
      ]
     },
     "execution_count": 22,
     "metadata": {},
     "output_type": "execute_result"
    }
   ],
   "source": [
    "m"
   ]
  },
  {
   "cell_type": "code",
   "execution_count": 23,
   "metadata": {
    "collapsed": false
   },
   "outputs": [
    {
     "data": {
      "text/plain": [
       "array([0, 2, 4, 6, 8, 0, 1, 2, 3, 4])"
      ]
     },
     "execution_count": 23,
     "metadata": {},
     "output_type": "execute_result"
    }
   ],
   "source": [
    "xy"
   ]
  },
  {
   "cell_type": "markdown",
   "metadata": {},
   "source": [
    "## Histograms\n",
    "\n",
    "Lets first understand what do we mean by Histograms. \n",
    "\n",
    "A Histogram is a graphical representation of the frequency of occurence of data. Technically speaking, it is an estimate of the probability distribution of a continuous variable. To obtain the histogram of a dataset, we have to perform two steps:\n",
    "\n",
    "- Calculate the bin:\n",
    "    > A bin is range that represents the width of a single bar of the histogram along the X-axis. To obtain this we divide the entire range of values into a series of intervals.\n",
    "\n",
    "\n",
    "- Calculate the frequency\n",
    "    > Once we divide the data in separate bins, we calculate the occurences of data in that bin size.\n",
    "\n",
    "Histograms give a rough sense of the density of the underlying distribution of the data. Histograms are sometimes confused with bar charts. Remember the difference this way -- *A histogram is used for continuous data, where the bins represent ranges of data, while a bar chart is a plot of categorical variables.*"
   ]
  },
  {
   "cell_type": "code",
   "execution_count": 24,
   "metadata": {
    "collapsed": false
   },
   "outputs": [
    {
     "data": {
      "text/plain": [
       "(array([0, 1, 2]), array([0, 1, 2, 3]))"
      ]
     },
     "execution_count": 24,
     "metadata": {},
     "output_type": "execute_result"
    }
   ],
   "source": [
    "np.histogram([1, 2, 3], bins=[0, 1, 2, 3])"
   ]
  },
  {
   "cell_type": "markdown",
   "metadata": {},
   "source": [
    "Lets see what happened step by step.\n",
    "\n",
    "`np.histogram` takes `flattened` array as an input. Optionally we pass it the bins (range of values). \n",
    "\n",
    "From the example, we would like to find the occurence of array `[ 1, 2, 3 ]` in the 3 bins viz 0-1 (1 not inclusive), 1-2 (2 not inclusive), 2-3 (3 **inclusive**). Now 0th element has value 1 which fits in second bin. Similarly 1st element and 2nd element fits in third bin."
   ]
  },
  {
   "cell_type": "markdown",
   "metadata": {},
   "source": [
    "To plot this data, we can use matplotlib's `axes.plot()` method or instead use matplotlibs built-in `pyplot.hist()` which calculates the histogram as explained above and also plots it. "
   ]
  },
  {
   "cell_type": "code",
   "execution_count": 25,
   "metadata": {
    "collapsed": true
   },
   "outputs": [],
   "source": [
    "%matplotlib inline\n",
    "import matplotlib.pyplot as plt"
   ]
  },
  {
   "cell_type": "code",
   "execution_count": 26,
   "metadata": {
    "collapsed": false
   },
   "outputs": [
    {
     "data": {
      "text/plain": [
       "<Container object of 3 artists>"
      ]
     },
     "execution_count": 26,
     "metadata": {},
     "output_type": "execute_result"
    },
    {
     "data": {
      "image/png": "[encoded data removed]",
      "text/plain": [
       "<matplotlib.figure.Figure at 0x111a71e90>"
      ]
     },
     "metadata": {},
     "output_type": "display_data"
    }
   ],
   "source": [
    "# Without using plt.hist()\n",
    "fig = plt.figure()\n",
    "ax = fig.add_subplot(111)\n",
    "hist, bins = np.histogram([1, 2, 3], bins=[0, 1, 2, 3])\n",
    "ax.bar(bins[:-1], hist, width=1)"
   ]
  },
  {
   "cell_type": "code",
   "execution_count": 27,
   "metadata": {
    "collapsed": false
   },
   "outputs": [
    {
     "data": {
      "text/plain": [
       "(array([ 0.,  1.,  2.]), array([0, 1, 2, 3]), <a list of 3 Patch objects>)"
      ]
     },
     "execution_count": 27,
     "metadata": {},
     "output_type": "execute_result"
    },
    {
     "data": {
      "image/png": "[encoded data removed]",
      "text/plain": [
       "<matplotlib.figure.Figure at 0x111bbb5d0>"
      ]
     },
     "metadata": {},
     "output_type": "display_data"
    }
   ],
   "source": [
    "# Same as above but using plt.hist()\n",
    "plt.hist([1, 2, 3], bins=[0, 1, 2, 3])"
   ]
  },
  {
   "cell_type": "markdown",
   "metadata": {},
   "source": [
    "--------\n",
    "#### I would also encourage you to check out some *[`numpy examples`]('http://wiki.scipy.org/Numpy_Example_List_With_Doc' \"Numpy Examples\")*"
   ]
  }
 ],
 "metadata": {
  "kernelspec": {
   "display_name": "Python 2",
   "language": "python",
   "name": "python2"
  },
  "language_info": {
   "codemirror_mode": {
    "name": "ipython",
    "version": 2
   },
   "file_extension": ".py",
   "mimetype": "text/x-python",
   "name": "python",
   "nbconvert_exporter": "python",
   "pygments_lexer": "ipython2",
   "version": "2.7.11"
  }
 },
 "nbformat": 4,
 "nbformat_minor": 0
}
