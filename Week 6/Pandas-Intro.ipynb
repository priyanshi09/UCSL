{
 "cells": [
  {
   "cell_type": "markdown",
   "metadata": {},
   "source": [
    "<h1 align='center'>Pandas</h1>"
   ]
  },
  {
   "cell_type": "markdown",
   "metadata": {},
   "source": [
    "**Pandas** is a Python package providing fast, flexible, and expressive data structures designed to make working with “relational” or “labeled” data both easy and intuitive. It aims to be the fundamental high-level building block for doing practical, real world data analysis in Python.\n",
    "Pandas provides high-performance, easy-to-use data structures and data analysis tools for the Python programming language. To get started with pandas, you will need to get comfortable with its two workhorse data structures: Series and DataFrame. \n",
    "\n",
    "## Series\n",
    "Pandas Series is a one-dimensional array-like object that has index and value just like Numpy. Infact if you view the type of the `values` of series object, you will see that it indeed is `numpy.ndarray`.\n",
    "\n",
    "You can assign name to pandas Series.\n"
   ]
  },
  {
   "cell_type": "code",
   "execution_count": 1,
   "metadata": {
    "collapsed": true
   },
   "outputs": [],
   "source": [
    "import pandas as pd\n",
    "import numpy as np\n",
    "%matplotlib inline"
   ]
  },
  {
   "cell_type": "code",
   "execution_count": 2,
   "metadata": {
    "collapsed": false
   },
   "outputs": [
    {
     "name": "stdout",
     "output_type": "stream",
     "text": [
      "Name:  test_data\n",
      "Data:\n",
      "0    8\n",
      "1    7\n",
      "2    6\n",
      "3    5\n",
      "Name: test_data, dtype: int64\n",
      "Type of Object:  <class 'pandas.core.series.Series'>\n",
      "Type of elements: <type 'numpy.ndarray'>\n"
     ]
    }
   ],
   "source": [
    "ob = pd.Series([8,7,6,5], name='test_data')\n",
    "print 'Name: ',ob.name\n",
    "print 'Data:\\n',ob\n",
    "print 'Type of Object: ',type(ob)\n",
    "print 'Type of elements:',type(ob.values)"
   ]
  },
  {
   "cell_type": "markdown",
   "metadata": {},
   "source": [
    "You can also use your numpy array and convert them to Series."
   ]
  },
  {
   "cell_type": "code",
   "execution_count": 3,
   "metadata": {
    "collapsed": false
   },
   "outputs": [
    {
     "name": "stdout",
     "output_type": "stream",
     "text": [
      "0    8\n",
      "1    7\n",
      "2    6\n",
      "3    5\n",
      "dtype: int64\n",
      "<class 'pandas.core.series.Series'>\n"
     ]
    }
   ],
   "source": [
    "ob = pd.Series(np.linspace(5, 8, num=4, dtype=int)[::-1]) # np.linspace(5,8,num=4,dtype=int) = Evenly spaced integers \n",
    "# between 5 to 8 (reversed)\n",
    "print ob\n",
    "print type(ob)"
   ]
  },
  {
   "cell_type": "markdown",
   "metadata": {},
   "source": [
    "You can also provide custom index to the values and just like in Numpy, access them with the index."
   ]
  },
  {
   "cell_type": "code",
   "execution_count": 4,
   "metadata": {
    "collapsed": false
   },
   "outputs": [
    {
     "name": "stdout",
     "output_type": "stream",
     "text": [
      "7\n"
     ]
    }
   ],
   "source": [
    "ob = pd.Series([8,7,6,5], index=['a','b','c','d'])\n",
    "print ob['b']"
   ]
  },
  {
   "cell_type": "markdown",
   "metadata": {},
   "source": [
    "Pandas Series is more like an fixed size dictionary whose mapping of index-value is preserved when array operations are applied to them. For example,"
   ]
  },
  {
   "cell_type": "code",
   "execution_count": 5,
   "metadata": {
    "collapsed": false
   },
   "outputs": [
    {
     "name": "stdout",
     "output_type": "stream",
     "text": [
      "b    7\n",
      "c    6\n",
      "d    5\n",
      "dtype: int64\n"
     ]
    }
   ],
   "source": [
    "print ob[(ob>4) & (ob<8)] # select all the values greater than 4 and less than 8\n",
    "# or lets apply numpy's exp function to calculate exponential of all elements \n",
    "#print np.exp(ob)"
   ]
  },
  {
   "cell_type": "markdown",
   "metadata": {},
   "source": [
    "This also means that if you have a dictionary, you can easily convert that into pandas series."
   ]
  },
  {
   "cell_type": "code",
   "execution_count": 6,
   "metadata": {
    "collapsed": false
   },
   "outputs": [
    {
     "name": "stdout",
     "output_type": "stream",
     "text": [
      "State1       Alabama\n",
      "State2    California\n",
      "State3    New Jersey\n",
      "State4      New York\n",
      "dtype: object\n",
      "<class 'pandas.core.series.Series'>\n"
     ]
    }
   ],
   "source": [
    "states_dict = {'State1': 'Alabama', 'State2': 'California', 'State3': 'New Jersey', 'State4': 'New York'}\n",
    "ob = pd.Series(states_dict)\n",
    "print ob\n",
    "print type(ob)"
   ]
  },
  {
   "cell_type": "markdown",
   "metadata": {},
   "source": [
    "Just like dictionaries, you can also change the index.."
   ]
  },
  {
   "cell_type": "code",
   "execution_count": 7,
   "metadata": {
    "collapsed": false
   },
   "outputs": [
    {
     "name": "stdout",
     "output_type": "stream",
     "text": [
      "AL       Alabama\n",
      "CA    California\n",
      "NJ    New Jersey\n",
      "NY      New York\n",
      "dtype: object\n"
     ]
    }
   ],
   "source": [
    "ob.index = ['AL','CA','NJ','NY']\n",
    "print ob"
   ]
  },
  {
   "cell_type": "markdown",
   "metadata": {},
   "source": [
    "or use dictionary's method to get the label.."
   ]
  },
  {
   "cell_type": "code",
   "execution_count": 8,
   "metadata": {
    "collapsed": false
   },
   "outputs": [
    {
     "data": {
      "text/plain": [
       "'California'"
      ]
     },
     "execution_count": 8,
     "metadata": {},
     "output_type": "execute_result"
    }
   ],
   "source": [
    "ob.get('CA', np.nan)"
   ]
  },
  {
   "cell_type": "markdown",
   "metadata": {},
   "source": [
    "## Dataframe\n",
    "Dataframe is something like spreadsheet or a sql table. It is basically a 2 dimensional labelled data structure with columns of potentially different datatype. Like Series, DataFrame accepts many different kinds of input:\n",
    "* Dict of 1D ndarrays, lists, dicts, or Series\n",
    "* 2-D numpy.ndarray\n",
    "* [`Structured or record ndarray`](http://docs.scipy.org/doc/numpy/user/basics.rec.html 'Structured or record ndarray')\n",
    "* A Series\n",
    "* Another DataFrame\n",
    "\n",
    "Compared with other such DataFrame-like structures you may have used before (like `R’s` `data.frame`), row- oriented and column-oriented operations in DataFrame are treated roughly symmetrically. Under the hood, the data is stored as one or more two-dimensional blocks rather than a list, dict, or some other collection of one-dimensional arrays.\n",
    "\n",
    "\n",
    "### Creating Dataframes from dictionaries"
   ]
  },
  {
   "cell_type": "code",
   "execution_count": 9,
   "metadata": {
    "collapsed": false
   },
   "outputs": [],
   "source": [
    "data = {'one' : pd.Series([1., 2., 3.], index=['a', 'b', 'c']),\n",
    "    'two' : pd.Series([1., 2., 3., 4.], index=['a', 'b', 'c', 'd'])}"
   ]
  },
  {
   "cell_type": "code",
   "execution_count": 10,
   "metadata": {
    "collapsed": false
   },
   "outputs": [
    {
     "name": "stdout",
     "output_type": "stream",
     "text": [
      "Dataframe:\n",
      "   one  two\n",
      "a    1    1\n",
      "b    2    2\n",
      "c    3    3\n",
      "d  NaN    4\n",
      "Type of Object: <class 'pandas.core.frame.DataFrame'>\n",
      "Type of elements: <type 'numpy.ndarray'>\n"
     ]
    }
   ],
   "source": [
    "df = pd.DataFrame(data)\n",
    "print 'Dataframe:\\n',df\n",
    "print 'Type of Object:',type(df)\n",
    "print 'Type of elements:',type(df.values)"
   ]
  },
  {
   "cell_type": "markdown",
   "metadata": {},
   "source": [
    "> Another way to construct dataframe from dictionaries is by using `DataFrame.from_dict` function. `DataFrame.from_dict` takes a dict of dicts or a dict of array-like sequences and returns a DataFrame. It operates like the DataFrame constructor except for the orient parameter which is 'columns' by default, but which can be set to 'index' in order to use the dict keys as row labels.\n",
    "\n",
    "Just like Series, you can access index, values and also columns."
   ]
  },
  {
   "cell_type": "code",
   "execution_count": 11,
   "metadata": {
    "collapsed": false
   },
   "outputs": [
    {
     "name": "stdout",
     "output_type": "stream",
     "text": [
      "Index:  Index([u'a', u'b', u'c', u'd'], dtype='object')\n",
      "Columns:  Index([u'one', u'two'], dtype='object')\n",
      "Values of Column one:  [  1.   2.   3.  nan]\n",
      "Values of Column two:  [ 1.  2.  3.  4.]\n"
     ]
    }
   ],
   "source": [
    "print 'Index: ',df.index\n",
    "print 'Columns: ',df.columns\n",
    "print 'Values of Column one: ',df['one'].values\n",
    "print 'Values of Column two: ',df['two'].values"
   ]
  },
  {
   "cell_type": "markdown",
   "metadata": {},
   "source": [
    "### Creating dataframe from list of dictionaries\n",
    "\n",
    "As with Series, if you pass a column that isn’t contained in data, it will appear with NaN values in the result"
   ]
  },
  {
   "cell_type": "code",
   "execution_count": 12,
   "metadata": {
    "collapsed": false
   },
   "outputs": [
    {
     "name": "stdout",
     "output_type": "stream",
     "text": [
      "Dataframe: \n",
      "     a  b  c   d\n",
      "one  1  2  3 NaN\n",
      "two  2  2  3   4\n",
      "\n",
      "Transposed Dataframe: \n",
      "   one  two\n",
      "a    1    2\n",
      "b    2    2\n",
      "c    3    3\n",
      "d  NaN    4\n"
     ]
    }
   ],
   "source": [
    "df2 = pd.DataFrame([{'a': 1, 'b': 2, 'c':3, 'd':None}, {'a': 2, 'b': 2, 'c': 3, 'd': 4}],\n",
    "                   index=['one', 'two'])\n",
    "print 'Dataframe: \\n',df2\n",
    "\n",
    "# Ofcourse you can also transpose the result:\n",
    "\n",
    "print '\\nTransposed Dataframe: \\n',df2.T"
   ]
  },
  {
   "cell_type": "markdown",
   "metadata": {},
   "source": [
    "Assigning a column that doesn’t exist will create a new column. "
   ]
  },
  {
   "cell_type": "code",
   "execution_count": 13,
   "metadata": {
    "collapsed": false
   },
   "outputs": [
    {
     "name": "stdout",
     "output_type": "stream",
     "text": [
      "Added third column: \n",
      "   one  two three\n",
      "a    1    1  None\n",
      "b    2    2  None\n",
      "c    3    3  None\n",
      "d  NaN    4  None\n",
      "\n",
      "Deleted third column: \n",
      "   one  two\n",
      "a    1    1\n",
      "b    2    2\n",
      "c    3    3\n",
      "d  NaN    4\n"
     ]
    }
   ],
   "source": [
    "df['three'] = None\n",
    "print 'Added third column: \\n',df\n",
    "\n",
    "# The del keyword will delete columns as with a dict:\n",
    "del df['three']\n",
    "print '\\nDeleted third column: \\n',df"
   ]
  },
  {
   "cell_type": "markdown",
   "metadata": {},
   "source": [
    "Each Index has a number of methods and properties for set logic and answering other common questions about the data it contains.\n",
    "\n",
    "\n",
    "|Method | Description|\n",
    "|:---|:---|\n",
    "|`append` | Concatenate with additional Index objects, producing a new Index|\n",
    "|`diff` | Compute set difference as an Index|\n",
    "|`intersection` | Compute set intersection|\n",
    "|`union` | Compute set union|\n",
    "|`isin` | Compute boolean array indicating whether each value is contained in the passed collection|\n",
    "|`delete` | Compute new Index with element at index i deleted|\n",
    "|`drop` | Compute new index by deleting passed values|\n",
    "|`insert` | Compute new Index by inserting element at index i|\n",
    "|`is_monotonic` | Returns True if each element is greater than or equal to the previous element| \n",
    "|`is_unique` | Returns True if the Index has no duplicate values|\n",
    "|`unique` | Compute the array of unique values in the Index|\n",
    "\n",
    "for example:"
   ]
  },
  {
   "cell_type": "code",
   "execution_count": 14,
   "metadata": {
    "collapsed": false
   },
   "outputs": [
    {
     "name": "stdout",
     "output_type": "stream",
     "text": [
      "True\n",
      "True\n"
     ]
    }
   ],
   "source": [
    "print 1 in df.one.values\n",
    "print 'one' in df.columns"
   ]
  },
  {
   "cell_type": "markdown",
   "metadata": {},
   "source": [
    "## Reindexing\n",
    "A critical method on pandas objects is reindex, which means to create a new object with the data conformed to a new index."
   ]
  },
  {
   "cell_type": "code",
   "execution_count": 15,
   "metadata": {
    "collapsed": false
   },
   "outputs": [
    {
     "name": "stdout",
     "output_type": "stream",
     "text": [
      "   one  two\n",
      "a    1    1\n",
      "b    2    2\n",
      "c    3    3\n",
      "d  NaN    4\n"
     ]
    }
   ],
   "source": [
    "data = {'one' : pd.Series([1., 2., 3.], index=['a', 'b', 'c']),\n",
    "    'two' : pd.Series([1., 2., 3., 4.], index=['a', 'b', 'c', 'd'])}\n",
    "df = pd.DataFrame(data)\n",
    "print df"
   ]
  },
  {
   "cell_type": "code",
   "execution_count": 16,
   "metadata": {
    "collapsed": false
   },
   "outputs": [
    {
     "name": "stdout",
     "output_type": "stream",
     "text": [
      "   one  two\n",
      "d  NaN    4\n",
      "c    3    3\n",
      "b    2    2\n",
      "a    1    1\n"
     ]
    }
   ],
   "source": [
    "print df.reindex(['d','c','b','a'])  # Reindex in descending order."
   ]
  },
  {
   "cell_type": "markdown",
   "metadata": {},
   "source": [
    "If you `reindex` with more number of rows than in the dataframe, it will return the dataframe with new row whose values are `NaN`."
   ]
  },
  {
   "cell_type": "code",
   "execution_count": 17,
   "metadata": {
    "collapsed": false
   },
   "outputs": [
    {
     "name": "stdout",
     "output_type": "stream",
     "text": [
      "   one  two\n",
      "a    1    1\n",
      "b    2    2\n",
      "c    3    3\n",
      "d  NaN    4\n",
      "e  NaN  NaN\n"
     ]
    }
   ],
   "source": [
    "print df.reindex(['a','b','c','d','e'])"
   ]
  },
  {
   "cell_type": "markdown",
   "metadata": {},
   "source": [
    "Reindexing is also useful when you want to introduce any missing values. For example in our case, look at column `one` and row `d`"
   ]
  },
  {
   "cell_type": "code",
   "execution_count": 18,
   "metadata": {
    "collapsed": false
   },
   "outputs": [
    {
     "data": {
      "text/html": [
       "<div>\n",
       "<table border=\"1\" class=\"dataframe\">\n",
       "  <thead>\n",
       "    <tr style=\"text-align: right;\">\n",
       "      <th></th>\n",
       "      <th>one</th>\n",
       "      <th>two</th>\n",
       "    </tr>\n",
       "  </thead>\n",
       "  <tbody>\n",
       "    <tr>\n",
       "      <th>a</th>\n",
       "      <td>1</td>\n",
       "      <td>1</td>\n",
       "    </tr>\n",
       "    <tr>\n",
       "      <th>b</th>\n",
       "      <td>2</td>\n",
       "      <td>2</td>\n",
       "    </tr>\n",
       "    <tr>\n",
       "      <th>c</th>\n",
       "      <td>3</td>\n",
       "      <td>3</td>\n",
       "    </tr>\n",
       "    <tr>\n",
       "      <th>d</th>\n",
       "      <td>NaN</td>\n",
       "      <td>4</td>\n",
       "    </tr>\n",
       "    <tr>\n",
       "      <th>e</th>\n",
       "      <td>0</td>\n",
       "      <td>0</td>\n",
       "    </tr>\n",
       "  </tbody>\n",
       "</table>\n",
       "</div>"
      ],
      "text/plain": [
       "   one  two\n",
       "a    1    1\n",
       "b    2    2\n",
       "c    3    3\n",
       "d  NaN    4\n",
       "e    0    0"
      ]
     },
     "execution_count": 18,
     "metadata": {},
     "output_type": "execute_result"
    }
   ],
   "source": [
    "df.reindex(['a','b','c','d','e'], fill_value=0)\n",
    "# Guess why the df['one']['d'] was not filled with 0 ?"
   ]
  },
  {
   "cell_type": "markdown",
   "metadata": {},
   "source": [
    "For ordered data like time series, it may be desirable to do some interpolation or filling of values when `reindex`ing. The method option allows us to do this, using a `method` such as `ffill` which forward fills the values:"
   ]
  },
  {
   "cell_type": "code",
   "execution_count": 19,
   "metadata": {
    "collapsed": false
   },
   "outputs": [
    {
     "data": {
      "text/html": [
       "<div>\n",
       "<table border=\"1\" class=\"dataframe\">\n",
       "  <thead>\n",
       "    <tr style=\"text-align: right;\">\n",
       "      <th></th>\n",
       "      <th>one</th>\n",
       "      <th>two</th>\n",
       "    </tr>\n",
       "  </thead>\n",
       "  <tbody>\n",
       "    <tr>\n",
       "      <th>a</th>\n",
       "      <td>1</td>\n",
       "      <td>1</td>\n",
       "    </tr>\n",
       "    <tr>\n",
       "      <th>b</th>\n",
       "      <td>2</td>\n",
       "      <td>2</td>\n",
       "    </tr>\n",
       "    <tr>\n",
       "      <th>c</th>\n",
       "      <td>3</td>\n",
       "      <td>3</td>\n",
       "    </tr>\n",
       "    <tr>\n",
       "      <th>d</th>\n",
       "      <td>NaN</td>\n",
       "      <td>4</td>\n",
       "    </tr>\n",
       "    <tr>\n",
       "      <th>e</th>\n",
       "      <td>NaN</td>\n",
       "      <td>4</td>\n",
       "    </tr>\n",
       "  </tbody>\n",
       "</table>\n",
       "</div>"
      ],
      "text/plain": [
       "   one  two\n",
       "a    1    1\n",
       "b    2    2\n",
       "c    3    3\n",
       "d  NaN    4\n",
       "e  NaN    4"
      ]
     },
     "execution_count": 19,
     "metadata": {},
     "output_type": "execute_result"
    }
   ],
   "source": [
    "df.reindex(['a','b','c','d','e'], method='ffill')"
   ]
  },
  {
   "cell_type": "markdown",
   "metadata": {},
   "source": [
    "There are basically two different types of method (interpolation) options:\n",
    "\n",
    "|Method | Description|\n",
    "|:---|:---|\n",
    "|`ffill` or `pad` | Fill (or carry) values forward |\n",
    "|`bfill` or `backfill` | Fill (or carry) values backward|\n",
    "\n",
    "Reindexing has following arguments:\n",
    "\n",
    "|Argument | Description|\n",
    "|:---|:---|\n",
    "|`index` | New sequence to use as index. Can be Index instance or any other sequence-like Python data structure. An Index will be used exactly as is without any copying|\n",
    "|`method` | Interpolation (fill) method, see above table for options.|\n",
    "|`fill_value` | Substitute value to use when introducing missing data by reindexing.|\n",
    "|`limit` | When forward- or backfilling, maximum size gap to fill|\n",
    "|`level` | Match simple Index on level of MultiIndex, otherwise select subset of|\n",
    "|`copy` | Do not copy underlying data if new index is equivalent to old index. True by default (i.e. always copy data)|"
   ]
  },
  {
   "cell_type": "markdown",
   "metadata": {},
   "source": [
    "## Dropping Entries\n",
    "Dropping one or more entries from an axis is easy if you have an index array or list without those entries."
   ]
  },
  {
   "cell_type": "code",
   "execution_count": 20,
   "metadata": {
    "collapsed": false
   },
   "outputs": [
    {
     "data": {
      "text/html": [
       "<div>\n",
       "<table border=\"1\" class=\"dataframe\">\n",
       "  <thead>\n",
       "    <tr style=\"text-align: right;\">\n",
       "      <th></th>\n",
       "      <th>one</th>\n",
       "      <th>two</th>\n",
       "    </tr>\n",
       "  </thead>\n",
       "  <tbody>\n",
       "    <tr>\n",
       "      <th>b</th>\n",
       "      <td>2</td>\n",
       "      <td>2</td>\n",
       "    </tr>\n",
       "    <tr>\n",
       "      <th>d</th>\n",
       "      <td>NaN</td>\n",
       "      <td>4</td>\n",
       "    </tr>\n",
       "  </tbody>\n",
       "</table>\n",
       "</div>"
      ],
      "text/plain": [
       "   one  two\n",
       "b    2    2\n",
       "d  NaN    4"
      ]
     },
     "execution_count": 20,
     "metadata": {},
     "output_type": "execute_result"
    }
   ],
   "source": [
    "# Drop row c and row a\n",
    "df.drop(['c', 'a'])"
   ]
  },
  {
   "cell_type": "code",
   "execution_count": 21,
   "metadata": {
    "collapsed": false
   },
   "outputs": [
    {
     "data": {
      "text/html": [
       "<div>\n",
       "<table border=\"1\" class=\"dataframe\">\n",
       "  <thead>\n",
       "    <tr style=\"text-align: right;\">\n",
       "      <th></th>\n",
       "      <th>one</th>\n",
       "    </tr>\n",
       "  </thead>\n",
       "  <tbody>\n",
       "    <tr>\n",
       "      <th>a</th>\n",
       "      <td>1</td>\n",
       "    </tr>\n",
       "    <tr>\n",
       "      <th>b</th>\n",
       "      <td>2</td>\n",
       "    </tr>\n",
       "    <tr>\n",
       "      <th>c</th>\n",
       "      <td>3</td>\n",
       "    </tr>\n",
       "    <tr>\n",
       "      <th>d</th>\n",
       "      <td>NaN</td>\n",
       "    </tr>\n",
       "  </tbody>\n",
       "</table>\n",
       "</div>"
      ],
      "text/plain": [
       "   one\n",
       "a    1\n",
       "b    2\n",
       "c    3\n",
       "d  NaN"
      ]
     },
     "execution_count": 21,
     "metadata": {},
     "output_type": "execute_result"
    }
   ],
   "source": [
    "# Drop column two\n",
    "df.drop(['two'], axis=1)"
   ]
  },
  {
   "cell_type": "markdown",
   "metadata": {},
   "source": [
    "## Indexing, selection, Sorting and filtering\n",
    "Series indexing works analogously to NumPy array indexing, except you can use the Series’s index values instead of only integers."
   ]
  },
  {
   "cell_type": "code",
   "execution_count": 22,
   "metadata": {
    "collapsed": false
   },
   "outputs": [
    {
     "name": "stdout",
     "output_type": "stream",
     "text": [
      "   one  two\n",
      "a    1    1\n",
      "b    2    2\n",
      "c    3    3\n",
      "d  NaN    4\n"
     ]
    },
    {
     "data": {
      "text/plain": [
       "a     1\n",
       "d   NaN\n",
       "Name: one, dtype: float64"
      ]
     },
     "execution_count": 22,
     "metadata": {},
     "output_type": "execute_result"
    }
   ],
   "source": [
    "print df\n",
    "# Slicing and selecting only row 0 and row 4\n",
    "df['one'][['a', 'd']]"
   ]
  },
  {
   "cell_type": "code",
   "execution_count": 23,
   "metadata": {
    "collapsed": false
   },
   "outputs": [
    {
     "data": {
      "text/plain": [
       "b     2\n",
       "c     3\n",
       "d   NaN\n",
       "Name: one, dtype: float64"
      ]
     },
     "execution_count": 23,
     "metadata": {},
     "output_type": "execute_result"
    }
   ],
   "source": [
    "# Slicing df from row b to row 4\n",
    "df['one']['b':'d']"
   ]
  },
  {
   "cell_type": "markdown",
   "metadata": {},
   "source": [
    "If you observe the above command (and the one above it), you will see that slicing with labels behaves differently than normal Python slicing in that the endpoint is inclusive.\n",
    "\n",
    "For DataFrame label-indexing on the rows, there is a special indexing field `ix`. It enables you to select a subset of the rows and columns from a DataFrame with NumPy- like notation plus axis labels. It is a less verbose way to do the reindexing."
   ]
  },
  {
   "cell_type": "code",
   "execution_count": 24,
   "metadata": {
    "collapsed": false
   },
   "outputs": [
    {
     "data": {
      "text/html": [
       "<div>\n",
       "<table border=\"1\" class=\"dataframe\">\n",
       "  <thead>\n",
       "    <tr style=\"text-align: right;\">\n",
       "      <th></th>\n",
       "      <th>one</th>\n",
       "    </tr>\n",
       "  </thead>\n",
       "  <tbody>\n",
       "    <tr>\n",
       "      <th>a</th>\n",
       "      <td>1</td>\n",
       "    </tr>\n",
       "    <tr>\n",
       "      <th>c</th>\n",
       "      <td>3</td>\n",
       "    </tr>\n",
       "  </tbody>\n",
       "</table>\n",
       "</div>"
      ],
      "text/plain": [
       "   one\n",
       "a    1\n",
       "c    3"
      ]
     },
     "execution_count": 24,
     "metadata": {},
     "output_type": "execute_result"
    }
   ],
   "source": [
    "df.ix[['a','c'],['one']]"
   ]
  },
  {
   "cell_type": "code",
   "execution_count": 25,
   "metadata": {
    "collapsed": false
   },
   "outputs": [
    {
     "data": {
      "text/html": [
       "<div>\n",
       "<table border=\"1\" class=\"dataframe\">\n",
       "  <thead>\n",
       "    <tr style=\"text-align: right;\">\n",
       "      <th></th>\n",
       "      <th>one</th>\n",
       "      <th>two</th>\n",
       "    </tr>\n",
       "  </thead>\n",
       "  <tbody>\n",
       "    <tr>\n",
       "      <th>b</th>\n",
       "      <td>2</td>\n",
       "      <td>2</td>\n",
       "    </tr>\n",
       "    <tr>\n",
       "      <th>c</th>\n",
       "      <td>3</td>\n",
       "      <td>3</td>\n",
       "    </tr>\n",
       "  </tbody>\n",
       "</table>\n",
       "</div>"
      ],
      "text/plain": [
       "   one  two\n",
       "b    2    2\n",
       "c    3    3"
      ]
     },
     "execution_count": 25,
     "metadata": {},
     "output_type": "execute_result"
    }
   ],
   "source": [
    "df.ix[df.one > 1]"
   ]
  },
  {
   "cell_type": "markdown",
   "metadata": {},
   "source": [
    "There are many ways to select and rearrange the data contained in a pandas object. Some indexing options can be seen in below table:\n",
    "\n",
    "|Indexing Type| Description|\n",
    "|:---|:---|\n",
    "|df[val] | Select single column or sequence of columns from the DataFrame. Special case con- veniences: boolean array (filter rows), slice (slice rows), or boolean DataFrame (set values based on some criterion).|\n",
    "|df.ix[val] | Selects single row of subset of rows from the DataFrame.|\n",
    "|df.ix[:, val] | Selects single column of subset of columns.|\n",
    "|df.ix[val1, val2] | Select both rows and columns.|\n",
    "|reindex method | Conform one or more axes to new indexes.|\n",
    "|xs method | Select single row or column as a Series by label.|\n",
    "|icol, irowmethods | Select single column or row, respectively, as a Series by integer location.|\n",
    "|get_value, set_value methods | Select single value by row and column label.|"
   ]
  },
  {
   "cell_type": "markdown",
   "metadata": {},
   "source": [
    "You can sort a data frame or series (by some criteria) using the built-in functions. To sort lexicographically by row or column index, use the sort_index method, which returns a new, sorted object:"
   ]
  },
  {
   "cell_type": "code",
   "execution_count": 26,
   "metadata": {
    "collapsed": false
   },
   "outputs": [
    {
     "name": "stdout",
     "output_type": "stream",
     "text": [
      "Original Data: \n",
      "g    6\n",
      "c    9\n",
      "a    9\n",
      "b    5\n",
      "e    3\n",
      "d    8\n",
      "f    7\n",
      "dtype: int64\n",
      "Sorted by Index: \n",
      "a    9\n",
      "b    5\n",
      "c    9\n",
      "d    8\n",
      "e    3\n",
      "f    7\n",
      "g    6\n",
      "dtype: int64\n"
     ]
    }
   ],
   "source": [
    "dt = pd.Series(np.random.randint(3, 10, size=7), index=['g','c','a','b','e','d','f'])\n",
    "print 'Original Data: \\n', dt\n",
    "print 'Sorted by Index: \\n',dt.sort_index()"
   ]
  },
  {
   "cell_type": "markdown",
   "metadata": {},
   "source": [
    "## Data alignment and arithmetic\n",
    "Data alignment between DataFrame objects automatically align on both the columns and the index (row labels). The resulting object will have the union of the column and row labels."
   ]
  },
  {
   "cell_type": "code",
   "execution_count": 27,
   "metadata": {
    "collapsed": false
   },
   "outputs": [
    {
     "name": "stdout",
     "output_type": "stream",
     "text": [
      "df1:\n",
      "          A         B         C         D\n",
      "0 -1.869235  0.114255  0.816411 -0.297434\n",
      "1  0.112815  0.660802  1.037941  0.576426\n",
      "2  1.041494 -0.078062 -0.972924 -0.568679\n",
      "3 -2.785414  1.578352  0.924656  0.226743\n",
      "4 -0.429171  0.321302  0.183773  0.850985\n",
      "5 -0.536632  0.500795  1.429295 -1.099967\n",
      "6  0.592204  0.392437  0.174914 -0.009833\n",
      "7  0.425151  0.453137 -1.347765  1.300194\n",
      "8  0.081314 -0.324954  0.347301  1.892119\n",
      "9  1.738767  1.396856  0.326706 -0.741861\n",
      "df2:\n",
      "          A         B         C\n",
      "0 -0.074048  0.530960 -1.013815\n",
      "1  0.709423 -0.953860 -0.270428\n",
      "2  0.215185  1.276945 -1.479264\n",
      "3 -1.376585 -0.417693  0.039363\n",
      "4  0.305415  0.403303  1.495533\n",
      "5  1.983297 -0.363862  1.657616\n",
      "6  0.673487  1.211236 -0.347881\n",
      "Sum:\n",
      "          A         B         C   D\n",
      "0 -1.943283  0.645215 -0.197403 NaN\n",
      "1  0.822238 -0.293058  0.767512 NaN\n",
      "2  1.256679  1.198883 -2.452188 NaN\n",
      "3 -4.161999  1.160658  0.964019 NaN\n",
      "4 -0.123756  0.724605  1.679306 NaN\n",
      "5  1.446665  0.136932  3.086912 NaN\n",
      "6  1.265692  1.603673 -0.172967 NaN\n",
      "7       NaN       NaN       NaN NaN\n",
      "8       NaN       NaN       NaN NaN\n",
      "9       NaN       NaN       NaN NaN\n"
     ]
    }
   ],
   "source": [
    "df1 = pd.DataFrame(np.random.randn(10, 4), columns=['A', 'B', 'C', 'D'])\n",
    "df2 = pd.DataFrame(np.random.randn(7, 3), columns=['A', 'B', 'C'])\n",
    "print 'df1:\\n',df1\n",
    "print 'df2:\\n',df2\n",
    "print 'Sum:\\n',df1.add(df2)"
   ]
  },
  {
   "cell_type": "markdown",
   "metadata": {},
   "source": [
    "Note that in arithmetic operations between differently-indexed objects, you might want to fill with a special value, like 0, when an axis label is found in one object but not the other:"
   ]
  },
  {
   "cell_type": "code",
   "execution_count": 28,
   "metadata": {
    "collapsed": false
   },
   "outputs": [
    {
     "name": "stdout",
     "output_type": "stream",
     "text": [
      "Sum:\n",
      "          A         B         C         D\n",
      "0 -1.943283  0.645215 -0.197403 -0.297434\n",
      "1  0.822238 -0.293058  0.767512  0.576426\n",
      "2  1.256679  1.198883 -2.452188 -0.568679\n",
      "3 -4.161999  1.160658  0.964019  0.226743\n",
      "4 -0.123756  0.724605  1.679306  0.850985\n",
      "5  1.446665  0.136932  3.086912 -1.099967\n",
      "6  1.265692  1.603673 -0.172967 -0.009833\n",
      "7  0.425151  0.453137 -1.347765  1.300194\n",
      "8  0.081314 -0.324954  0.347301  1.892119\n",
      "9  1.738767  1.396856  0.326706 -0.741861\n"
     ]
    }
   ],
   "source": [
    "print 'Sum:\\n',df1.add(df2, fill_value=0)"
   ]
  },
  {
   "cell_type": "markdown",
   "metadata": {},
   "source": [
    "Similarly you can perform subtracion, multiplication and division. \n",
    "\n",
    "When doing an operation between DataFrame and Series, the default behavior is to align the Series index on the DataFrame columns, thus broadcasting (just like in numpy) row-wise."
   ]
  },
  {
   "cell_type": "code",
   "execution_count": 29,
   "metadata": {
    "collapsed": false
   },
   "outputs": [
    {
     "name": "stdout",
     "output_type": "stream",
     "text": [
      "A   -1.869235\n",
      "B    0.114255\n",
      "C    0.816411\n",
      "D   -0.297434\n",
      "Name: 0, dtype: float64\n",
      "Sum: \n",
      "          A         B         C         D\n",
      "0  0.000000  0.000000  0.000000  0.000000\n",
      "1  1.982050  0.546547  0.221530  0.873859\n",
      "2  2.910729 -0.192316 -1.789335 -0.271245\n",
      "3 -0.916179  1.464097  0.108245  0.524177\n",
      "4  1.440064  0.207047 -0.632639  1.148418\n",
      "5  1.332603  0.386540  0.612884 -0.802533\n",
      "6  2.461440  0.278182 -0.641497  0.287601\n",
      "7  2.294386  0.338882 -2.164176  1.597627\n",
      "8  1.950549 -0.439209 -0.469110  2.189553\n",
      "9  3.608003  1.282602 -0.489706 -0.444427\n"
     ]
    }
   ],
   "source": [
    "print df1.loc[0]\n",
    "print 'Sum: \\n',df1.sub(df1.loc[0])"
   ]
  },
  {
   "cell_type": "markdown",
   "metadata": {},
   "source": [
    "In the special case of working with time series data, and the DataFrame index also contains dates, the broadcasting will be column-wise:"
   ]
  },
  {
   "cell_type": "code",
   "execution_count": 30,
   "metadata": {
    "collapsed": false
   },
   "outputs": [
    {
     "data": {
      "text/html": [
       "<div>\n",
       "<table border=\"1\" class=\"dataframe\">\n",
       "  <thead>\n",
       "    <tr style=\"text-align: right;\">\n",
       "      <th></th>\n",
       "      <th>A</th>\n",
       "      <th>B</th>\n",
       "      <th>C</th>\n",
       "      <th>D</th>\n",
       "    </tr>\n",
       "  </thead>\n",
       "  <tbody>\n",
       "    <tr>\n",
       "      <th>2015-08-01</th>\n",
       "      <td>-1.869235</td>\n",
       "      <td>0.114255</td>\n",
       "      <td>0.816411</td>\n",
       "      <td>-0.297434</td>\n",
       "    </tr>\n",
       "    <tr>\n",
       "      <th>2015-08-02</th>\n",
       "      <td>0.112815</td>\n",
       "      <td>0.660802</td>\n",
       "      <td>1.037941</td>\n",
       "      <td>0.576426</td>\n",
       "    </tr>\n",
       "    <tr>\n",
       "      <th>2015-08-03</th>\n",
       "      <td>1.041494</td>\n",
       "      <td>-0.078062</td>\n",
       "      <td>-0.972924</td>\n",
       "      <td>-0.568679</td>\n",
       "    </tr>\n",
       "    <tr>\n",
       "      <th>2015-08-04</th>\n",
       "      <td>-2.785414</td>\n",
       "      <td>1.578352</td>\n",
       "      <td>0.924656</td>\n",
       "      <td>0.226743</td>\n",
       "    </tr>\n",
       "    <tr>\n",
       "      <th>2015-08-05</th>\n",
       "      <td>-0.429171</td>\n",
       "      <td>0.321302</td>\n",
       "      <td>0.183773</td>\n",
       "      <td>0.850985</td>\n",
       "    </tr>\n",
       "    <tr>\n",
       "      <th>2015-08-06</th>\n",
       "      <td>-0.536632</td>\n",
       "      <td>0.500795</td>\n",
       "      <td>1.429295</td>\n",
       "      <td>-1.099967</td>\n",
       "    </tr>\n",
       "    <tr>\n",
       "      <th>2015-08-07</th>\n",
       "      <td>0.592204</td>\n",
       "      <td>0.392437</td>\n",
       "      <td>0.174914</td>\n",
       "      <td>-0.009833</td>\n",
       "    </tr>\n",
       "    <tr>\n",
       "      <th>2015-08-08</th>\n",
       "      <td>0.425151</td>\n",
       "      <td>0.453137</td>\n",
       "      <td>-1.347765</td>\n",
       "      <td>1.300194</td>\n",
       "    </tr>\n",
       "    <tr>\n",
       "      <th>2015-08-09</th>\n",
       "      <td>0.081314</td>\n",
       "      <td>-0.324954</td>\n",
       "      <td>0.347301</td>\n",
       "      <td>1.892119</td>\n",
       "    </tr>\n",
       "    <tr>\n",
       "      <th>2015-08-10</th>\n",
       "      <td>1.738767</td>\n",
       "      <td>1.396856</td>\n",
       "      <td>0.326706</td>\n",
       "      <td>-0.741861</td>\n",
       "    </tr>\n",
       "  </tbody>\n",
       "</table>\n",
       "</div>"
      ],
      "text/plain": [
       "                   A         B         C         D\n",
       "2015-08-01 -1.869235  0.114255  0.816411 -0.297434\n",
       "2015-08-02  0.112815  0.660802  1.037941  0.576426\n",
       "2015-08-03  1.041494 -0.078062 -0.972924 -0.568679\n",
       "2015-08-04 -2.785414  1.578352  0.924656  0.226743\n",
       "2015-08-05 -0.429171  0.321302  0.183773  0.850985\n",
       "2015-08-06 -0.536632  0.500795  1.429295 -1.099967\n",
       "2015-08-07  0.592204  0.392437  0.174914 -0.009833\n",
       "2015-08-08  0.425151  0.453137 -1.347765  1.300194\n",
       "2015-08-09  0.081314 -0.324954  0.347301  1.892119\n",
       "2015-08-10  1.738767  1.396856  0.326706 -0.741861"
      ]
     },
     "execution_count": 30,
     "metadata": {},
     "output_type": "execute_result"
    }
   ],
   "source": [
    "ind1 = pd.date_range('08/1/2015', periods=10)\n",
    "df1.set_index(ind1)"
   ]
  },
  {
   "cell_type": "markdown",
   "metadata": {},
   "source": [
    "## Using Numpy functions on DataFrame\n",
    "Elementwise NumPy `ufuncs` like `log`, `exp`, `sqrt`, ... and various other NumPy functions can be used on DataFrame"
   ]
  },
  {
   "cell_type": "code",
   "execution_count": 31,
   "metadata": {
    "collapsed": false
   },
   "outputs": [
    {
     "data": {
      "text/html": [
       "<div>\n",
       "<table border=\"1\" class=\"dataframe\">\n",
       "  <thead>\n",
       "    <tr style=\"text-align: right;\">\n",
       "      <th></th>\n",
       "      <th>A</th>\n",
       "      <th>B</th>\n",
       "      <th>C</th>\n",
       "      <th>D</th>\n",
       "    </tr>\n",
       "  </thead>\n",
       "  <tbody>\n",
       "    <tr>\n",
       "      <th>0</th>\n",
       "      <td>1.869235</td>\n",
       "      <td>0.114255</td>\n",
       "      <td>0.816411</td>\n",
       "      <td>0.297434</td>\n",
       "    </tr>\n",
       "    <tr>\n",
       "      <th>1</th>\n",
       "      <td>0.112815</td>\n",
       "      <td>0.660802</td>\n",
       "      <td>1.037941</td>\n",
       "      <td>0.576426</td>\n",
       "    </tr>\n",
       "    <tr>\n",
       "      <th>2</th>\n",
       "      <td>1.041494</td>\n",
       "      <td>0.078062</td>\n",
       "      <td>0.972924</td>\n",
       "      <td>0.568679</td>\n",
       "    </tr>\n",
       "    <tr>\n",
       "      <th>3</th>\n",
       "      <td>2.785414</td>\n",
       "      <td>1.578352</td>\n",
       "      <td>0.924656</td>\n",
       "      <td>0.226743</td>\n",
       "    </tr>\n",
       "    <tr>\n",
       "      <th>4</th>\n",
       "      <td>0.429171</td>\n",
       "      <td>0.321302</td>\n",
       "      <td>0.183773</td>\n",
       "      <td>0.850985</td>\n",
       "    </tr>\n",
       "    <tr>\n",
       "      <th>5</th>\n",
       "      <td>0.536632</td>\n",
       "      <td>0.500795</td>\n",
       "      <td>1.429295</td>\n",
       "      <td>1.099967</td>\n",
       "    </tr>\n",
       "    <tr>\n",
       "      <th>6</th>\n",
       "      <td>0.592204</td>\n",
       "      <td>0.392437</td>\n",
       "      <td>0.174914</td>\n",
       "      <td>0.009833</td>\n",
       "    </tr>\n",
       "    <tr>\n",
       "      <th>7</th>\n",
       "      <td>0.425151</td>\n",
       "      <td>0.453137</td>\n",
       "      <td>1.347765</td>\n",
       "      <td>1.300194</td>\n",
       "    </tr>\n",
       "    <tr>\n",
       "      <th>8</th>\n",
       "      <td>0.081314</td>\n",
       "      <td>0.324954</td>\n",
       "      <td>0.347301</td>\n",
       "      <td>1.892119</td>\n",
       "    </tr>\n",
       "    <tr>\n",
       "      <th>9</th>\n",
       "      <td>1.738767</td>\n",
       "      <td>1.396856</td>\n",
       "      <td>0.326706</td>\n",
       "      <td>0.741861</td>\n",
       "    </tr>\n",
       "  </tbody>\n",
       "</table>\n",
       "</div>"
      ],
      "text/plain": [
       "          A         B         C         D\n",
       "0  1.869235  0.114255  0.816411  0.297434\n",
       "1  0.112815  0.660802  1.037941  0.576426\n",
       "2  1.041494  0.078062  0.972924  0.568679\n",
       "3  2.785414  1.578352  0.924656  0.226743\n",
       "4  0.429171  0.321302  0.183773  0.850985\n",
       "5  0.536632  0.500795  1.429295  1.099967\n",
       "6  0.592204  0.392437  0.174914  0.009833\n",
       "7  0.425151  0.453137  1.347765  1.300194\n",
       "8  0.081314  0.324954  0.347301  1.892119\n",
       "9  1.738767  1.396856  0.326706  0.741861"
      ]
     },
     "execution_count": 31,
     "metadata": {},
     "output_type": "execute_result"
    }
   ],
   "source": [
    "np.abs(df1)"
   ]
  },
  {
   "cell_type": "code",
   "execution_count": 32,
   "metadata": {
    "collapsed": false
   },
   "outputs": [
    {
     "data": {
      "text/plain": [
       "array([[-1.86923522,  0.11425481,  0.81641128, -0.29743373],\n",
       "       [ 0.11281503,  0.66080205,  1.03794085,  0.57642562],\n",
       "       [ 1.04149359, -0.07806151, -0.97292403, -0.56867919],\n",
       "       [-2.78541399,  1.57835165,  0.92465601,  0.22674327],\n",
       "       [-0.4291715 ,  0.32130162,  0.18377266,  0.8509845 ],\n",
       "       [-0.53663223,  0.5007948 ,  1.42929534, -1.09996685],\n",
       "       [ 0.59220433,  0.39243689,  0.17491424, -0.00983318],\n",
       "       [ 0.42515075,  0.4531367 , -1.34776521,  1.30019367],\n",
       "       [ 0.08131366, -0.32495414,  0.34730131,  1.89211945],\n",
       "       [ 1.73876733,  1.39685642,  0.32670562, -0.74186091]])"
      ]
     },
     "execution_count": 32,
     "metadata": {},
     "output_type": "execute_result"
    }
   ],
   "source": [
    "np.asarray(df1)  # Convert input to numpy array"
   ]
  },
  {
   "cell_type": "markdown",
   "metadata": {},
   "source": [
    "Another frequent operation is applying a function on 1D arrays to each column or row. DataFrame’s apply method does exactly this:"
   ]
  },
  {
   "cell_type": "code",
   "execution_count": 33,
   "metadata": {
    "collapsed": false
   },
   "outputs": [
    {
     "data": {
      "text/html": [
       "<div>\n",
       "<table border=\"1\" class=\"dataframe\">\n",
       "  <thead>\n",
       "    <tr style=\"text-align: right;\">\n",
       "      <th></th>\n",
       "      <th>A</th>\n",
       "      <th>B</th>\n",
       "      <th>C</th>\n",
       "      <th>D</th>\n",
       "    </tr>\n",
       "  </thead>\n",
       "  <tbody>\n",
       "    <tr>\n",
       "      <th>min</th>\n",
       "      <td>-2.785414</td>\n",
       "      <td>-0.324954</td>\n",
       "      <td>-1.347765</td>\n",
       "      <td>-1.099967</td>\n",
       "    </tr>\n",
       "    <tr>\n",
       "      <th>max</th>\n",
       "      <td>1.738767</td>\n",
       "      <td>1.578352</td>\n",
       "      <td>1.429295</td>\n",
       "      <td>1.892119</td>\n",
       "    </tr>\n",
       "  </tbody>\n",
       "</table>\n",
       "</div>"
      ],
      "text/plain": [
       "            A         B         C         D\n",
       "min -2.785414 -0.324954 -1.347765 -1.099967\n",
       "max  1.738767  1.578352  1.429295  1.892119"
      ]
     },
     "execution_count": 33,
     "metadata": {},
     "output_type": "execute_result"
    }
   ],
   "source": [
    "def fn(x):\n",
    "    return pd.Series([x.min(), x.max()], index=['min', 'max'])  # Get max and min of the columns\n",
    "\n",
    "#fn = lambda x: x - x.min()  # Subtract the minimum of the column from each element of that column\n",
    "df1.apply(fn)"
   ]
  },
  {
   "cell_type": "markdown",
   "metadata": {},
   "source": [
    "Element-wise Python functions can be used, too. Suppose you wanted to format the dataframe elements in floating point format with accuracy of only 3 decimal places. You can do this with applymap:"
   ]
  },
  {
   "cell_type": "code",
   "execution_count": 34,
   "metadata": {
    "collapsed": false
   },
   "outputs": [
    {
     "data": {
      "text/html": [
       "<div>\n",
       "<table border=\"1\" class=\"dataframe\">\n",
       "  <thead>\n",
       "    <tr style=\"text-align: right;\">\n",
       "      <th></th>\n",
       "      <th>A</th>\n",
       "      <th>B</th>\n",
       "      <th>C</th>\n",
       "      <th>D</th>\n",
       "    </tr>\n",
       "  </thead>\n",
       "  <tbody>\n",
       "    <tr>\n",
       "      <th>0</th>\n",
       "      <td>-1.869</td>\n",
       "      <td>0.114</td>\n",
       "      <td>0.816</td>\n",
       "      <td>-0.297</td>\n",
       "    </tr>\n",
       "    <tr>\n",
       "      <th>1</th>\n",
       "      <td>0.113</td>\n",
       "      <td>0.661</td>\n",
       "      <td>1.038</td>\n",
       "      <td>0.576</td>\n",
       "    </tr>\n",
       "    <tr>\n",
       "      <th>2</th>\n",
       "      <td>1.041</td>\n",
       "      <td>-0.078</td>\n",
       "      <td>-0.973</td>\n",
       "      <td>-0.569</td>\n",
       "    </tr>\n",
       "    <tr>\n",
       "      <th>3</th>\n",
       "      <td>-2.785</td>\n",
       "      <td>1.578</td>\n",
       "      <td>0.925</td>\n",
       "      <td>0.227</td>\n",
       "    </tr>\n",
       "    <tr>\n",
       "      <th>4</th>\n",
       "      <td>-0.429</td>\n",
       "      <td>0.321</td>\n",
       "      <td>0.184</td>\n",
       "      <td>0.851</td>\n",
       "    </tr>\n",
       "    <tr>\n",
       "      <th>5</th>\n",
       "      <td>-0.537</td>\n",
       "      <td>0.501</td>\n",
       "      <td>1.429</td>\n",
       "      <td>-1.100</td>\n",
       "    </tr>\n",
       "    <tr>\n",
       "      <th>6</th>\n",
       "      <td>0.592</td>\n",
       "      <td>0.392</td>\n",
       "      <td>0.175</td>\n",
       "      <td>-0.010</td>\n",
       "    </tr>\n",
       "    <tr>\n",
       "      <th>7</th>\n",
       "      <td>0.425</td>\n",
       "      <td>0.453</td>\n",
       "      <td>-1.348</td>\n",
       "      <td>1.300</td>\n",
       "    </tr>\n",
       "    <tr>\n",
       "      <th>8</th>\n",
       "      <td>0.081</td>\n",
       "      <td>-0.325</td>\n",
       "      <td>0.347</td>\n",
       "      <td>1.892</td>\n",
       "    </tr>\n",
       "    <tr>\n",
       "      <th>9</th>\n",
       "      <td>1.739</td>\n",
       "      <td>1.397</td>\n",
       "      <td>0.327</td>\n",
       "      <td>-0.742</td>\n",
       "    </tr>\n",
       "  </tbody>\n",
       "</table>\n",
       "</div>"
      ],
      "text/plain": [
       "        A       B       C       D\n",
       "0  -1.869   0.114   0.816  -0.297\n",
       "1   0.113   0.661   1.038   0.576\n",
       "2   1.041  -0.078  -0.973  -0.569\n",
       "3  -2.785   1.578   0.925   0.227\n",
       "4  -0.429   0.321   0.184   0.851\n",
       "5  -0.537   0.501   1.429  -1.100\n",
       "6   0.592   0.392   0.175  -0.010\n",
       "7   0.425   0.453  -1.348   1.300\n",
       "8   0.081  -0.325   0.347   1.892\n",
       "9   1.739   1.397   0.327  -0.742"
      ]
     },
     "execution_count": 34,
     "metadata": {},
     "output_type": "execute_result"
    }
   ],
   "source": [
    "fmt = lambda x: \"{:.3f}\".format(x)\n",
    "df1.applymap(fmt)"
   ]
  },
  {
   "cell_type": "markdown",
   "metadata": {},
   "source": [
    "> The reason for the name `applymap` is that Series has a `map` method for applying an element-wise function"
   ]
  },
  {
   "cell_type": "markdown",
   "metadata": {},
   "source": [
    "## Loading Data\n",
    "You can read data from a CSV file using the read_csv function. By default, it assumes that the fields are comma-separated.\n",
    "Pandas supports following file formats:\n",
    "\n",
    "|Function| Description|\n",
    "|:---|:---|\n",
    "|read_csv | Load delimited data from a file, URL, or file-like object. Use comma as default delimiter|\n",
    "|read_table | Load delimited data from a file, URL, or file-like object. Use tab ('\\t') as default delimiter|\n",
    "|read_fwf | Read data in fixed-width column format (that is, no delimiters)|\n",
    "|read_clipboard | Version of read_table that reads data from the clipboard. Useful for converting tables from web pages.|\n",
    "\n",
    "\n",
    "Let's try loading some citibike data that you used for your challenge \\#2 using pandas. (We will also use the same technique later on for loading big file like the one you had to use for Core Challenge). If you do not have the csv file from Challenge \\#2, you can download it again from here: [`Dec-2week-2014.csv`](http://sharmamohit.com/misc_files/dec-2week-2014.csv 'dec-2week-2014')\n"
   ]
  },
  {
   "cell_type": "code",
   "execution_count": 35,
   "metadata": {
    "collapsed": false
   },
   "outputs": [
    {
     "data": {
      "text/html": [
       "<div>\n",
       "<table border=\"1\" class=\"dataframe\">\n",
       "  <thead>\n",
       "    <tr style=\"text-align: right;\">\n",
       "      <th></th>\n",
       "      <th>tripduration</th>\n",
       "      <th>start station id</th>\n",
       "      <th>start station latitude</th>\n",
       "      <th>start station longitude</th>\n",
       "      <th>end station id</th>\n",
       "      <th>end station latitude</th>\n",
       "      <th>end station longitude</th>\n",
       "      <th>bikeid</th>\n",
       "      <th>birth year</th>\n",
       "      <th>gender</th>\n",
       "    </tr>\n",
       "  </thead>\n",
       "  <tbody>\n",
       "    <tr>\n",
       "      <th>count</th>\n",
       "      <td>192260.000000</td>\n",
       "      <td>192260.000000</td>\n",
       "      <td>192260.000000</td>\n",
       "      <td>192260.000000</td>\n",
       "      <td>192260.000000</td>\n",
       "      <td>192260.000000</td>\n",
       "      <td>192260.000000</td>\n",
       "      <td>192260.000000</td>\n",
       "      <td>187314.000000</td>\n",
       "      <td>192260.000000</td>\n",
       "    </tr>\n",
       "    <tr>\n",
       "      <th>mean</th>\n",
       "      <td>746.854666</td>\n",
       "      <td>436.637116</td>\n",
       "      <td>40.735708</td>\n",
       "      <td>-73.990421</td>\n",
       "      <td>437.083829</td>\n",
       "      <td>40.735578</td>\n",
       "      <td>-73.990647</td>\n",
       "      <td>18141.270124</td>\n",
       "      <td>1975.495451</td>\n",
       "      <td>1.169874</td>\n",
       "    </tr>\n",
       "    <tr>\n",
       "      <th>std</th>\n",
       "      <td>2997.200035</td>\n",
       "      <td>318.126922</td>\n",
       "      <td>0.018599</td>\n",
       "      <td>0.011611</td>\n",
       "      <td>321.761738</td>\n",
       "      <td>0.018638</td>\n",
       "      <td>0.011726</td>\n",
       "      <td>2061.113390</td>\n",
       "      <td>11.737892</td>\n",
       "      <td>0.439104</td>\n",
       "    </tr>\n",
       "    <tr>\n",
       "      <th>min</th>\n",
       "      <td>60.000000</td>\n",
       "      <td>72.000000</td>\n",
       "      <td>40.680342</td>\n",
       "      <td>-74.017134</td>\n",
       "      <td>72.000000</td>\n",
       "      <td>40.680342</td>\n",
       "      <td>-74.017134</td>\n",
       "      <td>14529.000000</td>\n",
       "      <td>1899.000000</td>\n",
       "      <td>0.000000</td>\n",
       "    </tr>\n",
       "    <tr>\n",
       "      <th>25%</th>\n",
       "      <td>348.000000</td>\n",
       "      <td>307.000000</td>\n",
       "      <td>40.724055</td>\n",
       "      <td>-73.998393</td>\n",
       "      <td>307.000000</td>\n",
       "      <td>40.723627</td>\n",
       "      <td>-73.999061</td>\n",
       "      <td>16387.000000</td>\n",
       "      <td>1967.000000</td>\n",
       "      <td>1.000000</td>\n",
       "    </tr>\n",
       "    <tr>\n",
       "      <th>50%</th>\n",
       "      <td>529.000000</td>\n",
       "      <td>417.000000</td>\n",
       "      <td>40.737262</td>\n",
       "      <td>-73.990617</td>\n",
       "      <td>414.000000</td>\n",
       "      <td>40.737050</td>\n",
       "      <td>-73.990741</td>\n",
       "      <td>18135.000000</td>\n",
       "      <td>1977.000000</td>\n",
       "      <td>1.000000</td>\n",
       "    </tr>\n",
       "    <tr>\n",
       "      <th>75%</th>\n",
       "      <td>816.000000</td>\n",
       "      <td>491.000000</td>\n",
       "      <td>40.750380</td>\n",
       "      <td>-73.981948</td>\n",
       "      <td>490.000000</td>\n",
       "      <td>40.750200</td>\n",
       "      <td>-73.981948</td>\n",
       "      <td>19911.000000</td>\n",
       "      <td>1985.000000</td>\n",
       "      <td>1.000000</td>\n",
       "    </tr>\n",
       "    <tr>\n",
       "      <th>max</th>\n",
       "      <td>732149.000000</td>\n",
       "      <td>3002.000000</td>\n",
       "      <td>40.771522</td>\n",
       "      <td>-73.950048</td>\n",
       "      <td>3002.000000</td>\n",
       "      <td>40.771522</td>\n",
       "      <td>-73.950048</td>\n",
       "      <td>21690.000000</td>\n",
       "      <td>1998.000000</td>\n",
       "      <td>2.000000</td>\n",
       "    </tr>\n",
       "  </tbody>\n",
       "</table>\n",
       "</div>"
      ],
      "text/plain": [
       "        tripduration  start station id  start station latitude  \\\n",
       "count  192260.000000     192260.000000           192260.000000   \n",
       "mean      746.854666        436.637116               40.735708   \n",
       "std      2997.200035        318.126922                0.018599   \n",
       "min        60.000000         72.000000               40.680342   \n",
       "25%       348.000000        307.000000               40.724055   \n",
       "50%       529.000000        417.000000               40.737262   \n",
       "75%       816.000000        491.000000               40.750380   \n",
       "max    732149.000000       3002.000000               40.771522   \n",
       "\n",
       "       start station longitude  end station id  end station latitude  \\\n",
       "count            192260.000000   192260.000000         192260.000000   \n",
       "mean                -73.990421      437.083829             40.735578   \n",
       "std                   0.011611      321.761738              0.018638   \n",
       "min                 -74.017134       72.000000             40.680342   \n",
       "25%                 -73.998393      307.000000             40.723627   \n",
       "50%                 -73.990617      414.000000             40.737050   \n",
       "75%                 -73.981948      490.000000             40.750200   \n",
       "max                 -73.950048     3002.000000             40.771522   \n",
       "\n",
       "       end station longitude         bikeid     birth year         gender  \n",
       "count          192260.000000  192260.000000  187314.000000  192260.000000  \n",
       "mean              -73.990647   18141.270124    1975.495451       1.169874  \n",
       "std                 0.011726    2061.113390      11.737892       0.439104  \n",
       "min               -74.017134   14529.000000    1899.000000       0.000000  \n",
       "25%               -73.999061   16387.000000    1967.000000       1.000000  \n",
       "50%               -73.990741   18135.000000    1977.000000       1.000000  \n",
       "75%               -73.981948   19911.000000    1985.000000       1.000000  \n",
       "max               -73.950048   21690.000000    1998.000000       2.000000  "
      ]
     },
     "execution_count": 35,
     "metadata": {},
     "output_type": "execute_result"
    }
   ],
   "source": [
    "dec = pd.read_csv('dec-2week-2014.csv')\n",
    "dec.describe()"
   ]
  },
  {
   "cell_type": "markdown",
   "metadata": {},
   "source": [
    "As we can see, the `describe()` method produces some very useful statistics about the csv data that we loaded. \n",
    "\n",
    "The parser functions have many additional arguments to help you handle the wide variety of exception file formats that occur \n",
    "\n",
    "|Argument|Description|\n",
    "|:---|:---|\n",
    "|`path` | String indicating filesystem location, URL, or file-like object|\n",
    "|`sep` or `delimiter` | Character sequence or regular expression to use to split fields in each row|\n",
    "|`header` | Row number to use as column names. Defaults to 0 (first row), but should be None if there is no header row|\n",
    "|`index_col`| Column numbers or names to use as the row index in the result. Can be a single name/number or a list of them for a hierarchical index|\n",
    "|`names`| List of column names for result, combine with header=None|\n",
    "|`skiprows`| Number of rows at beginning of file to ignore or list of row numbers (starting from 0) to skip \n",
    "|`na_values`| Sequence of values to replace with NA|\n",
    "|`comment`| Character or characters to split comments off the end of lines|\n",
    "|`parse_dates`| Attempt to parse data to datetime; False by default. If True, will attempt to parse all columns. Otherwise can specify a list of column numbers or name to parse. If element of list is tuple or list, will combine multiple columns together and parse to date (for example if date/time split across two columns)|\n",
    "|`keep_date_col`| If joining columns to parse date, drop the joined columns. Default True|\n",
    "|`converters`| Dict containing column number of name mapping to functions. For example {'foo': f} would apply the function f to all values in the 'foo' column|\n",
    "|`dayfirst`| When parsing potentially ambiguous dates, treat as international format (e.g. 7/6/2012 -> June 7, 2012). Default False|\n",
    "|`date_parser`| Function to use to parse dates|\n",
    "|`nrows`| Number of rows to read from beginning of file|\n",
    "|`iterator`| Return a TextParser object for reading file piecemeal|\n",
    "|`chunksize`| For iteration, size of file chunks|\n",
    "|`skip_footer`| Number of lines to ignore at end of file|\n",
    "|`verbose`| Print various parser output information, like the number of missing values placed in non-numeric columns|\n",
    "|`encoding`| Text encoding for unicode. For example 'utf-8' for UTF-8 encoded text|\n",
    "|`squeeze`| If the parsed data only contains one column return a Series|\n",
    "|`thousands`| Separator for thousands, e.g. ',' or '.'|\n",
    "\n",
    "> ** If you have a file that is comparatively huge in size and you see that pandas or numpy(genfromtxt or loadfromtxt) is struggling to load it then pandas provide an iterator that can be used. The arguments with `pd.read_csv()` would be something like (along with any other arguments as required):**\n",
    "```\n",
    "data_iter = pd.read_csv(infile, iterator=True, chunksize=1000, )  # This returns iterator with chunk of 1000 rows.\n",
    "data = pd.concat(data_iter)\n",
    "```"
   ]
  },
  {
   "cell_type": "code",
   "execution_count": 36,
   "metadata": {
    "collapsed": false
   },
   "outputs": [
    {
     "data": {
      "text/html": [
       "<div>\n",
       "<table border=\"1\" class=\"dataframe\">\n",
       "  <thead>\n",
       "    <tr style=\"text-align: right;\">\n",
       "      <th></th>\n",
       "      <th>tripduration</th>\n",
       "      <th>starttime</th>\n",
       "      <th>stoptime</th>\n",
       "      <th>start station id</th>\n",
       "      <th>start station name</th>\n",
       "      <th>start station latitude</th>\n",
       "      <th>start station longitude</th>\n",
       "      <th>end station id</th>\n",
       "      <th>end station name</th>\n",
       "      <th>end station latitude</th>\n",
       "      <th>end station longitude</th>\n",
       "      <th>bikeid</th>\n",
       "      <th>usertype</th>\n",
       "      <th>birth year</th>\n",
       "      <th>gender</th>\n",
       "    </tr>\n",
       "  </thead>\n",
       "  <tbody>\n",
       "    <tr>\n",
       "      <th>0</th>\n",
       "      <td>1257</td>\n",
       "      <td>12/1/2014 00:00:28</td>\n",
       "      <td>12/1/2014 00:21:25</td>\n",
       "      <td>475</td>\n",
       "      <td>E 16 St &amp; Irving Pl</td>\n",
       "      <td>40.735243</td>\n",
       "      <td>-73.987586</td>\n",
       "      <td>521</td>\n",
       "      <td>8 Ave &amp; W 31 St</td>\n",
       "      <td>40.750450</td>\n",
       "      <td>-73.994811</td>\n",
       "      <td>16047</td>\n",
       "      <td>Customer</td>\n",
       "      <td>NaN</td>\n",
       "      <td>0</td>\n",
       "    </tr>\n",
       "    <tr>\n",
       "      <th>1</th>\n",
       "      <td>275</td>\n",
       "      <td>12/1/2014 00:00:43</td>\n",
       "      <td>12/1/2014 00:05:18</td>\n",
       "      <td>498</td>\n",
       "      <td>Broadway &amp; W 32 St</td>\n",
       "      <td>40.748549</td>\n",
       "      <td>-73.988084</td>\n",
       "      <td>546</td>\n",
       "      <td>E 30 St &amp; Park Ave S</td>\n",
       "      <td>40.744449</td>\n",
       "      <td>-73.983035</td>\n",
       "      <td>18472</td>\n",
       "      <td>Subscriber</td>\n",
       "      <td>1988</td>\n",
       "      <td>2</td>\n",
       "    </tr>\n",
       "    <tr>\n",
       "      <th>2</th>\n",
       "      <td>450</td>\n",
       "      <td>12/1/2014 00:01:22</td>\n",
       "      <td>12/1/2014 00:08:52</td>\n",
       "      <td>444</td>\n",
       "      <td>Broadway &amp; W 24 St</td>\n",
       "      <td>40.742354</td>\n",
       "      <td>-73.989151</td>\n",
       "      <td>434</td>\n",
       "      <td>9 Ave &amp; W 18 St</td>\n",
       "      <td>40.743174</td>\n",
       "      <td>-74.003664</td>\n",
       "      <td>19589</td>\n",
       "      <td>Subscriber</td>\n",
       "      <td>1983</td>\n",
       "      <td>1</td>\n",
       "    </tr>\n",
       "  </tbody>\n",
       "</table>\n",
       "</div>"
      ],
      "text/plain": [
       "   tripduration           starttime            stoptime  start station id  \\\n",
       "0          1257  12/1/2014 00:00:28  12/1/2014 00:21:25               475   \n",
       "1           275  12/1/2014 00:00:43  12/1/2014 00:05:18               498   \n",
       "2           450  12/1/2014 00:01:22  12/1/2014 00:08:52               444   \n",
       "\n",
       "    start station name  start station latitude  start station longitude  \\\n",
       "0  E 16 St & Irving Pl               40.735243               -73.987586   \n",
       "1   Broadway & W 32 St               40.748549               -73.988084   \n",
       "2   Broadway & W 24 St               40.742354               -73.989151   \n",
       "\n",
       "   end station id      end station name  end station latitude  \\\n",
       "0             521       8 Ave & W 31 St             40.750450   \n",
       "1             546  E 30 St & Park Ave S             40.744449   \n",
       "2             434       9 Ave & W 18 St             40.743174   \n",
       "\n",
       "   end station longitude  bikeid    usertype  birth year  gender  \n",
       "0             -73.994811   16047    Customer         NaN       0  \n",
       "1             -73.983035   18472  Subscriber        1988       2  \n",
       "2             -74.003664   19589  Subscriber        1983       1  "
      ]
     },
     "execution_count": 36,
     "metadata": {},
     "output_type": "execute_result"
    }
   ],
   "source": [
    "dec[:3]"
   ]
  },
  {
   "cell_type": "code",
   "execution_count": 37,
   "metadata": {
    "collapsed": false
   },
   "outputs": [
    {
     "data": {
      "text/plain": [
       "str"
      ]
     },
     "execution_count": 37,
     "metadata": {},
     "output_type": "execute_result"
    }
   ],
   "source": [
    "type(dec['starttime'].values[0])"
   ]
  },
  {
   "cell_type": "markdown",
   "metadata": {},
   "source": [
    "From above example, we can see that the `starttime` column is parsed as a string. We need to parse the dates as a datetime object so we can perform some datetime related computation. \n",
    "\n",
    "Pandas provide an excellent and easy way to parse the column with date and/or time as a datetime object. To do that, you simply need to proide the read_csv function with `parse_dates` with column name that has date (and/or time)."
   ]
  },
  {
   "cell_type": "code",
   "execution_count": 38,
   "metadata": {
    "collapsed": false
   },
   "outputs": [
    {
     "data": {
      "text/plain": [
       "numpy.datetime64"
      ]
     },
     "execution_count": 38,
     "metadata": {},
     "output_type": "execute_result"
    }
   ],
   "source": [
    "dec = pd.read_csv('dec-2week-2014.csv', parse_dates=['starttime'])\n",
    "type(dec['starttime'].values[0])"
   ]
  },
  {
   "cell_type": "markdown",
   "metadata": {},
   "source": [
    "The above option works perfectly fine and as we can see the `starttime` column now has `numpy.datetime64` objects. You have to provide `parse_date` with the column that has the date (and/or time) information. This uses Pandas `dateutil.parser.parser` to do the conversion. \n",
    "\n",
    "Pandas will try to call `date_parser` in three different ways, advancing to the next if an exception occurs: \n",
    "\n",
    "1. Pass one or more arrays (as defined by `parse_dates`) as arguments.\n",
    "\n",
    "2. Concatenate (row-wise) the string values from the columns defined by parse_dates into a single array and pass that; \n",
    "\n",
    "3. Call `date_parser` once for each row using one or more strings (corresponding to the columns defined by `parse_dates`) as arguments.\n",
    "\n",
    "Now this works fine but it consumes (comparatively) quite a lot of time. If you know the format of your date and is consistent then you can create a function to do the conversion and pass it to `date_parser`. `date_parser` will basically pass every element of the column specified in `parse_dates` to the function and let your function manually convert it to `datetime` object. This reduces the computation time.  (This is a good time to check it for yourself. use the ipython's magic function `%timeit`)\n",
    "\n",
    "> Once you start parsing huge files for dates, you might have to write your own cython functions. Do not worry about cython for now. But for the curious heads, check how to improve performance of pandas.. [`http://pandas.pydata.org/pandas-docs/stable/enhancingperf.html`](http://pandas.pydata.org/pandas-docs/stable/enhancingperf.html 'Enhancing Performance of Pandas')"
   ]
  },
  {
   "cell_type": "code",
   "execution_count": 39,
   "metadata": {
    "collapsed": false
   },
   "outputs": [],
   "source": [
    "from datetime import datetime\n",
    "from matplotlib import dates\n",
    "dt_parse = lambda x: datetime.strptime(x, '%m/%d/%Y %H:%M:%S')\n",
    "dec = pd.read_csv('dec-2week-2014.csv', parse_dates=['starttime'], date_parser=dt_parse, index_col='starttime')"
   ]
  },
  {
   "cell_type": "code",
   "execution_count": 40,
   "metadata": {
    "collapsed": false
   },
   "outputs": [
    {
     "data": {
      "image/png": "[encoded data removed]",
      "text/plain": [
       "<matplotlib.figure.Figure at 0x1132e12d0>"
      ]
     },
     "metadata": {},
     "output_type": "display_data"
    }
   ],
   "source": [
    "ax = dec['tripduration'].plot(kind='area', stacked=False, figsize=(12, 8), color='#3F5D7D')"
   ]
  },
  {
   "cell_type": "markdown",
   "metadata": {},
   "source": [
    "> In the above example, I have also used the `starttime` as my index column. Also `plot()` function returns `matplotlib.axes._subplots.AxesSubplot` so you can play around with the plot before showing it. Refer to our `matplotlib` notes to use some ways to plot it better.\n",
    "\n",
    ">> A quick example:\n",
    "```\n",
    "dt = pd.date_range(start=dec.index[0], end=dec.index[-1], freq='D')\n",
    "ax = dec['tripduration'].plot(kind='area', stacked=False, figsize=(12, 8), xticks=dt)\n",
    "ax.xaxis.set_minor_locator(dates.HourLocator(interval=12))\n",
    "ax.xaxis.grid(True, which=\"major\", linestyle='--')\n",
    "ax.xaxis.grid(True, which=\"minor\")\n",
    "ax.yaxis.grid(True, which=\"major\")\n",
    "ax.xaxis.set_major_formatter(dates.DateFormatter('%b %d'))\n",
    "```\n",
    "\n",
    "Pandas makes it really easy to select a subset of the columns: just index with list of columns you want."
   ]
  },
  {
   "cell_type": "code",
   "execution_count": 41,
   "metadata": {
    "collapsed": false
   },
   "outputs": [
    {
     "data": {
      "text/html": [
       "<div>\n",
       "<table border=\"1\" class=\"dataframe\">\n",
       "  <thead>\n",
       "    <tr style=\"text-align: right;\">\n",
       "      <th></th>\n",
       "      <th>start station id</th>\n",
       "      <th>end station id</th>\n",
       "    </tr>\n",
       "    <tr>\n",
       "      <th>starttime</th>\n",
       "      <th></th>\n",
       "      <th></th>\n",
       "    </tr>\n",
       "  </thead>\n",
       "  <tbody>\n",
       "    <tr>\n",
       "      <th>2014-12-01 00:00:28</th>\n",
       "      <td>475</td>\n",
       "      <td>521</td>\n",
       "    </tr>\n",
       "    <tr>\n",
       "      <th>2014-12-01 00:00:43</th>\n",
       "      <td>498</td>\n",
       "      <td>546</td>\n",
       "    </tr>\n",
       "    <tr>\n",
       "      <th>2014-12-01 00:01:22</th>\n",
       "      <td>444</td>\n",
       "      <td>434</td>\n",
       "    </tr>\n",
       "    <tr>\n",
       "      <th>2014-12-01 00:02:17</th>\n",
       "      <td>475</td>\n",
       "      <td>521</td>\n",
       "    </tr>\n",
       "    <tr>\n",
       "      <th>2014-12-01 00:02:21</th>\n",
       "      <td>519</td>\n",
       "      <td>527</td>\n",
       "    </tr>\n",
       "  </tbody>\n",
       "</table>\n",
       "</div>"
      ],
      "text/plain": [
       "                     start station id  end station id\n",
       "starttime                                            \n",
       "2014-12-01 00:00:28               475             521\n",
       "2014-12-01 00:00:43               498             546\n",
       "2014-12-01 00:01:22               444             434\n",
       "2014-12-01 00:02:17               475             521\n",
       "2014-12-01 00:02:21               519             527"
      ]
     },
     "execution_count": 41,
     "metadata": {},
     "output_type": "execute_result"
    }
   ],
   "source": [
    "dec[['start station id', 'end station id']][:5]"
   ]
  },
  {
   "cell_type": "markdown",
   "metadata": {},
   "source": [
    "Another very common question that can be asked is.. just of curiosity, which bike was used the most in these 15days.. and the answer is.. "
   ]
  },
  {
   "cell_type": "code",
   "execution_count": 42,
   "metadata": {
    "collapsed": false
   },
   "outputs": [
    {
     "data": {
      "text/plain": [
       "18440    118\n",
       "19977    115\n",
       "19846    110\n",
       "19757    108\n",
       "19494    105\n",
       "dtype: int64"
      ]
     },
     "execution_count": 42,
     "metadata": {},
     "output_type": "execute_result"
    }
   ],
   "source": [
    "dec['bikeid'].value_counts()[:5]  # Top 5 bikes by id"
   ]
  },
  {
   "cell_type": "markdown",
   "metadata": {},
   "source": [
    "Also, just for fun, lets plot this!"
   ]
  },
  {
   "cell_type": "code",
   "execution_count": 43,
   "metadata": {
    "collapsed": false
   },
   "outputs": [
    {
     "data": {
      "text/plain": [
       "<matplotlib.axes._subplots.AxesSubplot at 0x115146710>"
      ]
     },
     "execution_count": 43,
     "metadata": {},
     "output_type": "execute_result"
    },
    {
     "data": {
      "image/png": "[encoded data removed]",
      "text/plain": [
       "<matplotlib.figure.Figure at 0x115146210>"
      ]
     },
     "metadata": {},
     "output_type": "display_data"
    }
   ],
   "source": [
    "famous_bikes = dec['bikeid'].value_counts()\n",
    "famous_bikes[:10][::-1].plot(kind='barh', alpha=0.5, color='#3F5D7D')"
   ]
  },
  {
   "cell_type": "markdown",
   "metadata": {},
   "source": [
    "------------\n",
    "\n",
    "------------\n",
    "<h1 align='center'> End Note </h1>"
   ]
  },
  {
   "cell_type": "markdown",
   "metadata": {},
   "source": [
    "Remember, this is just the tip of the iceberg of what functions Pandas provide. Pandas combined with Numpy and Matplotlib gives you an ultimate tool for almost all your Data Analysis needs. \n",
    "\n",
    "> Because of the high majority of the votes to not introduce Pandas, I have created this concise version of otherwise what would have been a 3 part course. \n",
    "\n",
    "**It is highly recommended to check out some tutorials below for more information on Pandas:**\n",
    "\n",
    "[`Pandas own 10 minute to Pandas`](http://pandas.pydata.org/pandas-docs/stable/10min.html#min '10 minutes to pandas')\n",
    "\n",
    "[`Hernan Rojas's Learn Pandas`](https://bitbucket.org/hrojas/learn-pandas 'hrojas's Learn Pandas')\n",
    "\n",
    "[`Pandas Cookbook`](http://pandas.pydata.org/pandas-docs/stable/cookbook.html#cookbook 'Pandas Cookbook')\n",
    "\n",
    "[`Brandon Rhodes's Exercise and Solutions`](https://github.com/brandon-rhodes/pycon-pandas-tutorial 'Brandon Rhodes Exercise and Solutions')\n",
    "\n",
    "[`Greg Reda's Blog`](http://www.gregreda.com/2013/10/26/intro-to-pandas-data-structures/ 'Greg Redas blog on Pandas')\n",
    "\n",
    "\n",
    "**You can also find many PyCon talks:**\n",
    "\n",
    "*PyCon 2015:*\n",
    "\n",
    "[`Brandon Rhodes's Pandas from Ground up`](https://www.youtube.com/watch?v=5JnMutdy6Fw 'Pandas from Ground Up')\n",
    "\n",
    "**PyVideo Videos**:\n",
    "\n",
    "[`Some Videos from pyvideo.org on Pandas`](http://pyvideo.org/search?q=pandas 'PyVideo Pandas')\n"
   ]
  }
 ],
 "metadata": {
  "kernelspec": {
   "display_name": "Python 2",
   "language": "python",
   "name": "python2"
  },
  "language_info": {
   "codemirror_mode": {
    "name": "ipython",
    "version": 2
   },
   "file_extension": ".py",
   "mimetype": "text/x-python",
   "name": "python",
   "nbconvert_exporter": "python",
   "pygments_lexer": "ipython2",
   "version": "2.7.10"
  }
 },
 "nbformat": 4,
 "nbformat_minor": 0
}
