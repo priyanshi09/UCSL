{
 "cells": [
  {
   "cell_type": "markdown",
   "metadata": {},
   "source": [
    "<h1 align='center'> Challenge 5 </h1>\n",
    "### Submission Date: August 29 2016\n",
    "\n",
    "### Instructions:\n",
    "#### 1. Create a New Notebook in ucsl sub-directory in your home directory. (After you login to jupyter hub, select homedirs, then select your net id and create a directory by the name ucsl, if it doesn't exist).\n",
    "#### 2. Name of your notebook should be \"Challenge_5_Solutions\" (without the quotes) and answer the challenges in it.\n",
    "#### 3. If you name your notebook anything other than above, you will not be graded.\n",
    "#### 4. Try not to miss the deadline. If you miss the deadline, let the TA know. Your finall score will be affected!\n",
    "#### 5. Plagiarism will not be tolerated."
   ]
  },
  {
   "cell_type": "markdown",
   "metadata": {},
   "source": [
    "# 1. \n",
    "Find a minimum of the function $f(x)=x^3/3-2x^2+3x+1$ on an interval $[0, 3.5]$.\n"
   ]
  },
  {
   "cell_type": "markdown",
   "metadata": {},
   "source": [
    "# 2.\n",
    "Find a minimum of the function $f(x,y)=x^4+y^4-x^2 y+x y^2$ numerically starting at the initial point $x=1, y=0$ (feel free to reuse the code from the lecture notebook). See how different choices of the initial point might affect the results (report any other point of local minima which the solution can return)."
   ]
  },
  {
   "cell_type": "code",
   "execution_count": null,
   "metadata": {
    "collapsed": true
   },
   "outputs": [],
   "source": []
  },
  {
   "cell_type": "markdown",
   "metadata": {},
   "source": [
    "Optimization problem:\n",
    "$$\n",
    "F(x)\\to min(max)\n",
    "$$\n",
    "\n",
    "$$\n",
    "x^*=argmin(max)_X F(x)\n",
    "$$\n",
    "\n",
    "Common family of iterative optimization methods is known as \"gradient descent\":\n",
    "\n",
    "$$\n",
    "x^{j+1}=x^j-(+)\\lambda_j \\triangledown F(x^j),\n",
    "$$\n",
    "\n",
    "where $\\nabla F(x)$ denotes a gradient vector of $F$ in the point $x$, while $\\lambda_j$ are certain real positive numbers picked up with respect to $F(x^{j+1})<(>)F(x^j)$.\n",
    "\n",
    "### Optimization example. \n",
    "Consider several points on the map and look for a such a centroid location that sum of distances from it to the given points is minimal:\n",
    "$$\n",
    "\\sum\\limits_i \\sqrt{(x_i-x^*)^2+(y_i-y^*)^2}\\to min\n",
    "$$"
   ]
  },
  {
   "cell_type": "code",
   "execution_count": null,
   "metadata": {
    "collapsed": true
   },
   "outputs": [],
   "source": []
  }
 ],
 "metadata": {
  "kernelspec": {
   "display_name": "Python 2",
   "language": "python",
   "name": "python2"
  },
  "language_info": {
   "codemirror_mode": {
    "name": "ipython",
    "version": 2
   },
   "file_extension": ".py",
   "mimetype": "text/x-python",
   "name": "python",
   "nbconvert_exporter": "python",
   "pygments_lexer": "ipython2",
   "version": "2.7.11"
  }
 },
 "nbformat": 4,
 "nbformat_minor": 0
}
