{
 "cells": [
  {
   "cell_type": "markdown",
   "metadata": {},
   "source": [
    "<h1 align='center'>Importing Modules and Packages</h1>"
   ]
  },
  {
   "cell_type": "markdown",
   "metadata": {},
   "source": [
    "If you quit the ipython terminal or python interpreter, the functions and variables are lost. What if you want to access them in your other programs or at a later point of time?(You don't expect to complete your projects in a day do you?) Therefore you are better of using a text editor to prepare the input for the interpreter and running it with that file as input. This file is known as script. Now, you might have written several programs and some of them require a function that you wrote in a script for some other project. You want to use that handy function! There is no point in `Ctrl+C` and `Ctrl+V` for all these programs. To support this, python has a way to use these functions or definitions by using import."
   ]
  },
  {
   "cell_type": "markdown",
   "metadata": {},
   "source": [
    "## What is a Module?\n",
    "\n",
    "A module is a python file that (generally) has only definitions of variables, functions and classes. It can also have executable statements if you'd like. A module allows you to logically organize your python code. Grouping related code in a module makes the code easier to understand and use. The module can have components that are imported from other modules."
   ]
  },
  {
   "cell_type": "markdown",
   "metadata": {},
   "source": [
    "## Import Statement\n",
    "\n",
    "It is customary (and we have followed this in a couple of examples) to place all the import statements at the beginning of the module. Let's create a python file with functions that will perform addition, subtraction, multiplication and division of two numbers:"
   ]
  },
  {
   "cell_type": "code",
   "execution_count": 1,
   "metadata": {
    "collapsed": true
   },
   "outputs": [],
   "source": [
    "# Create a file by name my_calc.py in your current directory and write this code:\n",
    "def mul(a ,b):\n",
    "    return a * b\n",
    "\n",
    "def div(a, b):\n",
    "    return a / b\n",
    "\n",
    "def add(a, b):\n",
    "    return a + b\n",
    "\n",
    "def sub(a, b):\n",
    "    return a - b"
   ]
  },
  {
   "cell_type": "markdown",
   "metadata": {},
   "source": [
    "Now we shall import the file and just use the functions directly. Fire up your ipython terminals in the current directory."
   ]
  },
  {
   "cell_type": "code",
   "execution_count": 2,
   "metadata": {
    "collapsed": true
   },
   "outputs": [],
   "source": [
    "import my_calc  # Import our above module"
   ]
  },
  {
   "cell_type": "code",
   "execution_count": 3,
   "metadata": {
    "collapsed": true
   },
   "outputs": [],
   "source": [
    "sum = my_calc.add(123, 456)  # Use add function"
   ]
  },
  {
   "cell_type": "code",
   "execution_count": 4,
   "metadata": {
    "collapsed": false
   },
   "outputs": [
    {
     "name": "stdout",
     "output_type": "stream",
     "text": [
      "Sum =  579\n"
     ]
    }
   ],
   "source": [
    "print 'Sum = ',sum"
   ]
  },
  {
   "cell_type": "markdown",
   "metadata": {},
   "source": [
    "You can use any python source file as a module by executing an import statement in some other python source file, just like we did. A module is loaded only once regardless of the number of times it is imported. So if you made any error in writing the file/ module that you are trying to import in ipython session, you will have to reload the module in the current ipython session.\n",
    "\n",
    "When the python interpreter encounters an import statement it looks for the module name in the built-in modules first. if not found, it then searches for a file by the module's name in a list of directories that are given by variable PYTHONPATH (it is an environment variable which is basically a list of directory names) and it looks for the file in the current directory. If it fails everywhere then it goes and looks on the default path. On linux/ unix the default path is normally /usr/local/lib/python"
   ]
  },
  {
   "cell_type": "markdown",
   "metadata": {},
   "source": [
    "## from .. import ..\n",
    "\n",
    "To preserve your current namespace, python's from statement let's you import only specific attributes to your current namespace. Let's take a look at how this works. We will use our same my_calc.py file as a file that we are importing.\n",
    "\n"
   ]
  },
  {
   "cell_type": "code",
   "execution_count": 5,
   "metadata": {
    "collapsed": true
   },
   "outputs": [],
   "source": [
    "from my_calc import div"
   ]
  },
  {
   "cell_type": "code",
   "execution_count": 6,
   "metadata": {
    "collapsed": false
   },
   "outputs": [
    {
     "name": "stdout",
     "output_type": "stream",
     "text": [
      "Division =  0.857142857143\n"
     ]
    }
   ],
   "source": [
    "division = div (6, 7.)\n",
    "print 'Division = ',division"
   ]
  },
  {
   "cell_type": "code",
   "execution_count": 7,
   "metadata": {
    "collapsed": false
   },
   "outputs": [
    {
     "name": "stdout",
     "output_type": "stream",
     "text": [
      "Division = 0.86\n"
     ]
    }
   ],
   "source": [
    "# Let's print only upto 2 decimal places.. Remember how to do it?\n",
    "divison = div(6,7.)\n",
    "print 'Division = {0:.2f}'.format(divison)"
   ]
  },
  {
   "cell_type": "markdown",
   "metadata": {},
   "source": [
    "Using for statement does not import the entire file (or module) into the current namespace, it just introduced the item div from the module into our namespace. You might be wondering what if your file has many functions, you will go crazy writing so many import statements! Well.. it is also possible to import all names or definitions from a module into the current namespace by using for statement."
   ]
  },
  {
   "cell_type": "code",
   "execution_count": 8,
   "metadata": {
    "collapsed": true
   },
   "outputs": [],
   "source": [
    "from my_calc import *  # * means everything/ all"
   ]
  },
  {
   "cell_type": "code",
   "execution_count": 9,
   "metadata": {
    "collapsed": true
   },
   "outputs": [],
   "source": [
    "division = div (6, 7.)"
   ]
  },
  {
   "cell_type": "code",
   "execution_count": 10,
   "metadata": {
    "collapsed": false
   },
   "outputs": [
    {
     "name": "stdout",
     "output_type": "stream",
     "text": [
      "Division =  0.857142857143\n"
     ]
    }
   ],
   "source": [
    "print 'Division = ',division"
   ]
  },
  {
   "cell_type": "markdown",
   "metadata": {},
   "source": [
    "--------\n",
    "## Exercise\n",
    "\n",
    "- Using python's built-in module sys, try to find the path for directories in which python will look for the modules. (Hint: Use  ? or `shift+Tab` for methods in sys and see if it does what you want it to)\n",
    "\n",
    "\n",
    "- Find out the names or definitions that you have defined currently. Next, find the names or definitions of the module that you are trying to import. "
   ]
  }
 ],
 "metadata": {
  "kernelspec": {
   "display_name": "Python 2",
   "language": "python",
   "name": "python2"
  },
  "language_info": {
   "codemirror_mode": {
    "name": "ipython",
    "version": 2
   },
   "file_extension": ".py",
   "mimetype": "text/x-python",
   "name": "python",
   "nbconvert_exporter": "python",
   "pygments_lexer": "ipython2",
   "version": "2.7.11"
  }
 },
 "nbformat": 4,
 "nbformat_minor": 0
}
