{
 "cells": [
  {
   "cell_type": "markdown",
   "metadata": {},
   "source": [
    "<h1 align='center'>Python Pickle</h1>"
   ]
  },
  {
   "cell_type": "markdown",
   "metadata": {},
   "source": [
    "Pickle module implements an algorithm for turning your Python object into a series of bytes by the process of serialization. Before we can jump into the unique feature of pickling, lets understand what serialization means.\n",
    "\n",
    "Serialization is the process of converting a data structure or object state into a format that can be stored and resurrected later in the same or another computer environment. During resurrection, when the series of bytes is reread according to the serialization algorithm, it can be used to create a semantically identical clone of the original object. This process of serializing an object is also called as deflating an object. The opposite operation, as you must've guessed, is called inflating. You can read more about serialization on [`wikipedia`](https://en.wikipedia.org/wiki/Serialization 'Serialization').\n",
    "\n",
    "In python, the bulk of pickle module is written in C. It can store arbitrary complex python data structures however since it stores python objects, it is very highly unsafe as it can contain malicious data. So remember, pickle is good if only you create your pickle file locally and do not share it with some one. \n",
    "\n",
    "Now lets see some of the datatypes that pickle can store:\n",
    "\n",
    "- All the native datatypes that python supports such as booleans, integers, complex numbers, strings etc \n",
    "- Collections such as lists, tuples, dictionaries containing any combination of native datatypes.\n",
    "- Lists, Dictionaries and Tuples containing Nested combinations of ...... you get it!\n",
    "- Methods, Functions, Classes, Instances etc.\n",
    "\n",
    "## Constructing Pickle data:\n",
    "\n",
    "Lets jump directly into code and I will explain as we go."
   ]
  },
  {
   "cell_type": "code",
   "execution_count": 1,
   "metadata": {
    "collapsed": true
   },
   "outputs": [],
   "source": [
    "student = {}\n",
    "student['name'] = 'Jack'\n",
    "student['course'] = 'Urban Skills Lab'\n",
    "student['enrolled'] = True\n",
    "student['misc'] = ('full-time', )"
   ]
  },
  {
   "cell_type": "markdown",
   "metadata": {},
   "source": [
    "In the above example, we have created a student dictionary. Now lets save the above dictionary to a pickle file\n",
    "\n",
    "## Saving data as Pickle:"
   ]
  },
  {
   "cell_type": "code",
   "execution_count": 2,
   "metadata": {
    "collapsed": true
   },
   "outputs": [],
   "source": [
    "import pickle\n",
    "try:\n",
    "    with open('test_pickle.pkl', 'wb') as f:\n",
    "        pickle.dump(student, f)\n",
    "except IOError, e:\n",
    "    print 'IOError: ',e"
   ]
  },
  {
   "cell_type": "markdown",
   "metadata": {},
   "source": [
    "Did you check out a new way to open file object for writing? With this technique, you don't have to worry about closing the file_object. As soon as the while loop is broken, the file_object will automatically be closed. (Think why?)\n",
    "Ok, so the dump() method in pickle module takes the serializable python data structure, serializes it into a binary and save it to the file. Now lets try loading the data. To make sure it works, lets open an new ipython terminal or just close your current session and reopen it fresh."
   ]
  },
  {
   "cell_type": "markdown",
   "metadata": {},
   "source": [
    "## Loading Data from Pickle file"
   ]
  },
  {
   "cell_type": "code",
   "execution_count": 3,
   "metadata": {
    "collapsed": false
   },
   "outputs": [
    {
     "data": {
      "text/plain": [
       "{'course': 'Urban Skills Lab',\n",
       " 'enrolled': True,\n",
       " 'misc': ('full-time',),\n",
       " 'name': 'Jack'}"
      ]
     },
     "execution_count": 3,
     "metadata": {},
     "output_type": "execute_result"
    }
   ],
   "source": [
    "import pickle\n",
    "try:\n",
    "    with open('test_pickle.pkl', 'rb') as f:\n",
    "        s = pickle.load(f)\n",
    "except IOError, e:\n",
    "    print 'IOError: ',e\n",
    "\n",
    "s\n"
   ]
  },
  {
   "cell_type": "markdown",
   "metadata": {},
   "source": [
    "And voila! a new data structure is created with the data structure that is equal to the original data structure.\n",
    "\n",
    "This technique only works when you are working in python. If you want this to be compatible with other programming languages then you will have to take a look at other serialization format like JSON. \n",
    "This is beyond the scope of the subject and is left as a self-assignment for interested students."
   ]
  }
 ],
 "metadata": {
  "kernelspec": {
   "display_name": "Python 2",
   "language": "python",
   "name": "python2"
  },
  "language_info": {
   "codemirror_mode": {
    "name": "ipython",
    "version": 2
   },
   "file_extension": ".py",
   "mimetype": "text/x-python",
   "name": "python",
   "nbconvert_exporter": "python",
   "pygments_lexer": "ipython2",
   "version": "2.7.9"
  }
 },
 "nbformat": 4,
 "nbformat_minor": 0
}
